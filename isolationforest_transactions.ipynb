{
 "cells": [
  {
   "cell_type": "markdown",
   "metadata": {},
   "source": [
    "## Anomaly Detection with Isolation Forest"
   ]
  },
  {
   "cell_type": "markdown",
   "metadata": {},
   "source": [
    "### Import Packages"
   ]
  },
  {
   "cell_type": "code",
   "execution_count": 1,
   "metadata": {},
   "outputs": [],
   "source": [
    "import numpy as np\n",
    "import pandas as pd\n",
    "import seaborn as sns\n",
    "import matplotlib.pyplot as plt\n",
    "from sklearn.decomposition import PCA\n",
    "from sklearn.impute import SimpleImputer\n",
    "from sklearn.ensemble import IsolationForest\n",
    "from mlxtend.frequent_patterns import apriori\n",
    "from sklearn.preprocessing import StandardScaler\n",
    "from sklearn.ensemble import RandomForestRegressor\n",
    "from sklearn.model_selection import train_test_split\n",
    "%matplotlib inline\n",
    "\n",
    "pd.options.display.float_format = '{:,.2f}'.format\n",
    "plt.rcParams[\"figure.figsize\"] = (25,18)"
   ]
  },
  {
   "cell_type": "markdown",
   "metadata": {},
   "source": [
    "### Import Data"
   ]
  },
  {
   "cell_type": "code",
   "execution_count": 2,
   "metadata": {},
   "outputs": [
    {
     "data": {
      "text/html": [
       "<div>\n",
       "<style scoped>\n",
       "    .dataframe tbody tr th:only-of-type {\n",
       "        vertical-align: middle;\n",
       "    }\n",
       "\n",
       "    .dataframe tbody tr th {\n",
       "        vertical-align: top;\n",
       "    }\n",
       "\n",
       "    .dataframe thead th {\n",
       "        text-align: right;\n",
       "    }\n",
       "</style>\n",
       "<table border=\"1\" class=\"dataframe\">\n",
       "  <thead>\n",
       "    <tr style=\"text-align: right;\">\n",
       "      <th></th>\n",
       "      <th>Time</th>\n",
       "      <th>ACCT_NUM</th>\n",
       "      <th>MO_NUM</th>\n",
       "      <th>ORG_NAME</th>\n",
       "      <th>SHARE_CLASS</th>\n",
       "      <th>TRANSACTION_CLASS</th>\n",
       "      <th>COMP_TYPE</th>\n",
       "      <th>TRANSACTION_TYPE</th>\n",
       "      <th>AMOUNT</th>\n",
       "      <th>ZIP_CODE</th>\n",
       "      <th>CLIENT_SEGMENT</th>\n",
       "      <th>ADVISOR_CLASS</th>\n",
       "    </tr>\n",
       "  </thead>\n",
       "  <tbody>\n",
       "    <tr>\n",
       "      <th>0</th>\n",
       "      <td>1</td>\n",
       "      <td>1000126</td>\n",
       "      <td>201701</td>\n",
       "      <td>Lincoln Financial Advisors Corporation</td>\n",
       "      <td>U1</td>\n",
       "      <td>Retail</td>\n",
       "      <td>Commissions</td>\n",
       "      <td>Exchange In</td>\n",
       "      <td>14374899</td>\n",
       "      <td>60565</td>\n",
       "      <td>Cross Channel</td>\n",
       "      <td>Home Office</td>\n",
       "    </tr>\n",
       "    <tr>\n",
       "      <th>1</th>\n",
       "      <td>2</td>\n",
       "      <td>1000126</td>\n",
       "      <td>201701</td>\n",
       "      <td>Wells Fargo Advisors Private Client Group</td>\n",
       "      <td>R-6</td>\n",
       "      <td>Retail</td>\n",
       "      <td>Percent AUM</td>\n",
       "      <td>Redemption</td>\n",
       "      <td>41360988</td>\n",
       "      <td>92016</td>\n",
       "      <td>Retirement Plan</td>\n",
       "      <td>Team</td>\n",
       "    </tr>\n",
       "    <tr>\n",
       "      <th>2</th>\n",
       "      <td>3</td>\n",
       "      <td>1000124</td>\n",
       "      <td>201701</td>\n",
       "      <td>Merrill Lynch Pierce Fenner and Smith Inc</td>\n",
       "      <td>A</td>\n",
       "      <td>Insurance</td>\n",
       "      <td>Commissions</td>\n",
       "      <td>Sales</td>\n",
       "      <td>72848968</td>\n",
       "      <td>60565</td>\n",
       "      <td>Cross Channel</td>\n",
       "      <td>Team</td>\n",
       "    </tr>\n",
       "    <tr>\n",
       "      <th>3</th>\n",
       "      <td>4</td>\n",
       "      <td>1000122</td>\n",
       "      <td>201701</td>\n",
       "      <td>Morgan Stanley Smith Barney LLC</td>\n",
       "      <td>R-1</td>\n",
       "      <td>Retail</td>\n",
       "      <td>Performance Based</td>\n",
       "      <td>Sales</td>\n",
       "      <td>86306659</td>\n",
       "      <td>90210</td>\n",
       "      <td>Retirement Plan</td>\n",
       "      <td>Team</td>\n",
       "    </tr>\n",
       "    <tr>\n",
       "      <th>4</th>\n",
       "      <td>5</td>\n",
       "      <td>1000121</td>\n",
       "      <td>201701</td>\n",
       "      <td>Wells Fargo Advisors Private Client Group</td>\n",
       "      <td>A</td>\n",
       "      <td>Insurance</td>\n",
       "      <td>Fixed Fee</td>\n",
       "      <td>Exchange In</td>\n",
       "      <td>22503066</td>\n",
       "      <td>90210</td>\n",
       "      <td>Financial Conglomerate</td>\n",
       "      <td>Rep</td>\n",
       "    </tr>\n",
       "  </tbody>\n",
       "</table>\n",
       "</div>"
      ],
      "text/plain": [
       "   Time ACCT_NUM  MO_NUM                                   ORG_NAME  \\\n",
       "0     1  1000126  201701     Lincoln Financial Advisors Corporation   \n",
       "1     2  1000126  201701  Wells Fargo Advisors Private Client Group   \n",
       "2     3  1000124  201701  Merrill Lynch Pierce Fenner and Smith Inc   \n",
       "3     4  1000122  201701            Morgan Stanley Smith Barney LLC   \n",
       "4     5  1000121  201701  Wells Fargo Advisors Private Client Group   \n",
       "\n",
       "  SHARE_CLASS TRANSACTION_CLASS          COMP_TYPE TRANSACTION_TYPE    AMOUNT  \\\n",
       "0          U1            Retail        Commissions      Exchange In  14374899   \n",
       "1         R-6            Retail        Percent AUM       Redemption  41360988   \n",
       "2           A         Insurance        Commissions            Sales  72848968   \n",
       "3         R-1            Retail  Performance Based            Sales  86306659   \n",
       "4           A         Insurance          Fixed Fee      Exchange In  22503066   \n",
       "\n",
       "  ZIP_CODE          CLIENT_SEGMENT ADVISOR_CLASS  \n",
       "0    60565           Cross Channel   Home Office  \n",
       "1    92016         Retirement Plan          Team  \n",
       "2    60565           Cross Channel          Team  \n",
       "3    90210         Retirement Plan          Team  \n",
       "4    90210  Financial Conglomerate           Rep  "
      ]
     },
     "execution_count": 2,
     "metadata": {},
     "output_type": "execute_result"
    }
   ],
   "source": [
    "df = pd.io.parsers.read_csv('Transactions.csv', dtype={'ACCT_NUM':'str',\n",
    "                                                       'MO_NUM':'str',\n",
    "                                                       'ZIP_CODE': 'str'})\n",
    "df.head()"
   ]
  },
  {
   "cell_type": "markdown",
   "metadata": {},
   "source": [
    "#### Data Exploration"
   ]
  },
  {
   "cell_type": "code",
   "execution_count": 3,
   "metadata": {},
   "outputs": [
    {
     "name": "stdout",
     "output_type": "stream",
     "text": [
      "12\n"
     ]
    }
   ],
   "source": [
    "headers = df.columns.values\n",
    "print(len(headers))"
   ]
  },
  {
   "cell_type": "code",
   "execution_count": 4,
   "metadata": {},
   "outputs": [
    {
     "name": "stdout",
     "output_type": "stream",
     "text": [
      "<class 'pandas.core.frame.DataFrame'>\n",
      "RangeIndex: 2834 entries, 0 to 2833\n",
      "Data columns (total 12 columns):\n",
      "Time                 2834 non-null int64\n",
      "ACCT_NUM             2834 non-null object\n",
      "MO_NUM               2834 non-null object\n",
      "ORG_NAME             2834 non-null object\n",
      "SHARE_CLASS          2834 non-null object\n",
      "TRANSACTION_CLASS    2834 non-null object\n",
      "COMP_TYPE            2834 non-null object\n",
      "TRANSACTION_TYPE     2834 non-null object\n",
      "AMOUNT               2834 non-null int64\n",
      "ZIP_CODE             2834 non-null object\n",
      "CLIENT_SEGMENT       2834 non-null object\n",
      "ADVISOR_CLASS        2834 non-null object\n",
      "dtypes: int64(2), object(10)\n",
      "memory usage: 265.8+ KB\n"
     ]
    }
   ],
   "source": [
    "df.info()"
   ]
  },
  {
   "cell_type": "code",
   "execution_count": 5,
   "metadata": {},
   "outputs": [
    {
     "data": {
      "text/html": [
       "<div>\n",
       "<style scoped>\n",
       "    .dataframe tbody tr th:only-of-type {\n",
       "        vertical-align: middle;\n",
       "    }\n",
       "\n",
       "    .dataframe tbody tr th {\n",
       "        vertical-align: top;\n",
       "    }\n",
       "\n",
       "    .dataframe thead th {\n",
       "        text-align: right;\n",
       "    }\n",
       "</style>\n",
       "<table border=\"1\" class=\"dataframe\">\n",
       "  <thead>\n",
       "    <tr style=\"text-align: right;\">\n",
       "      <th></th>\n",
       "      <th>Time</th>\n",
       "      <th>AMOUNT</th>\n",
       "    </tr>\n",
       "  </thead>\n",
       "  <tbody>\n",
       "    <tr>\n",
       "      <th>count</th>\n",
       "      <td>2,834.00</td>\n",
       "      <td>2,834.00</td>\n",
       "    </tr>\n",
       "    <tr>\n",
       "      <th>mean</th>\n",
       "      <td>1,417.50</td>\n",
       "      <td>50,932,860.55</td>\n",
       "    </tr>\n",
       "    <tr>\n",
       "      <th>std</th>\n",
       "      <td>818.25</td>\n",
       "      <td>28,556,440.23</td>\n",
       "    </tr>\n",
       "    <tr>\n",
       "      <th>min</th>\n",
       "      <td>1.00</td>\n",
       "      <td>1,033,442.00</td>\n",
       "    </tr>\n",
       "    <tr>\n",
       "      <th>25%</th>\n",
       "      <td>709.25</td>\n",
       "      <td>26,250,794.50</td>\n",
       "    </tr>\n",
       "    <tr>\n",
       "      <th>50%</th>\n",
       "      <td>1,417.50</td>\n",
       "      <td>51,172,807.00</td>\n",
       "    </tr>\n",
       "    <tr>\n",
       "      <th>75%</th>\n",
       "      <td>2,125.75</td>\n",
       "      <td>76,148,493.50</td>\n",
       "    </tr>\n",
       "    <tr>\n",
       "      <th>max</th>\n",
       "      <td>2,834.00</td>\n",
       "      <td>99,968,349.00</td>\n",
       "    </tr>\n",
       "  </tbody>\n",
       "</table>\n",
       "</div>"
      ],
      "text/plain": [
       "          Time        AMOUNT\n",
       "count 2,834.00      2,834.00\n",
       "mean  1,417.50 50,932,860.55\n",
       "std     818.25 28,556,440.23\n",
       "min       1.00  1,033,442.00\n",
       "25%     709.25 26,250,794.50\n",
       "50%   1,417.50 51,172,807.00\n",
       "75%   2,125.75 76,148,493.50\n",
       "max   2,834.00 99,968,349.00"
      ]
     },
     "execution_count": 5,
     "metadata": {},
     "output_type": "execute_result"
    }
   ],
   "source": [
    "df.describe()"
   ]
  },
  {
   "cell_type": "markdown",
   "metadata": {},
   "source": [
    "### Data Preprocessing"
   ]
  },
  {
   "cell_type": "code",
   "execution_count": 6,
   "metadata": {},
   "outputs": [],
   "source": [
    "preprocess_columns = ['SHARE_CLASS', 'TRANSACTION_CLASS', 'ZIP_CODE', 'CLIENT_SEGMENT',\n",
    "                      'ACCT_NUM','MO_NUM',  'COMP_TYPE', 'TRANSACTION_TYPE', 'ADVISOR_CLASS' ] # ORG_NAME"
   ]
  },
  {
   "cell_type": "code",
   "execution_count": 7,
   "metadata": {},
   "outputs": [
    {
     "data": {
      "text/html": [
       "<div>\n",
       "<style scoped>\n",
       "    .dataframe tbody tr th:only-of-type {\n",
       "        vertical-align: middle;\n",
       "    }\n",
       "\n",
       "    .dataframe tbody tr th {\n",
       "        vertical-align: top;\n",
       "    }\n",
       "\n",
       "    .dataframe thead th {\n",
       "        text-align: right;\n",
       "    }\n",
       "</style>\n",
       "<table border=\"1\" class=\"dataframe\">\n",
       "  <thead>\n",
       "    <tr style=\"text-align: right;\">\n",
       "      <th></th>\n",
       "      <th>SHARE_CLASS_A</th>\n",
       "      <th>SHARE_CLASS_F-1</th>\n",
       "      <th>SHARE_CLASS_F-2</th>\n",
       "      <th>SHARE_CLASS_R-1</th>\n",
       "      <th>SHARE_CLASS_R-2</th>\n",
       "      <th>SHARE_CLASS_R-6</th>\n",
       "      <th>SHARE_CLASS_U1</th>\n",
       "      <th>SHARE_CLASS_U2</th>\n",
       "      <th>TRANSACTION_CLASS_Institutional</th>\n",
       "      <th>TRANSACTION_CLASS_Insurance</th>\n",
       "      <th>...</th>\n",
       "      <th>COMP_TYPE_Percent AUM</th>\n",
       "      <th>COMP_TYPE_Performance Based</th>\n",
       "      <th>TRANSACTION_TYPE_Exchange In</th>\n",
       "      <th>TRANSACTION_TYPE_Exchange Out</th>\n",
       "      <th>TRANSACTION_TYPE_Redemption</th>\n",
       "      <th>TRANSACTION_TYPE_Sales</th>\n",
       "      <th>ADVISOR_CLASS_Home Office</th>\n",
       "      <th>ADVISOR_CLASS_Rep</th>\n",
       "      <th>ADVISOR_CLASS_Team</th>\n",
       "      <th>AMOUNT</th>\n",
       "    </tr>\n",
       "  </thead>\n",
       "  <tbody>\n",
       "    <tr>\n",
       "      <th>0</th>\n",
       "      <td>0</td>\n",
       "      <td>0</td>\n",
       "      <td>0</td>\n",
       "      <td>0</td>\n",
       "      <td>0</td>\n",
       "      <td>0</td>\n",
       "      <td>1</td>\n",
       "      <td>0</td>\n",
       "      <td>0</td>\n",
       "      <td>0</td>\n",
       "      <td>...</td>\n",
       "      <td>0</td>\n",
       "      <td>0</td>\n",
       "      <td>1</td>\n",
       "      <td>0</td>\n",
       "      <td>0</td>\n",
       "      <td>0</td>\n",
       "      <td>1</td>\n",
       "      <td>0</td>\n",
       "      <td>0</td>\n",
       "      <td>14374899</td>\n",
       "    </tr>\n",
       "    <tr>\n",
       "      <th>1</th>\n",
       "      <td>0</td>\n",
       "      <td>0</td>\n",
       "      <td>0</td>\n",
       "      <td>0</td>\n",
       "      <td>0</td>\n",
       "      <td>1</td>\n",
       "      <td>0</td>\n",
       "      <td>0</td>\n",
       "      <td>0</td>\n",
       "      <td>0</td>\n",
       "      <td>...</td>\n",
       "      <td>1</td>\n",
       "      <td>0</td>\n",
       "      <td>0</td>\n",
       "      <td>0</td>\n",
       "      <td>1</td>\n",
       "      <td>0</td>\n",
       "      <td>0</td>\n",
       "      <td>0</td>\n",
       "      <td>1</td>\n",
       "      <td>41360988</td>\n",
       "    </tr>\n",
       "    <tr>\n",
       "      <th>2</th>\n",
       "      <td>1</td>\n",
       "      <td>0</td>\n",
       "      <td>0</td>\n",
       "      <td>0</td>\n",
       "      <td>0</td>\n",
       "      <td>0</td>\n",
       "      <td>0</td>\n",
       "      <td>0</td>\n",
       "      <td>0</td>\n",
       "      <td>1</td>\n",
       "      <td>...</td>\n",
       "      <td>0</td>\n",
       "      <td>0</td>\n",
       "      <td>0</td>\n",
       "      <td>0</td>\n",
       "      <td>0</td>\n",
       "      <td>1</td>\n",
       "      <td>0</td>\n",
       "      <td>0</td>\n",
       "      <td>1</td>\n",
       "      <td>72848968</td>\n",
       "    </tr>\n",
       "    <tr>\n",
       "      <th>3</th>\n",
       "      <td>0</td>\n",
       "      <td>0</td>\n",
       "      <td>0</td>\n",
       "      <td>1</td>\n",
       "      <td>0</td>\n",
       "      <td>0</td>\n",
       "      <td>0</td>\n",
       "      <td>0</td>\n",
       "      <td>0</td>\n",
       "      <td>0</td>\n",
       "      <td>...</td>\n",
       "      <td>0</td>\n",
       "      <td>1</td>\n",
       "      <td>0</td>\n",
       "      <td>0</td>\n",
       "      <td>0</td>\n",
       "      <td>1</td>\n",
       "      <td>0</td>\n",
       "      <td>0</td>\n",
       "      <td>1</td>\n",
       "      <td>86306659</td>\n",
       "    </tr>\n",
       "    <tr>\n",
       "      <th>4</th>\n",
       "      <td>1</td>\n",
       "      <td>0</td>\n",
       "      <td>0</td>\n",
       "      <td>0</td>\n",
       "      <td>0</td>\n",
       "      <td>0</td>\n",
       "      <td>0</td>\n",
       "      <td>0</td>\n",
       "      <td>0</td>\n",
       "      <td>1</td>\n",
       "      <td>...</td>\n",
       "      <td>0</td>\n",
       "      <td>0</td>\n",
       "      <td>1</td>\n",
       "      <td>0</td>\n",
       "      <td>0</td>\n",
       "      <td>0</td>\n",
       "      <td>0</td>\n",
       "      <td>1</td>\n",
       "      <td>0</td>\n",
       "      <td>22503066</td>\n",
       "    </tr>\n",
       "  </tbody>\n",
       "</table>\n",
       "<p>5 rows × 57 columns</p>\n",
       "</div>"
      ],
      "text/plain": [
       "   SHARE_CLASS_A  SHARE_CLASS_F-1  SHARE_CLASS_F-2  SHARE_CLASS_R-1  \\\n",
       "0              0                0                0                0   \n",
       "1              0                0                0                0   \n",
       "2              1                0                0                0   \n",
       "3              0                0                0                1   \n",
       "4              1                0                0                0   \n",
       "\n",
       "   SHARE_CLASS_R-2  SHARE_CLASS_R-6  SHARE_CLASS_U1  SHARE_CLASS_U2  \\\n",
       "0                0                0               1               0   \n",
       "1                0                1               0               0   \n",
       "2                0                0               0               0   \n",
       "3                0                0               0               0   \n",
       "4                0                0               0               0   \n",
       "\n",
       "   TRANSACTION_CLASS_Institutional  TRANSACTION_CLASS_Insurance    ...     \\\n",
       "0                                0                            0    ...      \n",
       "1                                0                            0    ...      \n",
       "2                                0                            1    ...      \n",
       "3                                0                            0    ...      \n",
       "4                                0                            1    ...      \n",
       "\n",
       "   COMP_TYPE_Percent AUM  COMP_TYPE_Performance Based  \\\n",
       "0                      0                            0   \n",
       "1                      1                            0   \n",
       "2                      0                            0   \n",
       "3                      0                            1   \n",
       "4                      0                            0   \n",
       "\n",
       "   TRANSACTION_TYPE_Exchange In  TRANSACTION_TYPE_Exchange Out  \\\n",
       "0                             1                              0   \n",
       "1                             0                              0   \n",
       "2                             0                              0   \n",
       "3                             0                              0   \n",
       "4                             1                              0   \n",
       "\n",
       "   TRANSACTION_TYPE_Redemption  TRANSACTION_TYPE_Sales  \\\n",
       "0                            0                       0   \n",
       "1                            1                       0   \n",
       "2                            0                       1   \n",
       "3                            0                       1   \n",
       "4                            0                       0   \n",
       "\n",
       "   ADVISOR_CLASS_Home Office  ADVISOR_CLASS_Rep  ADVISOR_CLASS_Team    AMOUNT  \n",
       "0                          1                  0                   0  14374899  \n",
       "1                          0                  0                   1  41360988  \n",
       "2                          0                  0                   1  72848968  \n",
       "3                          0                  0                   1  86306659  \n",
       "4                          0                  1                   0  22503066  \n",
       "\n",
       "[5 rows x 57 columns]"
      ]
     },
     "execution_count": 7,
     "metadata": {},
     "output_type": "execute_result"
    }
   ],
   "source": [
    "prep_df = df[preprocess_columns]\n",
    "prep_dummies_df = pd.get_dummies(prep_df)\n",
    "prep_dummies_df['AMOUNT'] = df['AMOUNT']\n",
    "prep_dummies_df.head()"
   ]
  },
  {
   "cell_type": "markdown",
   "metadata": {},
   "source": [
    "### Parameters"
   ]
  },
  {
   "cell_type": "code",
   "execution_count": 8,
   "metadata": {},
   "outputs": [],
   "source": [
    "example1_features = len(prep_dummies_df.columns.values)"
   ]
  },
  {
   "cell_type": "code",
   "execution_count": 9,
   "metadata": {},
   "outputs": [
    {
     "name": "stdout",
     "output_type": "stream",
     "text": [
      "2834\n"
     ]
    }
   ],
   "source": [
    "# Change the source of the data for \"lendata\"\n",
    "rs = np.random.RandomState(64)\n",
    "example1_lendata = df.shape[0]\n",
    "print(example1_lendata)"
   ]
  },
  {
   "cell_type": "code",
   "execution_count": 10,
   "metadata": {},
   "outputs": [
    {
     "name": "stderr",
     "output_type": "stream",
     "text": [
      "C:\\Users\\alexcheng2\\AppData\\Local\\Continuum\\anaconda3\\lib\\site-packages\\sklearn\\ensemble\\iforest.py:213: FutureWarning: default contamination parameter 0.1 will change in version 0.22 to \"auto\". This will change the predict method behavior.\n",
      "  FutureWarning)\n",
      "C:\\Users\\alexcheng2\\AppData\\Local\\Continuum\\anaconda3\\lib\\site-packages\\sklearn\\ensemble\\iforest.py:223: FutureWarning: behaviour=\"old\" is deprecated and will be removed in version 0.22. Please use behaviour=\"new\", which makes the decision_function change to match other anomaly detection algorithm API.\n",
      "  FutureWarning)\n",
      "[Parallel(n_jobs=4)]: Using backend LokyBackend with 4 concurrent workers.\n",
      "[Parallel(n_jobs=4)]: Done   4 out of   4 | elapsed:   11.9s finished\n"
     ]
    },
    {
     "data": {
      "text/plain": [
       "IsolationForest(behaviour='old', bootstrap=False, contamination='legacy',\n",
       "        max_features=57, max_samples=2834, n_estimators=100, n_jobs=-1,\n",
       "        random_state=<mtrand.RandomState object at 0x00000000087DF708>,\n",
       "        verbose=2)"
      ]
     },
     "execution_count": 10,
     "metadata": {},
     "output_type": "execute_result"
    }
   ],
   "source": [
    "# Determine what the right parameters should be for the Isolation Forest model\n",
    "# n_estimators - default=100\n",
    "# verbose - optional, default=0; controls the verbosity of the tree building process\n",
    "# n_jobs - default=None\n",
    "# max_samples - the number of samples to draw from X to train the base estimators\n",
    "# max_features - the number of features to draw from X to train the base estimators\n",
    "ifmodel = IsolationForest(n_estimators=100, verbose=2, n_jobs=-1, max_samples=example1_lendata, random_state=rs, max_features=example1_features)\n",
    "ifmodel.fit(prep_dummies_df)"
   ]
  },
  {
   "cell_type": "markdown",
   "metadata": {},
   "source": [
    "### Isolation Forest / Predict Outliers"
   ]
  },
  {
   "cell_type": "code",
   "execution_count": 11,
   "metadata": {},
   "outputs": [
    {
     "name": "stderr",
     "output_type": "stream",
     "text": [
      "C:\\Users\\alexcheng2\\AppData\\Local\\Continuum\\anaconda3\\lib\\site-packages\\sklearn\\ensemble\\iforest.py:417: DeprecationWarning: threshold_ attribute is deprecated in 0.20 and will be removed in 0.22.\n",
      "  \" be removed in 0.22.\", DeprecationWarning)\n"
     ]
    }
   ],
   "source": [
    "# Determine what the Isolation Anomaly Score should be\n",
    "Iso_anomaly_score = ifmodel.decision_function(prep_dummies_df)\n",
    "Iso_predict = ifmodel.predict(prep_dummies_df)"
   ]
  },
  {
   "cell_type": "code",
   "execution_count": 12,
   "metadata": {},
   "outputs": [],
   "source": [
    "#Iso_anomaly_score 异常分数  评分越低，则越是异常 / The lower the abnormal score, the more abnormal it is.\n",
    "Iso_anomaly_score = np.column_stack((df['Time'], Iso_anomaly_score))\n",
    "Iso_predict = np.column_stack((df['Time'], Iso_predict))\n",
    "\n",
    "# Iso_anomaly_score = np.column_stack((cc_data['Time'],Iso_anomaly_score))\n",
    "# Iso_predict = np.column_stack((cc_data['Time'],Iso_predict))"
   ]
  },
  {
   "cell_type": "code",
   "execution_count": 13,
   "metadata": {},
   "outputs": [],
   "source": [
    "Iso_predict_list = Iso_predict.tolist()\n",
    "Iso_anomaly_score_list = Iso_anomaly_score.tolist()"
   ]
  },
  {
   "cell_type": "code",
   "execution_count": 14,
   "metadata": {},
   "outputs": [
    {
     "data": {
      "text/plain": [
       "[[1, -1],\n",
       " [2, 1],\n",
       " [3, 1],\n",
       " [4, 1],\n",
       " [5, 1],\n",
       " [6, 1],\n",
       " [7, 1],\n",
       " [8, -1],\n",
       " [9, 1],\n",
       " [10, -1]]"
      ]
     },
     "execution_count": 14,
     "metadata": {},
     "output_type": "execute_result"
    }
   ],
   "source": [
    "Iso_predict_list[:10]"
   ]
  },
  {
   "cell_type": "code",
   "execution_count": 15,
   "metadata": {},
   "outputs": [
    {
     "data": {
      "text/plain": [
       "[[1.0, 0.028851601769375956],\n",
       " [2.0, 0.03497233982963738],\n",
       " [3.0, 0.043775073316570434],\n",
       " [4.0, 0.04890419197951279],\n",
       " [5.0, 0.03598017383945207],\n",
       " [6.0, 0.035669562352232786],\n",
       " [7.0, 0.03730474883507179],\n",
       " [8.0, 0.028113172367267014],\n",
       " [9.0, 0.048477465178508705],\n",
       " [10.0, 0.025784532987381814]]"
      ]
     },
     "execution_count": 15,
     "metadata": {},
     "output_type": "execute_result"
    }
   ],
   "source": [
    "Iso_anomaly_score_list[:10]"
   ]
  },
  {
   "cell_type": "markdown",
   "metadata": {},
   "source": [
    "### Determine Anomalies"
   ]
  },
  {
   "cell_type": "code",
   "execution_count": 16,
   "metadata": {},
   "outputs": [
    {
     "data": {
      "text/html": [
       "<div>\n",
       "<style scoped>\n",
       "    .dataframe tbody tr th:only-of-type {\n",
       "        vertical-align: middle;\n",
       "    }\n",
       "\n",
       "    .dataframe tbody tr th {\n",
       "        vertical-align: top;\n",
       "    }\n",
       "\n",
       "    .dataframe thead th {\n",
       "        text-align: right;\n",
       "    }\n",
       "</style>\n",
       "<table border=\"1\" class=\"dataframe\">\n",
       "  <thead>\n",
       "    <tr style=\"text-align: right;\">\n",
       "      <th></th>\n",
       "      <th>Time</th>\n",
       "      <th>Outlier/Inliner</th>\n",
       "      <th>Iso Score</th>\n",
       "    </tr>\n",
       "  </thead>\n",
       "  <tbody>\n",
       "    <tr>\n",
       "      <th>0</th>\n",
       "      <td>1</td>\n",
       "      <td>-1</td>\n",
       "      <td>0.03</td>\n",
       "    </tr>\n",
       "    <tr>\n",
       "      <th>1</th>\n",
       "      <td>2</td>\n",
       "      <td>1</td>\n",
       "      <td>0.03</td>\n",
       "    </tr>\n",
       "    <tr>\n",
       "      <th>2</th>\n",
       "      <td>3</td>\n",
       "      <td>1</td>\n",
       "      <td>0.04</td>\n",
       "    </tr>\n",
       "    <tr>\n",
       "      <th>3</th>\n",
       "      <td>4</td>\n",
       "      <td>1</td>\n",
       "      <td>0.05</td>\n",
       "    </tr>\n",
       "    <tr>\n",
       "      <th>4</th>\n",
       "      <td>5</td>\n",
       "      <td>1</td>\n",
       "      <td>0.04</td>\n",
       "    </tr>\n",
       "  </tbody>\n",
       "</table>\n",
       "</div>"
      ],
      "text/plain": [
       "  Time  Outlier/Inliner  Iso Score\n",
       "0    1               -1       0.03\n",
       "1    2                1       0.03\n",
       "2    3                1       0.04\n",
       "3    4                1       0.05\n",
       "4    5                1       0.04"
      ]
     },
     "execution_count": 16,
     "metadata": {},
     "output_type": "execute_result"
    }
   ],
   "source": [
    "outlier_df = pd.DataFrame(Iso_predict, columns=['Time', 'Outlier/Inliner'])\n",
    "score_df = pd.DataFrame(Iso_anomaly_score, columns=['Time', 'Iso Score'])\n",
    "isoforest_df = pd.merge(outlier_df, score_df, on='Time')\n",
    "isoforest_df.head()"
   ]
  },
  {
   "cell_type": "code",
   "execution_count": 17,
   "metadata": {},
   "outputs": [
    {
     "data": {
      "text/html": [
       "<div>\n",
       "<style scoped>\n",
       "    .dataframe tbody tr th:only-of-type {\n",
       "        vertical-align: middle;\n",
       "    }\n",
       "\n",
       "    .dataframe tbody tr th {\n",
       "        vertical-align: top;\n",
       "    }\n",
       "\n",
       "    .dataframe thead th {\n",
       "        text-align: right;\n",
       "    }\n",
       "</style>\n",
       "<table border=\"1\" class=\"dataframe\">\n",
       "  <thead>\n",
       "    <tr style=\"text-align: right;\">\n",
       "      <th></th>\n",
       "      <th>Time</th>\n",
       "      <th>Outlier/Inliner</th>\n",
       "      <th>Iso Score</th>\n",
       "    </tr>\n",
       "  </thead>\n",
       "  <tbody>\n",
       "    <tr>\n",
       "      <th>0</th>\n",
       "      <td>1</td>\n",
       "      <td>-1</td>\n",
       "      <td>0.03</td>\n",
       "    </tr>\n",
       "    <tr>\n",
       "      <th>7</th>\n",
       "      <td>8</td>\n",
       "      <td>-1</td>\n",
       "      <td>0.03</td>\n",
       "    </tr>\n",
       "    <tr>\n",
       "      <th>9</th>\n",
       "      <td>10</td>\n",
       "      <td>-1</td>\n",
       "      <td>0.03</td>\n",
       "    </tr>\n",
       "    <tr>\n",
       "      <th>12</th>\n",
       "      <td>13</td>\n",
       "      <td>-1</td>\n",
       "      <td>0.03</td>\n",
       "    </tr>\n",
       "    <tr>\n",
       "      <th>13</th>\n",
       "      <td>14</td>\n",
       "      <td>-1</td>\n",
       "      <td>0.03</td>\n",
       "    </tr>\n",
       "  </tbody>\n",
       "</table>\n",
       "</div>"
      ],
      "text/plain": [
       "   Time  Outlier/Inliner  Iso Score\n",
       "0     1               -1       0.03\n",
       "7     8               -1       0.03\n",
       "9    10               -1       0.03\n",
       "12   13               -1       0.03\n",
       "13   14               -1       0.03"
      ]
     },
     "execution_count": 17,
     "metadata": {},
     "output_type": "execute_result"
    }
   ],
   "source": [
    "# The Isolation Forest Model predicts outliers as -1\n",
    "# Average score for the outliers is 0.02533\n",
    "outliers = isoforest_df[isoforest_df['Outlier/Inliner'] == -1]\n",
    "outliers.head()"
   ]
  },
  {
   "cell_type": "code",
   "execution_count": 18,
   "metadata": {},
   "outputs": [
    {
     "name": "stdout",
     "output_type": "stream",
     "text": [
      "The threshold definition can also be added manually according to the actual situation or by formula according to different situations.\n",
      "[25.0, 0.02224009112804154]\n",
      "[39.0, 0.021912773642878303]\n",
      "[49.0, 0.02123918251162238]\n",
      "[68.0, 0.024022819760952496]\n",
      "[82.0, 0.02204196815677778]\n",
      "[91.0, 0.017394255528668467]\n",
      "[100.0, 0.023862167033990356]\n",
      "[105.0, 0.019128068645853702]\n",
      "[223.0, 0.015432069833848594]\n",
      "[225.0, 0.021544703142013788]\n",
      "[226.0, 0.02487446915912145]\n",
      "[228.0, 0.02135618039477366]\n",
      "[233.0, 0.024719867498243897]\n",
      "[240.0, 0.017450382228941685]\n",
      "[242.0, 0.020453106924878006]\n",
      "[246.0, 0.02463823365131884]\n",
      "[250.0, 0.02352395495200299]\n",
      "[252.0, 0.023775202950286345]\n",
      "[258.0, 0.025184912149656846]\n",
      "[260.0, 0.020222674337573687]\n",
      "[266.0, 0.012454942058900798]\n",
      "[268.0, 0.020897209688650997]\n",
      "[275.0, 0.02323914738496191]\n",
      "[279.0, 0.01589492236138229]\n",
      "[281.0, 0.010200081676262407]\n",
      "[284.0, 0.021135949992197423]\n",
      "[286.0, 0.009513071338473622]\n",
      "[289.0, 0.023933354813770236]\n",
      "[293.0, 0.02411703759748296]\n",
      "[298.0, 0.02319864699715113]\n",
      "[301.0, 0.01941428652451016]\n",
      "[310.0, 0.018601061865734847]\n",
      "[317.0, 0.02215517914826698]\n",
      "[325.0, 0.02353062698337638]\n",
      "[326.0, 0.022994864459287334]\n",
      "[363.0, 0.02301938750807042]\n",
      "[415.0, 0.01470853248698234]\n",
      "[423.0, 0.025091169298606386]\n",
      "[425.0, 0.024521021078569627]\n",
      "[430.0, 0.025119117090241616]\n",
      "[447.0, 0.018796889015516793]\n",
      "[487.0, 0.020817039682169303]\n",
      "[552.0, 0.02143764512214169]\n",
      "[562.0, 0.019011712123418623]\n",
      "[586.0, 0.017987968862395454]\n",
      "[588.0, 0.02403494833318981]\n",
      "[592.0, 0.02366669866486315]\n",
      "[598.0, 0.024801533832891798]\n",
      "[604.0, 0.024643312579862353]\n",
      "[614.0, 0.019951490959965956]\n",
      "[644.0, 0.01583853168198912]\n",
      "[676.0, 0.024149841864069266]\n",
      "[707.0, 0.020637163558519522]\n",
      "[721.0, 0.022767284774751484]\n",
      "[821.0, 0.02323818764094987]\n",
      "[822.0, 0.02468046974046223]\n",
      "[893.0, 0.023147043815394897]\n",
      "[937.0, 0.020086888232717648]\n",
      "[964.0, 0.019786724065555872]\n",
      "[1003.0, 0.015454986363474754]\n",
      "[1019.0, 0.024241718464916073]\n",
      "[1032.0, 0.02188756637513045]\n",
      "[1055.0, 0.02150687250631489]\n",
      "[1075.0, 0.02044977714978663]\n",
      "[1205.0, 0.023460586729645072]\n",
      "[1322.0, 0.021563062192171356]\n",
      "[1393.0, 0.022511741756337744]\n",
      "[1421.0, 0.016718021376028347]\n",
      "[1425.0, 0.021304162921996717]\n",
      "[1432.0, 0.023303232814125108]\n",
      "[1435.0, 0.02476015520528857]\n",
      "[1454.0, 0.019269755308858938]\n",
      "[1470.0, 0.019087882055241645]\n",
      "[1471.0, 0.022533941033712757]\n",
      "[1475.0, 0.02274164326942618]\n",
      "[1492.0, 0.02325739759342388]\n",
      "[1510.0, 0.01955336766665222]\n",
      "[1531.0, 0.019990210482479565]\n",
      "[1539.0, 0.019339870085256394]\n",
      "[1567.0, 0.025250996521229974]\n",
      "[1587.0, 0.025095948124571166]\n",
      "[1590.0, 0.021988912391835258]\n",
      "[1591.0, 0.025231118499859317]\n",
      "[1641.0, 0.015294899391088523]\n",
      "[1657.0, 0.0221769152130204]\n",
      "[1671.0, 0.022914845237219428]\n",
      "[1675.0, 0.02232468695004114]\n",
      "[1695.0, 0.02090438981444037]\n",
      "[1723.0, 0.024672947743972606]\n",
      "[1769.0, 0.02410425106232078]\n",
      "[1976.0, 0.02397561471755899]\n",
      "[1986.0, 0.01989783190714295]\n",
      "[2013.0, 0.0221866821470193]\n",
      "[2027.0, 0.020151993479086916]\n",
      "[2028.0, 0.016706795284846754]\n",
      "[2034.0, 0.022051883282177942]\n",
      "[2035.0, 0.019754343947103403]\n",
      "[2053.0, 0.02323239295120788]\n",
      "[2063.0, 0.020158466690017862]\n",
      "[2079.0, 0.02399984170596592]\n",
      "[2143.0, 0.025130358141201792]\n",
      "[2149.0, 0.019841486221729487]\n",
      "[2175.0, 0.01896755144174883]\n",
      "[2177.0, 0.025032504735009342]\n",
      "[2179.0, 0.02369572407216297]\n",
      "[2191.0, 0.0252967560501568]\n",
      "[2232.0, 0.025267119064029286]\n",
      "[2375.0, 0.022070349733707972]\n",
      "[2451.0, 0.024287153636790904]\n",
      "[2526.0, 0.02371521904228796]\n",
      "[2551.0, 0.0193454817308068]\n",
      "[2714.0, 0.022419247165698764]\n",
      "[2720.0, 0.023050924478151158]\n",
      "[2738.0, 0.021069041435269886]\n",
      "[2815.0, 0.024730537075067782]\n"
     ]
    }
   ],
   "source": [
    "# # The threshold definition can also be added manually according to the actual situation or by formula according to different situations. Here I set it to -0.1\n",
    "# # Isolation forest detection may be abnormal data: [date, abnormality score], the lower the score, the more likely it is abnormal data\n",
    "threshold = 0.02533\n",
    "print(\"The threshold definition can also be added manually according to the actual situation or by formula according to different situations.\")\n",
    "for i in Iso_anomaly_score_list:\n",
    "        if i[1] < threshold:\n",
    "            print(i)"
   ]
  },
  {
   "cell_type": "markdown",
   "metadata": {},
   "source": [
    "### Principal Component Analysis (PCA)\n",
    "\n",
    "Principal Component Analysis here is used to decompose the data (i.e. 57 columns) into 2 components (i.e. 2 columns) in order to plot each individual record on a 2-dimensional scatterplot"
   ]
  },
  {
   "cell_type": "code",
   "execution_count": 19,
   "metadata": {},
   "outputs": [],
   "source": [
    "pca = PCA(n_components=2)\n",
    "projected = pca.fit_transform(prep_dummies_df)  "
   ]
  },
  {
   "cell_type": "code",
   "execution_count": 20,
   "metadata": {},
   "outputs": [
    {
     "name": "stdout",
     "output_type": "stream",
     "text": [
      "[8.15470279e+14 3.56977794e-01]\n"
     ]
    }
   ],
   "source": [
    "print(pca.explained_variance_)"
   ]
  },
  {
   "cell_type": "code",
   "execution_count": 21,
   "metadata": {},
   "outputs": [
    {
     "name": "stderr",
     "output_type": "stream",
     "text": [
      "C:\\Users\\alexcheng2\\AppData\\Local\\Continuum\\anaconda3\\lib\\site-packages\\matplotlib\\cbook\\deprecation.py:106: MatplotlibDeprecationWarning: The spectral and spectral_r colormap was deprecated in version 2.0. Use nipy_spectral and nipy_spectral_r instead.\n",
      "  warnings.warn(message, mplDeprecation, stacklevel=1)\n"
     ]
    },
    {
     "data": {
      "text/plain": [
       "<matplotlib.colorbar.Colorbar at 0xec93a90>"
      ]
     },
     "execution_count": 21,
     "metadata": {},
     "output_type": "execute_result"
    },
    {
     "data": {
      "image/png": "[encoded data removed]",
      "text/plain": [
       "<matplotlib.figure.Figure at 0xebd9390>"
      ]
     },
     "metadata": {
      "needs_background": "light"
     },
     "output_type": "display_data"
    }
   ],
   "source": [
    "plt.scatter(projected[:, 0], projected[:, 1],\n",
    "            c=prep_dummies_df.AMOUNT, edgecolor='none', alpha=0.5,\n",
    "            cmap=plt.cm.get_cmap('spectral', 10))\n",
    "plt.xlabel('component 1')\n",
    "plt.ylabel('component 2')\n",
    "plt.colorbar()"
   ]
  },
  {
   "cell_type": "code",
   "execution_count": null,
   "metadata": {},
   "outputs": [],
   "source": []
  },
  {
   "cell_type": "code",
   "execution_count": null,
   "metadata": {},
   "outputs": [],
   "source": []
  },
  {
   "cell_type": "code",
   "execution_count": null,
   "metadata": {},
   "outputs": [],
   "source": []
  },
  {
   "cell_type": "code",
   "execution_count": null,
   "metadata": {},
   "outputs": [],
   "source": []
  },
  {
   "cell_type": "code",
   "execution_count": null,
   "metadata": {},
   "outputs": [],
   "source": []
  },
  {
   "cell_type": "code",
   "execution_count": null,
   "metadata": {},
   "outputs": [],
   "source": []
  },
  {
   "cell_type": "code",
   "execution_count": null,
   "metadata": {},
   "outputs": [],
   "source": []
  },
  {
   "cell_type": "code",
   "execution_count": null,
   "metadata": {},
   "outputs": [],
   "source": []
  },
  {
   "cell_type": "code",
   "execution_count": null,
   "metadata": {},
   "outputs": [],
   "source": []
  }
 ],
 "metadata": {
  "kernelspec": {
   "display_name": "Python 3",
   "language": "python",
   "name": "python3"
  },
  "language_info": {
   "codemirror_mode": {
    "name": "ipython",
    "version": 3
   },
   "file_extension": ".py",
   "mimetype": "text/x-python",
   "name": "python",
   "nbconvert_exporter": "python",
   "pygments_lexer": "ipython3",
   "version": "3.6.4"
  }
 },
 "nbformat": 4,
 "nbformat_minor": 2
}

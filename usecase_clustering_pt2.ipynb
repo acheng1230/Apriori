{
 "cells": [
  {
   "cell_type": "markdown",
   "metadata": {},
   "source": [
    "## Import Packages"
   ]
  },
  {
   "cell_type": "code",
   "execution_count": 1,
   "metadata": {},
   "outputs": [],
   "source": [
    "import os\n",
    "import re\n",
    "import numpy as np\n",
    "import pandas as pd\n",
    "import seaborn as sns\n",
    "import matplotlib.pyplot as plt\n",
    "%matplotlib inline\n",
    "\n",
    "from sklearn.cluster import KMeans\n",
    "from sklearn.decomposition import PCA\n",
    "from sklearn.impute import SimpleImputer\n",
    "from sklearn import cluster, metrics, datasets\n",
    "from sklearn.preprocessing import StandardScaler\n",
    "from sklearn.ensemble import RandomForestRegressor\n",
    "from sklearn.ensemble import RandomForestClassifier\n",
    "from sklearn.model_selection import train_test_split\n",
    "from sklearn.feature_selection import SelectFromModel\n",
    "from sklearn.discriminant_analysis import LinearDiscriminantAnalysis\n",
    "\n",
    "from pylab import rcParams\n",
    "rcParams['figure.figsize'] = 12,10\n",
    "\n",
    "# Pandas set options to show 2 decimal spots, commas\n",
    "pd.options.display.float_format = '{:,.2f}'.format"
   ]
  },
  {
   "cell_type": "code",
   "execution_count": 2,
   "metadata": {},
   "outputs": [],
   "source": [
    "os.chdir('../')\n",
    "\n",
    "# Import helper functions\n",
    "from lib.cluster import kmeans, find_best_cluster, feature_importance, plot_kmeans_cluster"
   ]
  },
  {
   "cell_type": "markdown",
   "metadata": {},
   "source": [
    "## Import Data"
   ]
  },
  {
   "cell_type": "markdown",
   "metadata": {},
   "source": [
    "#### Main Dataframe"
   ]
  },
  {
   "cell_type": "code",
   "execution_count": 3,
   "metadata": {},
   "outputs": [
    {
     "name": "stdout",
     "output_type": "stream",
     "text": [
      "(4753, 131)\n"
     ]
    },
    {
     "data": {
      "text/html": [
       "<div>\n",
       "<style scoped>\n",
       "    .dataframe tbody tr th:only-of-type {\n",
       "        vertical-align: middle;\n",
       "    }\n",
       "\n",
       "    .dataframe tbody tr th {\n",
       "        vertical-align: top;\n",
       "    }\n",
       "\n",
       "    .dataframe thead th {\n",
       "        text-align: right;\n",
       "    }\n",
       "</style>\n",
       "<table border=\"1\" class=\"dataframe\">\n",
       "  <thead>\n",
       "    <tr style=\"text-align: right;\">\n",
       "      <th></th>\n",
       "      <th>DWCGPortfolioID</th>\n",
       "      <th>AsofDate</th>\n",
       "      <th>InvestmentPortfolioTypeCode</th>\n",
       "      <th>ProcessCycleDate</th>\n",
       "      <th>PortfolioUID</th>\n",
       "      <th>TotalUSDMarketValue</th>\n",
       "      <th>FICustomUSDMarketValue</th>\n",
       "      <th>PrimaryPrice</th>\n",
       "      <th>InstrumentCouponRate</th>\n",
       "      <th>CurrentSpreadBasisPoint</th>\n",
       "      <th>...</th>\n",
       "      <th>FundAccountSubTypeName</th>\n",
       "      <th>PortfolioName</th>\n",
       "      <th>InvestmentPortfolioTypeCode.1</th>\n",
       "      <th>InvestmentAssetClassName</th>\n",
       "      <th>InvestmentAccountUID</th>\n",
       "      <th>InvestmentPortfolioName</th>\n",
       "      <th>Investment Spectrum</th>\n",
       "      <th>Performance Grouping</th>\n",
       "      <th>InvestmentPortfolioBaseTypeName</th>\n",
       "      <th>PortfolioCategoryTypeName</th>\n",
       "    </tr>\n",
       "  </thead>\n",
       "  <tbody>\n",
       "    <tr>\n",
       "      <th>0</th>\n",
       "      <td>1967582</td>\n",
       "      <td>2019-01-31</td>\n",
       "      <td>AA</td>\n",
       "      <td>2019-01-31</td>\n",
       "      <td>404305</td>\n",
       "      <td>0.00</td>\n",
       "      <td>0.00</td>\n",
       "      <td>0.00</td>\n",
       "      <td>0.00</td>\n",
       "      <td>0.00</td>\n",
       "      <td>...</td>\n",
       "      <td>NaN</td>\n",
       "      <td>AECOM3968 44396800</td>\n",
       "      <td>AA</td>\n",
       "      <td>Fixed Income</td>\n",
       "      <td>7100494</td>\n",
       "      <td>NaN</td>\n",
       "      <td>NaN</td>\n",
       "      <td>NaN</td>\n",
       "      <td>Investment Entity</td>\n",
       "      <td>CG Investment Portfolio</td>\n",
       "    </tr>\n",
       "    <tr>\n",
       "      <th>1</th>\n",
       "      <td>1967904</td>\n",
       "      <td>2019-03-29</td>\n",
       "      <td>AA</td>\n",
       "      <td>2019-03-29</td>\n",
       "      <td>404305</td>\n",
       "      <td>13,330,424.88</td>\n",
       "      <td>13,330,424.88</td>\n",
       "      <td>104.35</td>\n",
       "      <td>4.36</td>\n",
       "      <td>0.00</td>\n",
       "      <td>...</td>\n",
       "      <td>NaN</td>\n",
       "      <td>AECOM3968 44396800</td>\n",
       "      <td>AA</td>\n",
       "      <td>Fixed Income</td>\n",
       "      <td>7100494</td>\n",
       "      <td>NaN</td>\n",
       "      <td>NaN</td>\n",
       "      <td>NaN</td>\n",
       "      <td>Investment Entity</td>\n",
       "      <td>CG Investment Portfolio</td>\n",
       "    </tr>\n",
       "    <tr>\n",
       "      <th>2</th>\n",
       "      <td>1967904</td>\n",
       "      <td>2019-02-28</td>\n",
       "      <td>AA</td>\n",
       "      <td>2019-02-28</td>\n",
       "      <td>404305</td>\n",
       "      <td>12,743,550.83</td>\n",
       "      <td>12,743,550.83</td>\n",
       "      <td>100.26</td>\n",
       "      <td>4.31</td>\n",
       "      <td>0.00</td>\n",
       "      <td>...</td>\n",
       "      <td>NaN</td>\n",
       "      <td>AECOM3968 44396800</td>\n",
       "      <td>AA</td>\n",
       "      <td>Fixed Income</td>\n",
       "      <td>7100494</td>\n",
       "      <td>NaN</td>\n",
       "      <td>NaN</td>\n",
       "      <td>NaN</td>\n",
       "      <td>Investment Entity</td>\n",
       "      <td>CG Investment Portfolio</td>\n",
       "    </tr>\n",
       "    <tr>\n",
       "      <th>3</th>\n",
       "      <td>1967904</td>\n",
       "      <td>2019-04-30</td>\n",
       "      <td>AA</td>\n",
       "      <td>2019-04-30</td>\n",
       "      <td>404305</td>\n",
       "      <td>13,414,264.03</td>\n",
       "      <td>13,414,264.03</td>\n",
       "      <td>105.00</td>\n",
       "      <td>4.28</td>\n",
       "      <td>0.00</td>\n",
       "      <td>...</td>\n",
       "      <td>NaN</td>\n",
       "      <td>AECOM3968 44396800</td>\n",
       "      <td>AA</td>\n",
       "      <td>Fixed Income</td>\n",
       "      <td>7100494</td>\n",
       "      <td>NaN</td>\n",
       "      <td>NaN</td>\n",
       "      <td>NaN</td>\n",
       "      <td>Investment Entity</td>\n",
       "      <td>CG Investment Portfolio</td>\n",
       "    </tr>\n",
       "    <tr>\n",
       "      <th>4</th>\n",
       "      <td>1967904</td>\n",
       "      <td>2019-05-31</td>\n",
       "      <td>AA</td>\n",
       "      <td>2019-05-31</td>\n",
       "      <td>404305</td>\n",
       "      <td>13,704,476.48</td>\n",
       "      <td>13,704,476.48</td>\n",
       "      <td>109.38</td>\n",
       "      <td>4.37</td>\n",
       "      <td>0.00</td>\n",
       "      <td>...</td>\n",
       "      <td>NaN</td>\n",
       "      <td>AECOM3968 44396800</td>\n",
       "      <td>AA</td>\n",
       "      <td>Fixed Income</td>\n",
       "      <td>7100494</td>\n",
       "      <td>NaN</td>\n",
       "      <td>NaN</td>\n",
       "      <td>NaN</td>\n",
       "      <td>Investment Entity</td>\n",
       "      <td>CG Investment Portfolio</td>\n",
       "    </tr>\n",
       "  </tbody>\n",
       "</table>\n",
       "<p>5 rows × 131 columns</p>\n",
       "</div>"
      ],
      "text/plain": [
       "   DWCGPortfolioID   AsofDate InvestmentPortfolioTypeCode ProcessCycleDate  \\\n",
       "0          1967582 2019-01-31                          AA       2019-01-31   \n",
       "1          1967904 2019-03-29                          AA       2019-03-29   \n",
       "2          1967904 2019-02-28                          AA       2019-02-28   \n",
       "3          1967904 2019-04-30                          AA       2019-04-30   \n",
       "4          1967904 2019-05-31                          AA       2019-05-31   \n",
       "\n",
       "   PortfolioUID  TotalUSDMarketValue  FICustomUSDMarketValue  PrimaryPrice  \\\n",
       "0        404305                 0.00                    0.00          0.00   \n",
       "1        404305        13,330,424.88           13,330,424.88        104.35   \n",
       "2        404305        12,743,550.83           12,743,550.83        100.26   \n",
       "3        404305        13,414,264.03           13,414,264.03        105.00   \n",
       "4        404305        13,704,476.48           13,704,476.48        109.38   \n",
       "\n",
       "   InstrumentCouponRate  CurrentSpreadBasisPoint  ...  FundAccountSubTypeName  \\\n",
       "0                  0.00                     0.00  ...                     NaN   \n",
       "1                  4.36                     0.00  ...                     NaN   \n",
       "2                  4.31                     0.00  ...                     NaN   \n",
       "3                  4.28                     0.00  ...                     NaN   \n",
       "4                  4.37                     0.00  ...                     NaN   \n",
       "\n",
       "        PortfolioName  InvestmentPortfolioTypeCode.1  \\\n",
       "0  AECOM3968 44396800                             AA   \n",
       "1  AECOM3968 44396800                             AA   \n",
       "2  AECOM3968 44396800                             AA   \n",
       "3  AECOM3968 44396800                             AA   \n",
       "4  AECOM3968 44396800                             AA   \n",
       "\n",
       "   InvestmentAssetClassName  InvestmentAccountUID  InvestmentPortfolioName  \\\n",
       "0              Fixed Income               7100494                      NaN   \n",
       "1              Fixed Income               7100494                      NaN   \n",
       "2              Fixed Income               7100494                      NaN   \n",
       "3              Fixed Income               7100494                      NaN   \n",
       "4              Fixed Income               7100494                      NaN   \n",
       "\n",
       "   Investment Spectrum  Performance Grouping  InvestmentPortfolioBaseTypeName  \\\n",
       "0                  NaN                   NaN                Investment Entity   \n",
       "1                  NaN                   NaN                Investment Entity   \n",
       "2                  NaN                   NaN                Investment Entity   \n",
       "3                  NaN                   NaN                Investment Entity   \n",
       "4                  NaN                   NaN                Investment Entity   \n",
       "\n",
       "   PortfolioCategoryTypeName  \n",
       "0    CG Investment Portfolio  \n",
       "1    CG Investment Portfolio  \n",
       "2    CG Investment Portfolio  \n",
       "3    CG Investment Portfolio  \n",
       "4    CG Investment Portfolio  \n",
       "\n",
       "[5 rows x 131 columns]"
      ]
     },
     "execution_count": 3,
     "metadata": {},
     "output_type": "execute_result"
    }
   ],
   "source": [
    "df = pd.read_excel('data/fi-analytics-data.xlsx', sheet_name='Data')\n",
    "data = df\n",
    "print(df.shape)\n",
    "df.head()"
   ]
  },
  {
   "cell_type": "markdown",
   "metadata": {},
   "source": [
    "### Column Headers"
   ]
  },
  {
   "cell_type": "code",
   "execution_count": 4,
   "metadata": {},
   "outputs": [],
   "source": [
    "headers = df.columns.values"
   ]
  },
  {
   "cell_type": "markdown",
   "metadata": {},
   "source": [
    "#### Filter columns into sets for later use"
   ]
  },
  {
   "cell_type": "code",
   "execution_count": 5,
   "metadata": {},
   "outputs": [
    {
     "data": {
      "text/plain": [
       "['AlternativeOptionAdjustedSpreadBasisPoint',\n",
       " 'EffectiveKeyRateDuration10YearNumber',\n",
       " 'EffectiveKeyRateDuration15YearNumber',\n",
       " 'EffectiveKeyRateDuration1YearNumber',\n",
       " 'EffectiveKeyRateDuration20YearNumber',\n",
       " 'EffectiveKeyRateDuration25YearNumber',\n",
       " 'EffectiveKeyRateDuration2YearNumber',\n",
       " 'EffectiveKeyRateDuration30YearNumber',\n",
       " 'EffectiveKeyRateDuration3MonthNumber',\n",
       " 'EffectiveKeyRateDuration3YearNumber',\n",
       " 'EffectiveKeyRateDuration40YearNumber',\n",
       " 'EffectiveKeyRateDuration50YearNumber',\n",
       " 'EffectiveKeyRateDuration5YearNumber',\n",
       " 'EffectiveKeyRateDuration7YearNumber',\n",
       " 'InstrumentCouponRate',\n",
       " 'OptionAdjustedSpreadBasisPoint',\n",
       " 'ProjectedWeightedAverageCouponNumber',\n",
       " 'ProjectedWeightedAverageLifeEquivalentCPRNumber',\n",
       " 'ProjectedWeightedAverageLifeEquivalentPSANumber',\n",
       " 'WeightedAverageLifeNumber',\n",
       " 'WeightedAverageLifetoMaturityNumber',\n",
       " 'WeightedAverageLifetoWorstNumber',\n",
       " 'YieldToWorstSpreadToMaturityNumber',\n",
       " 'YieldToWorstWithSinkingFundPercent',\n",
       " 'YieldtoMaturityPercent',\n",
       " 'ZeroVolatilityAverageLifeNumber']"
      ]
     },
     "execution_count": 5,
     "metadata": {},
     "output_type": "execute_result"
    }
   ],
   "source": [
    "#Filter out the DW.+ columns from the main dataframe\n",
    "regex = re.compile(r'EffectiveKeyRateDuration.+|YieldToWorst.+|YieldtoMaturity.+|OptionAdjustedSpread.+|AverageLife.+|Coupon.+')\n",
    "\n",
    "key_cols = sorted(list(filter(regex.search, headers)))\n",
    "key_cols"
   ]
  },
  {
   "cell_type": "code",
   "execution_count": 6,
   "metadata": {},
   "outputs": [
    {
     "data": {
      "text/plain": [
       "['AlternativeOptionAdjustedSpreadBasisPoint',\n",
       " 'EffectiveKeyRateDuration10YearNumber',\n",
       " 'EffectiveKeyRateDuration15YearNumber',\n",
       " 'EffectiveKeyRateDuration1YearNumber',\n",
       " 'EffectiveKeyRateDuration20YearNumber',\n",
       " 'EffectiveKeyRateDuration25YearNumber',\n",
       " 'EffectiveKeyRateDuration2YearNumber',\n",
       " 'EffectiveKeyRateDuration30YearNumber',\n",
       " 'EffectiveKeyRateDuration3MonthNumber',\n",
       " 'EffectiveKeyRateDuration3YearNumber',\n",
       " 'EffectiveKeyRateDuration40YearNumber',\n",
       " 'EffectiveKeyRateDuration50YearNumber',\n",
       " 'EffectiveKeyRateDuration5YearNumber',\n",
       " 'EffectiveKeyRateDuration7YearNumber',\n",
       " 'InstrumentCouponRate',\n",
       " 'OptionAdjustedSpreadBasisPoint',\n",
       " 'ProjectedWeightedAverageCouponNumber',\n",
       " 'ProjectedWeightedAverageLifeEquivalentCPRNumber',\n",
       " 'ProjectedWeightedAverageLifeEquivalentPSANumber',\n",
       " 'WeightedAverageLifeNumber',\n",
       " 'WeightedAverageLifetoMaturityNumber',\n",
       " 'WeightedAverageLifetoWorstNumber',\n",
       " 'YieldToWorstSpreadToMaturityNumber',\n",
       " 'YieldToWorstWithSinkingFundPercent',\n",
       " 'YieldtoMaturityPercent',\n",
       " 'ZeroVolatilityAverageLifeNumber']"
      ]
     },
     "execution_count": 6,
     "metadata": {},
     "output_type": "execute_result"
    }
   ],
   "source": [
    "feat_cols = key_cols\n",
    "feat_cols"
   ]
  },
  {
   "cell_type": "code",
   "execution_count": 7,
   "metadata": {},
   "outputs": [],
   "source": [
    "feat_cols.insert(0, 'FICustomUSDMarketValue')"
   ]
  },
  {
   "cell_type": "code",
   "execution_count": 8,
   "metadata": {},
   "outputs": [
    {
     "data": {
      "text/plain": [
       "['FICustomUSDMarketValue',\n",
       " 'AlternativeOptionAdjustedSpreadBasisPoint',\n",
       " 'EffectiveKeyRateDuration10YearNumber',\n",
       " 'EffectiveKeyRateDuration15YearNumber',\n",
       " 'EffectiveKeyRateDuration1YearNumber',\n",
       " 'EffectiveKeyRateDuration20YearNumber',\n",
       " 'EffectiveKeyRateDuration25YearNumber',\n",
       " 'EffectiveKeyRateDuration2YearNumber',\n",
       " 'EffectiveKeyRateDuration30YearNumber',\n",
       " 'EffectiveKeyRateDuration3MonthNumber',\n",
       " 'EffectiveKeyRateDuration3YearNumber',\n",
       " 'EffectiveKeyRateDuration40YearNumber',\n",
       " 'EffectiveKeyRateDuration50YearNumber',\n",
       " 'EffectiveKeyRateDuration5YearNumber',\n",
       " 'EffectiveKeyRateDuration7YearNumber',\n",
       " 'InstrumentCouponRate',\n",
       " 'OptionAdjustedSpreadBasisPoint',\n",
       " 'ProjectedWeightedAverageCouponNumber',\n",
       " 'ProjectedWeightedAverageLifeEquivalentCPRNumber',\n",
       " 'ProjectedWeightedAverageLifeEquivalentPSANumber',\n",
       " 'WeightedAverageLifeNumber',\n",
       " 'WeightedAverageLifetoMaturityNumber',\n",
       " 'WeightedAverageLifetoWorstNumber',\n",
       " 'YieldToWorstSpreadToMaturityNumber',\n",
       " 'YieldToWorstWithSinkingFundPercent',\n",
       " 'YieldtoMaturityPercent',\n",
       " 'ZeroVolatilityAverageLifeNumber']"
      ]
     },
     "execution_count": 8,
     "metadata": {},
     "output_type": "execute_result"
    }
   ],
   "source": [
    "key_cols"
   ]
  },
  {
   "cell_type": "markdown",
   "metadata": {},
   "source": [
    "### Priority Columns"
   ]
  },
  {
   "cell_type": "markdown",
   "metadata": {},
   "source": [
    "Top Metrics to consider:\n",
    "\n",
    "- Effective Duration\n",
    "- Yield to Worst\n",
    "- Yield to Maturity\n",
    "- OAS\n",
    "- Average Life\n",
    "- Coupon"
   ]
  },
  {
   "cell_type": "code",
   "execution_count": 9,
   "metadata": {},
   "outputs": [
    {
     "data": {
      "text/plain": [
       "['AsofDate',\n",
       " 'InvestmentPortfolioName',\n",
       " 'PortfolioName',\n",
       " 'PortfolioUID',\n",
       " 'InvestmentAccountUID',\n",
       " 'FundAccountTypeName',\n",
       " 'FundAccountSubTypeName',\n",
       " 'Investment Spectrum',\n",
       " 'Performance Grouping']"
      ]
     },
     "execution_count": 9,
     "metadata": {},
     "output_type": "execute_result"
    }
   ],
   "source": [
    "ref_cols = ['AsofDate', 'InvestmentPortfolioName', 'PortfolioName', 'PortfolioUID', \n",
    "            'InvestmentAccountUID','FundAccountTypeName', 'FundAccountSubTypeName',\n",
    "            'Investment Spectrum','Performance Grouping'] \n",
    "\n",
    "ref_cols"
   ]
  },
  {
   "cell_type": "markdown",
   "metadata": {},
   "source": [
    "## Exploratory Data Analysis"
   ]
  },
  {
   "cell_type": "code",
   "execution_count": 10,
   "metadata": {},
   "outputs": [
    {
     "data": {
      "text/html": [
       "<div>\n",
       "<style scoped>\n",
       "    .dataframe tbody tr th:only-of-type {\n",
       "        vertical-align: middle;\n",
       "    }\n",
       "\n",
       "    .dataframe tbody tr th {\n",
       "        vertical-align: top;\n",
       "    }\n",
       "\n",
       "    .dataframe thead th {\n",
       "        text-align: right;\n",
       "    }\n",
       "</style>\n",
       "<table border=\"1\" class=\"dataframe\">\n",
       "  <thead>\n",
       "    <tr style=\"text-align: right;\">\n",
       "      <th></th>\n",
       "      <th>DWCGPortfolioID</th>\n",
       "      <th>PortfolioUID</th>\n",
       "      <th>TotalUSDMarketValue</th>\n",
       "      <th>FICustomUSDMarketValue</th>\n",
       "      <th>PrimaryPrice</th>\n",
       "      <th>InstrumentCouponRate</th>\n",
       "      <th>CurrentSpreadBasisPoint</th>\n",
       "      <th>DiscountMarginBasisPoint</th>\n",
       "      <th>MacauleyDurationNumber</th>\n",
       "      <th>ModifiedDurationtoMaturityNumber</th>\n",
       "      <th>...</th>\n",
       "      <th>ProjectedWeightedAverageMaturityNumber</th>\n",
       "      <th>ProjectedWeightedAverageCouponNumber</th>\n",
       "      <th>CGDollarValue01Percent</th>\n",
       "      <th>TraderDurationNumber</th>\n",
       "      <th>YieldToWorstWithSinkingFundPercent</th>\n",
       "      <th>YieldToCallPercent</th>\n",
       "      <th>DWCreateByProcessID</th>\n",
       "      <th>DWUpdateByProcessID</th>\n",
       "      <th>DWVersion</th>\n",
       "      <th>InvestmentAccountUID</th>\n",
       "    </tr>\n",
       "  </thead>\n",
       "  <tbody>\n",
       "    <tr>\n",
       "      <th>count</th>\n",
       "      <td>4,753.00</td>\n",
       "      <td>4,753.00</td>\n",
       "      <td>4,753.00</td>\n",
       "      <td>4,753.00</td>\n",
       "      <td>4,753.00</td>\n",
       "      <td>4,753.00</td>\n",
       "      <td>4,753.00</td>\n",
       "      <td>4,753.00</td>\n",
       "      <td>4,753.00</td>\n",
       "      <td>4,753.00</td>\n",
       "      <td>...</td>\n",
       "      <td>4,753.00</td>\n",
       "      <td>4,753.00</td>\n",
       "      <td>4,753.00</td>\n",
       "      <td>4,753.00</td>\n",
       "      <td>4,753.00</td>\n",
       "      <td>4,753.00</td>\n",
       "      <td>4,753.00</td>\n",
       "      <td>4,753.00</td>\n",
       "      <td>4,753.00</td>\n",
       "      <td>4,753.00</td>\n",
       "    </tr>\n",
       "    <tr>\n",
       "      <th>mean</th>\n",
       "      <td>1,683,076.94</td>\n",
       "      <td>208,279.92</td>\n",
       "      <td>6,466,020,810.41</td>\n",
       "      <td>1,369,329,153.17</td>\n",
       "      <td>170.01</td>\n",
       "      <td>2.74</td>\n",
       "      <td>-0.12</td>\n",
       "      <td>3.38</td>\n",
       "      <td>4.41</td>\n",
       "      <td>4.41</td>\n",
       "      <td>...</td>\n",
       "      <td>5.70</td>\n",
       "      <td>0.20</td>\n",
       "      <td>0.05</td>\n",
       "      <td>3.41</td>\n",
       "      <td>0.00</td>\n",
       "      <td>0.42</td>\n",
       "      <td>530.94</td>\n",
       "      <td>530.94</td>\n",
       "      <td>0.00</td>\n",
       "      <td>91,505,874.32</td>\n",
       "    </tr>\n",
       "    <tr>\n",
       "      <th>std</th>\n",
       "      <td>252,547.98</td>\n",
       "      <td>121,121.97</td>\n",
       "      <td>22,793,699,765.38</td>\n",
       "      <td>5,932,134,284.74</td>\n",
       "      <td>784.71</td>\n",
       "      <td>3.32</td>\n",
       "      <td>0.78</td>\n",
       "      <td>16.52</td>\n",
       "      <td>4.84</td>\n",
       "      <td>4.84</td>\n",
       "      <td>...</td>\n",
       "      <td>9.60</td>\n",
       "      <td>0.40</td>\n",
       "      <td>0.05</td>\n",
       "      <td>2.73</td>\n",
       "      <td>0.00</td>\n",
       "      <td>31.34</td>\n",
       "      <td>1.00</td>\n",
       "      <td>1.00</td>\n",
       "      <td>0.00</td>\n",
       "      <td>68,889,114.32</td>\n",
       "    </tr>\n",
       "    <tr>\n",
       "      <th>min</th>\n",
       "      <td>1,194,666.00</td>\n",
       "      <td>1.00</td>\n",
       "      <td>-637,862.61</td>\n",
       "      <td>-637,862.61</td>\n",
       "      <td>-14,905.88</td>\n",
       "      <td>-55.31</td>\n",
       "      <td>-21.36</td>\n",
       "      <td>-334.50</td>\n",
       "      <td>-6.08</td>\n",
       "      <td>-6.05</td>\n",
       "      <td>...</td>\n",
       "      <td>-119.00</td>\n",
       "      <td>-0.00</td>\n",
       "      <td>-0.01</td>\n",
       "      <td>-1.50</td>\n",
       "      <td>0.00</td>\n",
       "      <td>-1,041.58</td>\n",
       "      <td>530.00</td>\n",
       "      <td>530.00</td>\n",
       "      <td>0.00</td>\n",
       "      <td>100,063.00</td>\n",
       "    </tr>\n",
       "    <tr>\n",
       "      <th>25%</th>\n",
       "      <td>1,552,070.00</td>\n",
       "      <td>105,823.00</td>\n",
       "      <td>5,851,330.66</td>\n",
       "      <td>256,793.41</td>\n",
       "      <td>0.00</td>\n",
       "      <td>0.00</td>\n",
       "      <td>0.00</td>\n",
       "      <td>0.00</td>\n",
       "      <td>1.38</td>\n",
       "      <td>1.37</td>\n",
       "      <td>...</td>\n",
       "      <td>0.00</td>\n",
       "      <td>0.00</td>\n",
       "      <td>0.01</td>\n",
       "      <td>1.01</td>\n",
       "      <td>0.00</td>\n",
       "      <td>0.00</td>\n",
       "      <td>530.00</td>\n",
       "      <td>530.00</td>\n",
       "      <td>0.00</td>\n",
       "      <td>28,064,476.00</td>\n",
       "    </tr>\n",
       "    <tr>\n",
       "      <th>50%</th>\n",
       "      <td>1,768,385.00</td>\n",
       "      <td>229,829.00</td>\n",
       "      <td>81,019,129.14</td>\n",
       "      <td>22,252,551.22</td>\n",
       "      <td>101.87</td>\n",
       "      <td>2.85</td>\n",
       "      <td>0.00</td>\n",
       "      <td>0.16</td>\n",
       "      <td>4.58</td>\n",
       "      <td>4.58</td>\n",
       "      <td>...</td>\n",
       "      <td>6.00</td>\n",
       "      <td>0.00</td>\n",
       "      <td>0.05</td>\n",
       "      <td>3.36</td>\n",
       "      <td>0.00</td>\n",
       "      <td>0.01</td>\n",
       "      <td>530.00</td>\n",
       "      <td>530.00</td>\n",
       "      <td>0.00</td>\n",
       "      <td>74,100,137.00</td>\n",
       "    </tr>\n",
       "    <tr>\n",
       "      <th>75%</th>\n",
       "      <td>1,885,303.00</td>\n",
       "      <td>302,953.00</td>\n",
       "      <td>849,089,467.35</td>\n",
       "      <td>284,265,297.55</td>\n",
       "      <td>136.29</td>\n",
       "      <td>4.30</td>\n",
       "      <td>0.00</td>\n",
       "      <td>2.00</td>\n",
       "      <td>6.20</td>\n",
       "      <td>6.21</td>\n",
       "      <td>...</td>\n",
       "      <td>9.00</td>\n",
       "      <td>0.24</td>\n",
       "      <td>0.07</td>\n",
       "      <td>5.19</td>\n",
       "      <td>0.00</td>\n",
       "      <td>0.02</td>\n",
       "      <td>532.00</td>\n",
       "      <td>532.00</td>\n",
       "      <td>0.00</td>\n",
       "      <td>162,100,013.00</td>\n",
       "    </tr>\n",
       "    <tr>\n",
       "      <th>max</th>\n",
       "      <td>2,070,705.00</td>\n",
       "      <td>413,372.00</td>\n",
       "      <td>199,318,080,594.02</td>\n",
       "      <td>113,375,155,864.01</td>\n",
       "      <td>30,951.34</td>\n",
       "      <td>117.05</td>\n",
       "      <td>0.12</td>\n",
       "      <td>525.38</td>\n",
       "      <td>245.79</td>\n",
       "      <td>245.62</td>\n",
       "      <td>...</td>\n",
       "      <td>300.00</td>\n",
       "      <td>6.07</td>\n",
       "      <td>0.92</td>\n",
       "      <td>31.39</td>\n",
       "      <td>0.00</td>\n",
       "      <td>1,382.34</td>\n",
       "      <td>532.00</td>\n",
       "      <td>532.00</td>\n",
       "      <td>0.00</td>\n",
       "      <td>211,101,547.00</td>\n",
       "    </tr>\n",
       "  </tbody>\n",
       "</table>\n",
       "<p>8 rows × 111 columns</p>\n",
       "</div>"
      ],
      "text/plain": [
       "       DWCGPortfolioID  PortfolioUID  TotalUSDMarketValue  \\\n",
       "count         4,753.00      4,753.00             4,753.00   \n",
       "mean      1,683,076.94    208,279.92     6,466,020,810.41   \n",
       "std         252,547.98    121,121.97    22,793,699,765.38   \n",
       "min       1,194,666.00          1.00          -637,862.61   \n",
       "25%       1,552,070.00    105,823.00         5,851,330.66   \n",
       "50%       1,768,385.00    229,829.00        81,019,129.14   \n",
       "75%       1,885,303.00    302,953.00       849,089,467.35   \n",
       "max       2,070,705.00    413,372.00   199,318,080,594.02   \n",
       "\n",
       "       FICustomUSDMarketValue  PrimaryPrice  InstrumentCouponRate  \\\n",
       "count                4,753.00      4,753.00              4,753.00   \n",
       "mean         1,369,329,153.17        170.01                  2.74   \n",
       "std          5,932,134,284.74        784.71                  3.32   \n",
       "min               -637,862.61    -14,905.88                -55.31   \n",
       "25%                256,793.41          0.00                  0.00   \n",
       "50%             22,252,551.22        101.87                  2.85   \n",
       "75%            284,265,297.55        136.29                  4.30   \n",
       "max        113,375,155,864.01     30,951.34                117.05   \n",
       "\n",
       "       CurrentSpreadBasisPoint  DiscountMarginBasisPoint  \\\n",
       "count                 4,753.00                  4,753.00   \n",
       "mean                     -0.12                      3.38   \n",
       "std                       0.78                     16.52   \n",
       "min                     -21.36                   -334.50   \n",
       "25%                       0.00                      0.00   \n",
       "50%                       0.00                      0.16   \n",
       "75%                       0.00                      2.00   \n",
       "max                       0.12                    525.38   \n",
       "\n",
       "       MacauleyDurationNumber  ModifiedDurationtoMaturityNumber  ...  \\\n",
       "count                4,753.00                          4,753.00  ...   \n",
       "mean                     4.41                              4.41  ...   \n",
       "std                      4.84                              4.84  ...   \n",
       "min                     -6.08                             -6.05  ...   \n",
       "25%                      1.38                              1.37  ...   \n",
       "50%                      4.58                              4.58  ...   \n",
       "75%                      6.20                              6.21  ...   \n",
       "max                    245.79                            245.62  ...   \n",
       "\n",
       "       ProjectedWeightedAverageMaturityNumber  \\\n",
       "count                                4,753.00   \n",
       "mean                                     5.70   \n",
       "std                                      9.60   \n",
       "min                                   -119.00   \n",
       "25%                                      0.00   \n",
       "50%                                      6.00   \n",
       "75%                                      9.00   \n",
       "max                                    300.00   \n",
       "\n",
       "       ProjectedWeightedAverageCouponNumber  CGDollarValue01Percent  \\\n",
       "count                              4,753.00                4,753.00   \n",
       "mean                                   0.20                    0.05   \n",
       "std                                    0.40                    0.05   \n",
       "min                                   -0.00                   -0.01   \n",
       "25%                                    0.00                    0.01   \n",
       "50%                                    0.00                    0.05   \n",
       "75%                                    0.24                    0.07   \n",
       "max                                    6.07                    0.92   \n",
       "\n",
       "       TraderDurationNumber  YieldToWorstWithSinkingFundPercent  \\\n",
       "count              4,753.00                            4,753.00   \n",
       "mean                   3.41                                0.00   \n",
       "std                    2.73                                0.00   \n",
       "min                   -1.50                                0.00   \n",
       "25%                    1.01                                0.00   \n",
       "50%                    3.36                                0.00   \n",
       "75%                    5.19                                0.00   \n",
       "max                   31.39                                0.00   \n",
       "\n",
       "       YieldToCallPercent  DWCreateByProcessID  DWUpdateByProcessID  \\\n",
       "count            4,753.00             4,753.00             4,753.00   \n",
       "mean                 0.42               530.94               530.94   \n",
       "std                 31.34                 1.00                 1.00   \n",
       "min             -1,041.58               530.00               530.00   \n",
       "25%                  0.00               530.00               530.00   \n",
       "50%                  0.01               530.00               530.00   \n",
       "75%                  0.02               532.00               532.00   \n",
       "max              1,382.34               532.00               532.00   \n",
       "\n",
       "       DWVersion  InvestmentAccountUID  \n",
       "count   4,753.00              4,753.00  \n",
       "mean        0.00         91,505,874.32  \n",
       "std         0.00         68,889,114.32  \n",
       "min         0.00            100,063.00  \n",
       "25%         0.00         28,064,476.00  \n",
       "50%         0.00         74,100,137.00  \n",
       "75%         0.00        162,100,013.00  \n",
       "max         0.00        211,101,547.00  \n",
       "\n",
       "[8 rows x 111 columns]"
      ]
     },
     "execution_count": 10,
     "metadata": {},
     "output_type": "execute_result"
    }
   ],
   "source": [
    "df.describe()"
   ]
  },
  {
   "cell_type": "markdown",
   "metadata": {},
   "source": [
    "#### Correlation Matrix"
   ]
  },
  {
   "cell_type": "code",
   "execution_count": 11,
   "metadata": {},
   "outputs": [
    {
     "data": {
      "text/plain": [
       "<matplotlib.axes._subplots.AxesSubplot at 0x12f30a20>"
      ]
     },
     "execution_count": 11,
     "metadata": {},
     "output_type": "execute_result"
    },
    {
     "data": {
      "image/png": "[encoded data removed]",
      "text/plain": [
       "<Figure size 432x288 with 2 Axes>"
      ]
     },
     "metadata": {
      "needs_background": "light"
     },
     "output_type": "display_data"
    }
   ],
   "source": [
    "sns.heatmap(df.corr())"
   ]
  },
  {
   "cell_type": "code",
   "execution_count": 12,
   "metadata": {},
   "outputs": [],
   "source": [
    "#df.info(verbose=True, null_counts=True)"
   ]
  },
  {
   "cell_type": "markdown",
   "metadata": {},
   "source": [
    "## Preprocessing Data"
   ]
  },
  {
   "cell_type": "markdown",
   "metadata": {},
   "source": [
    "#### Filter for Fixed Income, As of Date, and not PCS Funds"
   ]
  },
  {
   "cell_type": "code",
   "execution_count": 13,
   "metadata": {},
   "outputs": [
    {
     "data": {
      "text/plain": [
       "[numpy.datetime64('1900-01-01T00:00:00.000000000'),\n",
       " numpy.datetime64('2018-05-31T00:00:00.000000000'),\n",
       " numpy.datetime64('2018-06-29T00:00:00.000000000'),\n",
       " numpy.datetime64('2018-07-31T00:00:00.000000000'),\n",
       " numpy.datetime64('2018-08-31T00:00:00.000000000'),\n",
       " numpy.datetime64('2018-09-28T00:00:00.000000000'),\n",
       " numpy.datetime64('2018-10-31T00:00:00.000000000'),\n",
       " numpy.datetime64('2018-11-30T00:00:00.000000000'),\n",
       " numpy.datetime64('2018-12-31T00:00:00.000000000'),\n",
       " numpy.datetime64('2019-01-31T00:00:00.000000000'),\n",
       " numpy.datetime64('2019-02-28T00:00:00.000000000'),\n",
       " numpy.datetime64('2019-03-29T00:00:00.000000000'),\n",
       " numpy.datetime64('2019-04-30T00:00:00.000000000'),\n",
       " numpy.datetime64('2019-05-31T00:00:00.000000000'),\n",
       " numpy.datetime64('2019-06-28T00:00:00.000000000')]"
      ]
     },
     "execution_count": 13,
     "metadata": {},
     "output_type": "execute_result"
    }
   ],
   "source": [
    "# Filter for As of Date, will be using \"2019-06-28\"\n",
    "sorted(list(df.AsofDate.unique()))"
   ]
  },
  {
   "cell_type": "code",
   "execution_count": 14,
   "metadata": {},
   "outputs": [],
   "source": [
    "# Filter for Fixed Income\n",
    "filter_fi = (df['InvestmentAssetClassName'] == 'Fixed Income')\n",
    "\n",
    "# Filter for not PCS Funds\n",
    "filter_pcs = (df['FundAccountSubTypeName'] != 'PCS Fund')\n",
    "\n",
    "# Filter for recent As of Date\n",
    "filter_date = (df['AsofDate'] == '2019-06-28') #2019-06-28\n",
    "\n",
    "# All filters\n",
    "filter_all = (filter_fi & filter_pcs & filter_date) #filter_date\n",
    "#filter_all"
   ]
  },
  {
   "cell_type": "code",
   "execution_count": 15,
   "metadata": {},
   "outputs": [
    {
     "name": "stdout",
     "output_type": "stream",
     "text": [
      "(109, 131)\n"
     ]
    },
    {
     "data": {
      "text/html": [
       "<div>\n",
       "<style scoped>\n",
       "    .dataframe tbody tr th:only-of-type {\n",
       "        vertical-align: middle;\n",
       "    }\n",
       "\n",
       "    .dataframe tbody tr th {\n",
       "        vertical-align: top;\n",
       "    }\n",
       "\n",
       "    .dataframe thead th {\n",
       "        text-align: right;\n",
       "    }\n",
       "</style>\n",
       "<table border=\"1\" class=\"dataframe\">\n",
       "  <thead>\n",
       "    <tr style=\"text-align: right;\">\n",
       "      <th></th>\n",
       "      <th>DWCGPortfolioID</th>\n",
       "      <th>AsofDate</th>\n",
       "      <th>InvestmentPortfolioTypeCode</th>\n",
       "      <th>ProcessCycleDate</th>\n",
       "      <th>PortfolioUID</th>\n",
       "      <th>TotalUSDMarketValue</th>\n",
       "      <th>FICustomUSDMarketValue</th>\n",
       "      <th>PrimaryPrice</th>\n",
       "      <th>InstrumentCouponRate</th>\n",
       "      <th>CurrentSpreadBasisPoint</th>\n",
       "      <th>...</th>\n",
       "      <th>FundAccountSubTypeName</th>\n",
       "      <th>PortfolioName</th>\n",
       "      <th>InvestmentPortfolioTypeCode.1</th>\n",
       "      <th>InvestmentAssetClassName</th>\n",
       "      <th>InvestmentAccountUID</th>\n",
       "      <th>InvestmentPortfolioName</th>\n",
       "      <th>Investment Spectrum</th>\n",
       "      <th>Performance Grouping</th>\n",
       "      <th>InvestmentPortfolioBaseTypeName</th>\n",
       "      <th>PortfolioCategoryTypeName</th>\n",
       "    </tr>\n",
       "  </thead>\n",
       "  <tbody>\n",
       "    <tr>\n",
       "      <th>5</th>\n",
       "      <td>1967904</td>\n",
       "      <td>2019-06-28</td>\n",
       "      <td>AA</td>\n",
       "      <td>2019-06-28</td>\n",
       "      <td>404305</td>\n",
       "      <td>14,259,104.70</td>\n",
       "      <td>14,259,104.70</td>\n",
       "      <td>112.67</td>\n",
       "      <td>4.41</td>\n",
       "      <td>0.00</td>\n",
       "      <td>...</td>\n",
       "      <td>NaN</td>\n",
       "      <td>AECOM3968 44396800</td>\n",
       "      <td>AA</td>\n",
       "      <td>Fixed Income</td>\n",
       "      <td>7100494</td>\n",
       "      <td>NaN</td>\n",
       "      <td>NaN</td>\n",
       "      <td>NaN</td>\n",
       "      <td>Investment Entity</td>\n",
       "      <td>CG Investment Portfolio</td>\n",
       "    </tr>\n",
       "    <tr>\n",
       "      <th>45</th>\n",
       "      <td>1291779</td>\n",
       "      <td>2019-06-28</td>\n",
       "      <td>AA</td>\n",
       "      <td>2019-06-28</td>\n",
       "      <td>231964</td>\n",
       "      <td>6,339,839,622.69</td>\n",
       "      <td>6,339,839,622.69</td>\n",
       "      <td>174.86</td>\n",
       "      <td>3.18</td>\n",
       "      <td>0.00</td>\n",
       "      <td>...</td>\n",
       "      <td>American Fund</td>\n",
       "      <td>AFMF       11000042</td>\n",
       "      <td>AA</td>\n",
       "      <td>Fixed Income</td>\n",
       "      <td>197100048</td>\n",
       "      <td>American Funds Mortgage Fund</td>\n",
       "      <td>Taxable Bond</td>\n",
       "      <td>Mortgage Fund</td>\n",
       "      <td>Investment Entity</td>\n",
       "      <td>CG Investment Portfolio</td>\n",
       "    </tr>\n",
       "    <tr>\n",
       "      <th>348</th>\n",
       "      <td>1274095</td>\n",
       "      <td>2019-06-28</td>\n",
       "      <td>AA</td>\n",
       "      <td>2019-06-28</td>\n",
       "      <td>191422</td>\n",
       "      <td>7,575,699,721.51</td>\n",
       "      <td>7,575,699,721.51</td>\n",
       "      <td>114.95</td>\n",
       "      <td>4.76</td>\n",
       "      <td>0.00</td>\n",
       "      <td>...</td>\n",
       "      <td>American Fund</td>\n",
       "      <td>AHIM       11000040</td>\n",
       "      <td>AA</td>\n",
       "      <td>Fixed Income</td>\n",
       "      <td>70001130</td>\n",
       "      <td>American High-Income Municipal Bond Fund</td>\n",
       "      <td>Tax-Exempt Bond</td>\n",
       "      <td>NaN</td>\n",
       "      <td>Investment Entity</td>\n",
       "      <td>CG Investment Portfolio</td>\n",
       "    </tr>\n",
       "    <tr>\n",
       "      <th>364</th>\n",
       "      <td>1198634</td>\n",
       "      <td>2019-06-28</td>\n",
       "      <td>AA</td>\n",
       "      <td>2019-06-28</td>\n",
       "      <td>11193</td>\n",
       "      <td>16,612,608,727.96</td>\n",
       "      <td>16,612,608,727.96</td>\n",
       "      <td>96.28</td>\n",
       "      <td>6.36</td>\n",
       "      <td>0.00</td>\n",
       "      <td>...</td>\n",
       "      <td>American Fund</td>\n",
       "      <td>AHIT       11000021</td>\n",
       "      <td>AA</td>\n",
       "      <td>Fixed Income</td>\n",
       "      <td>21000021</td>\n",
       "      <td>American High-Income Trust</td>\n",
       "      <td>Taxable Bond</td>\n",
       "      <td>High-Income Bond/Trust Fund</td>\n",
       "      <td>Investment Entity</td>\n",
       "      <td>CG Investment Portfolio</td>\n",
       "    </tr>\n",
       "    <tr>\n",
       "      <th>412</th>\n",
       "      <td>1733587</td>\n",
       "      <td>2019-06-28</td>\n",
       "      <td>AA</td>\n",
       "      <td>2019-06-28</td>\n",
       "      <td>183673</td>\n",
       "      <td>431,867,803.80</td>\n",
       "      <td>431,867,803.80</td>\n",
       "      <td>96.93</td>\n",
       "      <td>6.12</td>\n",
       "      <td>0.00</td>\n",
       "      <td>...</td>\n",
       "      <td>NaN</td>\n",
       "      <td>ALASKA3705 44370500</td>\n",
       "      <td>AA</td>\n",
       "      <td>Fixed Income</td>\n",
       "      <td>23101359</td>\n",
       "      <td>Alaska Permanent Fund US FI High Yield</td>\n",
       "      <td>NaN</td>\n",
       "      <td>NaN</td>\n",
       "      <td>Investment Entity</td>\n",
       "      <td>CG Investment Portfolio</td>\n",
       "    </tr>\n",
       "  </tbody>\n",
       "</table>\n",
       "<p>5 rows × 131 columns</p>\n",
       "</div>"
      ],
      "text/plain": [
       "     DWCGPortfolioID   AsofDate InvestmentPortfolioTypeCode ProcessCycleDate  \\\n",
       "5            1967904 2019-06-28                          AA       2019-06-28   \n",
       "45           1291779 2019-06-28                          AA       2019-06-28   \n",
       "348          1274095 2019-06-28                          AA       2019-06-28   \n",
       "364          1198634 2019-06-28                          AA       2019-06-28   \n",
       "412          1733587 2019-06-28                          AA       2019-06-28   \n",
       "\n",
       "     PortfolioUID  TotalUSDMarketValue  FICustomUSDMarketValue  PrimaryPrice  \\\n",
       "5          404305        14,259,104.70           14,259,104.70        112.67   \n",
       "45         231964     6,339,839,622.69        6,339,839,622.69        174.86   \n",
       "348        191422     7,575,699,721.51        7,575,699,721.51        114.95   \n",
       "364         11193    16,612,608,727.96       16,612,608,727.96         96.28   \n",
       "412        183673       431,867,803.80          431,867,803.80         96.93   \n",
       "\n",
       "     InstrumentCouponRate  CurrentSpreadBasisPoint  ...  \\\n",
       "5                    4.41                     0.00  ...   \n",
       "45                   3.18                     0.00  ...   \n",
       "348                  4.76                     0.00  ...   \n",
       "364                  6.36                     0.00  ...   \n",
       "412                  6.12                     0.00  ...   \n",
       "\n",
       "     FundAccountSubTypeName        PortfolioName  \\\n",
       "5                       NaN   AECOM3968 44396800   \n",
       "45            American Fund  AFMF       11000042   \n",
       "348           American Fund  AHIM       11000040   \n",
       "364           American Fund  AHIT       11000021   \n",
       "412                     NaN  ALASKA3705 44370500   \n",
       "\n",
       "     InvestmentPortfolioTypeCode.1  InvestmentAssetClassName  \\\n",
       "5                               AA              Fixed Income   \n",
       "45                              AA              Fixed Income   \n",
       "348                             AA              Fixed Income   \n",
       "364                             AA              Fixed Income   \n",
       "412                             AA              Fixed Income   \n",
       "\n",
       "     InvestmentAccountUID                   InvestmentPortfolioName  \\\n",
       "5                 7100494                                       NaN   \n",
       "45              197100048              American Funds Mortgage Fund   \n",
       "348              70001130  American High-Income Municipal Bond Fund   \n",
       "364              21000021                American High-Income Trust   \n",
       "412              23101359    Alaska Permanent Fund US FI High Yield   \n",
       "\n",
       "     Investment Spectrum         Performance Grouping  \\\n",
       "5                    NaN                          NaN   \n",
       "45          Taxable Bond                Mortgage Fund   \n",
       "348      Tax-Exempt Bond                          NaN   \n",
       "364         Taxable Bond  High-Income Bond/Trust Fund   \n",
       "412                  NaN                          NaN   \n",
       "\n",
       "     InvestmentPortfolioBaseTypeName  PortfolioCategoryTypeName  \n",
       "5                  Investment Entity    CG Investment Portfolio  \n",
       "45                 Investment Entity    CG Investment Portfolio  \n",
       "348                Investment Entity    CG Investment Portfolio  \n",
       "364                Investment Entity    CG Investment Portfolio  \n",
       "412                Investment Entity    CG Investment Portfolio  \n",
       "\n",
       "[5 rows x 131 columns]"
      ]
     },
     "execution_count": 15,
     "metadata": {},
     "output_type": "execute_result"
    }
   ],
   "source": [
    "df = df[filter_all]\n",
    "print(df.shape)\n",
    "df.head()"
   ]
  },
  {
   "cell_type": "markdown",
   "metadata": {},
   "source": [
    "#### Save a copy of the reference columns"
   ]
  },
  {
   "cell_type": "code",
   "execution_count": 16,
   "metadata": {},
   "outputs": [
    {
     "data": {
      "text/html": [
       "<div>\n",
       "<style scoped>\n",
       "    .dataframe tbody tr th:only-of-type {\n",
       "        vertical-align: middle;\n",
       "    }\n",
       "\n",
       "    .dataframe tbody tr th {\n",
       "        vertical-align: top;\n",
       "    }\n",
       "\n",
       "    .dataframe thead th {\n",
       "        text-align: right;\n",
       "    }\n",
       "</style>\n",
       "<table border=\"1\" class=\"dataframe\">\n",
       "  <thead>\n",
       "    <tr style=\"text-align: right;\">\n",
       "      <th></th>\n",
       "      <th>AsofDate</th>\n",
       "      <th>InvestmentPortfolioName</th>\n",
       "      <th>PortfolioName</th>\n",
       "      <th>PortfolioUID</th>\n",
       "      <th>InvestmentAccountUID</th>\n",
       "      <th>FundAccountTypeName</th>\n",
       "      <th>FundAccountSubTypeName</th>\n",
       "      <th>Investment Spectrum</th>\n",
       "      <th>Performance Grouping</th>\n",
       "    </tr>\n",
       "  </thead>\n",
       "  <tbody>\n",
       "    <tr>\n",
       "      <th>5</th>\n",
       "      <td>2019-06-28</td>\n",
       "      <td>NaN</td>\n",
       "      <td>AECOM3968 44396800</td>\n",
       "      <td>404305</td>\n",
       "      <td>7100494</td>\n",
       "      <td>NaN</td>\n",
       "      <td>NaN</td>\n",
       "      <td>NaN</td>\n",
       "      <td>NaN</td>\n",
       "    </tr>\n",
       "    <tr>\n",
       "      <th>45</th>\n",
       "      <td>2019-06-28</td>\n",
       "      <td>American Funds Mortgage Fund</td>\n",
       "      <td>AFMF       11000042</td>\n",
       "      <td>231964</td>\n",
       "      <td>197100048</td>\n",
       "      <td>Mutual Fund</td>\n",
       "      <td>American Fund</td>\n",
       "      <td>Taxable Bond</td>\n",
       "      <td>Mortgage Fund</td>\n",
       "    </tr>\n",
       "    <tr>\n",
       "      <th>348</th>\n",
       "      <td>2019-06-28</td>\n",
       "      <td>American High-Income Municipal Bond Fund</td>\n",
       "      <td>AHIM       11000040</td>\n",
       "      <td>191422</td>\n",
       "      <td>70001130</td>\n",
       "      <td>Mutual Fund</td>\n",
       "      <td>American Fund</td>\n",
       "      <td>Tax-Exempt Bond</td>\n",
       "      <td>NaN</td>\n",
       "    </tr>\n",
       "    <tr>\n",
       "      <th>364</th>\n",
       "      <td>2019-06-28</td>\n",
       "      <td>American High-Income Trust</td>\n",
       "      <td>AHIT       11000021</td>\n",
       "      <td>11193</td>\n",
       "      <td>21000021</td>\n",
       "      <td>Mutual Fund</td>\n",
       "      <td>American Fund</td>\n",
       "      <td>Taxable Bond</td>\n",
       "      <td>High-Income Bond/Trust Fund</td>\n",
       "    </tr>\n",
       "    <tr>\n",
       "      <th>412</th>\n",
       "      <td>2019-06-28</td>\n",
       "      <td>Alaska Permanent Fund US FI High Yield</td>\n",
       "      <td>ALASKA3705 44370500</td>\n",
       "      <td>183673</td>\n",
       "      <td>23101359</td>\n",
       "      <td>NaN</td>\n",
       "      <td>NaN</td>\n",
       "      <td>NaN</td>\n",
       "      <td>NaN</td>\n",
       "    </tr>\n",
       "  </tbody>\n",
       "</table>\n",
       "</div>"
      ],
      "text/plain": [
       "      AsofDate                   InvestmentPortfolioName        PortfolioName  \\\n",
       "5   2019-06-28                                       NaN   AECOM3968 44396800   \n",
       "45  2019-06-28              American Funds Mortgage Fund  AFMF       11000042   \n",
       "348 2019-06-28  American High-Income Municipal Bond Fund  AHIM       11000040   \n",
       "364 2019-06-28                American High-Income Trust  AHIT       11000021   \n",
       "412 2019-06-28    Alaska Permanent Fund US FI High Yield  ALASKA3705 44370500   \n",
       "\n",
       "     PortfolioUID  InvestmentAccountUID FundAccountTypeName  \\\n",
       "5          404305               7100494                 NaN   \n",
       "45         231964             197100048         Mutual Fund   \n",
       "348        191422              70001130         Mutual Fund   \n",
       "364         11193              21000021         Mutual Fund   \n",
       "412        183673              23101359                 NaN   \n",
       "\n",
       "    FundAccountSubTypeName Investment Spectrum         Performance Grouping  \n",
       "5                      NaN                 NaN                          NaN  \n",
       "45           American Fund        Taxable Bond                Mortgage Fund  \n",
       "348          American Fund     Tax-Exempt Bond                          NaN  \n",
       "364          American Fund        Taxable Bond  High-Income Bond/Trust Fund  \n",
       "412                    NaN                 NaN                          NaN  "
      ]
     },
     "execution_count": 16,
     "metadata": {},
     "output_type": "execute_result"
    }
   ],
   "source": [
    "ref_df = df[ref_cols]\n",
    "ref_df.head()"
   ]
  },
  {
   "cell_type": "code",
   "execution_count": 17,
   "metadata": {},
   "outputs": [
    {
     "name": "stdout",
     "output_type": "stream",
     "text": [
      "<class 'pandas.core.frame.DataFrame'>\n",
      "Int64Index: 109 entries, 5 to 4752\n",
      "Data columns (total 9 columns):\n",
      "AsofDate                   109 non-null datetime64[ns]\n",
      "InvestmentPortfolioName    98 non-null object\n",
      "PortfolioName              109 non-null object\n",
      "PortfolioUID               109 non-null int64\n",
      "InvestmentAccountUID       109 non-null int64\n",
      "FundAccountTypeName        50 non-null object\n",
      "FundAccountSubTypeName     36 non-null object\n",
      "Investment Spectrum        22 non-null object\n",
      "Performance Grouping       10 non-null object\n",
      "dtypes: datetime64[ns](1), int64(2), object(6)\n",
      "memory usage: 8.5+ KB\n"
     ]
    }
   ],
   "source": [
    "ref_df.info(verbose=True, null_counts=True)"
   ]
  },
  {
   "cell_type": "markdown",
   "metadata": {},
   "source": [
    "#### Remove unneccessary columns"
   ]
  },
  {
   "cell_type": "code",
   "execution_count": 18,
   "metadata": {},
   "outputs": [],
   "source": [
    "# Filter out the DW.+ columns from the main dataframe\n",
    "regex = re.compile(r'DW.+')\n",
    "\n",
    "del_cols = list(filter(regex.search, headers))"
   ]
  },
  {
   "cell_type": "code",
   "execution_count": 19,
   "metadata": {},
   "outputs": [
    {
     "data": {
      "text/plain": [
       "['AsofDate',\n",
       " 'DWCGPortfolioID',\n",
       " 'DWCreateByName',\n",
       " 'DWCreateByProcessID',\n",
       " 'DWCreateDate',\n",
       " 'DWSourceSystemCode',\n",
       " 'DWUpdateByName',\n",
       " 'DWUpdateByProcessID',\n",
       " 'DWUpdateDate',\n",
       " 'DWVersion',\n",
       " 'FundAccountTypeCode',\n",
       " 'InvestmentAccountUID',\n",
       " 'InvestmentAssetClassName',\n",
       " 'InvestmentPortfolioBaseTypeName',\n",
       " 'InvestmentPortfolioTypeCode',\n",
       " 'InvestmentPortfolioTypeCode.1',\n",
       " 'PortfolioCategoryTypeName',\n",
       " 'PortfolioUID',\n",
       " 'ProcessCycleDate',\n",
       " 'SourceSystem']"
      ]
     },
     "execution_count": 19,
     "metadata": {},
     "output_type": "execute_result"
    }
   ],
   "source": [
    "# Remove these columns from the main dataframe\n",
    "del_cols.extend(['AsofDate', 'ProcessCycleDate', 'SourceSystem', \n",
    "                 'InvestmentPortfolioBaseTypeName', 'PortfolioCategoryTypeName',\n",
    "                 'InvestmentPortfolioTypeCode', 'InvestmentPortfolioTypeCode.1',\n",
    "                 'PortfolioUID', 'FundAccountTypeCode', \n",
    "                 'InvestmentAssetClassName', 'InvestmentAccountUID']) #InvestmentPortfolioName\n",
    "\n",
    "# Remove duplicates\n",
    "del_cols = list(sorted(dict.fromkeys(del_cols)))\n",
    "del_cols"
   ]
  },
  {
   "cell_type": "code",
   "execution_count": 20,
   "metadata": {},
   "outputs": [
    {
     "data": {
      "text/html": [
       "<div>\n",
       "<style scoped>\n",
       "    .dataframe tbody tr th:only-of-type {\n",
       "        vertical-align: middle;\n",
       "    }\n",
       "\n",
       "    .dataframe tbody tr th {\n",
       "        vertical-align: top;\n",
       "    }\n",
       "\n",
       "    .dataframe thead th {\n",
       "        text-align: right;\n",
       "    }\n",
       "</style>\n",
       "<table border=\"1\" class=\"dataframe\">\n",
       "  <thead>\n",
       "    <tr style=\"text-align: right;\">\n",
       "      <th></th>\n",
       "      <th>TotalUSDMarketValue</th>\n",
       "      <th>FICustomUSDMarketValue</th>\n",
       "      <th>PrimaryPrice</th>\n",
       "      <th>InstrumentCouponRate</th>\n",
       "      <th>CurrentSpreadBasisPoint</th>\n",
       "      <th>DiscountMarginBasisPoint</th>\n",
       "      <th>MacauleyDurationNumber</th>\n",
       "      <th>ModifiedDurationtoMaturityNumber</th>\n",
       "      <th>ModifiedDurationtoWorstNumber</th>\n",
       "      <th>UpOptionAdjustedDurationNumber</th>\n",
       "      <th>...</th>\n",
       "      <th>CGDollarValue01Percent</th>\n",
       "      <th>TraderDurationNumber</th>\n",
       "      <th>YieldToWorstWithSinkingFundPercent</th>\n",
       "      <th>YieldToCallPercent</th>\n",
       "      <th>FundAccountTypeName</th>\n",
       "      <th>FundAccountSubTypeName</th>\n",
       "      <th>PortfolioName</th>\n",
       "      <th>InvestmentPortfolioName</th>\n",
       "      <th>Investment Spectrum</th>\n",
       "      <th>Performance Grouping</th>\n",
       "    </tr>\n",
       "  </thead>\n",
       "  <tbody>\n",
       "    <tr>\n",
       "      <th>5</th>\n",
       "      <td>14,259,104.70</td>\n",
       "      <td>14,259,104.70</td>\n",
       "      <td>112.67</td>\n",
       "      <td>4.41</td>\n",
       "      <td>0.00</td>\n",
       "      <td>0.49</td>\n",
       "      <td>13.26</td>\n",
       "      <td>13.26</td>\n",
       "      <td>13.57</td>\n",
       "      <td>13.03</td>\n",
       "      <td>...</td>\n",
       "      <td>0.15</td>\n",
       "      <td>9.97</td>\n",
       "      <td>0</td>\n",
       "      <td>0.03</td>\n",
       "      <td>NaN</td>\n",
       "      <td>NaN</td>\n",
       "      <td>AECOM3968 44396800</td>\n",
       "      <td>NaN</td>\n",
       "      <td>NaN</td>\n",
       "      <td>NaN</td>\n",
       "    </tr>\n",
       "    <tr>\n",
       "      <th>45</th>\n",
       "      <td>6,339,839,622.69</td>\n",
       "      <td>6,339,839,622.69</td>\n",
       "      <td>174.86</td>\n",
       "      <td>3.18</td>\n",
       "      <td>0.00</td>\n",
       "      <td>-7.41</td>\n",
       "      <td>3.77</td>\n",
       "      <td>3.78</td>\n",
       "      <td>4.82</td>\n",
       "      <td>3.06</td>\n",
       "      <td>...</td>\n",
       "      <td>0.03</td>\n",
       "      <td>2.75</td>\n",
       "      <td>0</td>\n",
       "      <td>0.00</td>\n",
       "      <td>Mutual Fund</td>\n",
       "      <td>American Fund</td>\n",
       "      <td>AFMF       11000042</td>\n",
       "      <td>American Funds Mortgage Fund</td>\n",
       "      <td>Taxable Bond</td>\n",
       "      <td>Mortgage Fund</td>\n",
       "    </tr>\n",
       "    <tr>\n",
       "      <th>348</th>\n",
       "      <td>7,575,699,721.51</td>\n",
       "      <td>7,575,699,721.51</td>\n",
       "      <td>114.95</td>\n",
       "      <td>4.76</td>\n",
       "      <td>0.00</td>\n",
       "      <td>0.98</td>\n",
       "      <td>9.79</td>\n",
       "      <td>9.79</td>\n",
       "      <td>5.25</td>\n",
       "      <td>7.16</td>\n",
       "      <td>...</td>\n",
       "      <td>0.07</td>\n",
       "      <td>5.67</td>\n",
       "      <td>0</td>\n",
       "      <td>0.07</td>\n",
       "      <td>Mutual Fund</td>\n",
       "      <td>American Fund</td>\n",
       "      <td>AHIM       11000040</td>\n",
       "      <td>American High-Income Municipal Bond Fund</td>\n",
       "      <td>Tax-Exempt Bond</td>\n",
       "      <td>NaN</td>\n",
       "    </tr>\n",
       "    <tr>\n",
       "      <th>364</th>\n",
       "      <td>16,612,608,727.96</td>\n",
       "      <td>16,612,608,727.96</td>\n",
       "      <td>96.28</td>\n",
       "      <td>6.36</td>\n",
       "      <td>0.00</td>\n",
       "      <td>44.65</td>\n",
       "      <td>3.58</td>\n",
       "      <td>3.59</td>\n",
       "      <td>2.71</td>\n",
       "      <td>2.68</td>\n",
       "      <td>...</td>\n",
       "      <td>0.03</td>\n",
       "      <td>0.80</td>\n",
       "      <td>0</td>\n",
       "      <td>0.34</td>\n",
       "      <td>Mutual Fund</td>\n",
       "      <td>American Fund</td>\n",
       "      <td>AHIT       11000021</td>\n",
       "      <td>American High-Income Trust</td>\n",
       "      <td>Taxable Bond</td>\n",
       "      <td>High-Income Bond/Trust Fund</td>\n",
       "    </tr>\n",
       "    <tr>\n",
       "      <th>412</th>\n",
       "      <td>431,867,803.80</td>\n",
       "      <td>431,867,803.80</td>\n",
       "      <td>96.93</td>\n",
       "      <td>6.12</td>\n",
       "      <td>0.00</td>\n",
       "      <td>26.47</td>\n",
       "      <td>3.43</td>\n",
       "      <td>3.43</td>\n",
       "      <td>2.84</td>\n",
       "      <td>2.78</td>\n",
       "      <td>...</td>\n",
       "      <td>0.03</td>\n",
       "      <td>0.73</td>\n",
       "      <td>0</td>\n",
       "      <td>0.37</td>\n",
       "      <td>NaN</td>\n",
       "      <td>NaN</td>\n",
       "      <td>ALASKA3705 44370500</td>\n",
       "      <td>Alaska Permanent Fund US FI High Yield</td>\n",
       "      <td>NaN</td>\n",
       "      <td>NaN</td>\n",
       "    </tr>\n",
       "  </tbody>\n",
       "</table>\n",
       "<p>5 rows × 111 columns</p>\n",
       "</div>"
      ],
      "text/plain": [
       "     TotalUSDMarketValue  FICustomUSDMarketValue  PrimaryPrice  \\\n",
       "5          14,259,104.70           14,259,104.70        112.67   \n",
       "45      6,339,839,622.69        6,339,839,622.69        174.86   \n",
       "348     7,575,699,721.51        7,575,699,721.51        114.95   \n",
       "364    16,612,608,727.96       16,612,608,727.96         96.28   \n",
       "412       431,867,803.80          431,867,803.80         96.93   \n",
       "\n",
       "     InstrumentCouponRate  CurrentSpreadBasisPoint  DiscountMarginBasisPoint  \\\n",
       "5                    4.41                     0.00                      0.49   \n",
       "45                   3.18                     0.00                     -7.41   \n",
       "348                  4.76                     0.00                      0.98   \n",
       "364                  6.36                     0.00                     44.65   \n",
       "412                  6.12                     0.00                     26.47   \n",
       "\n",
       "     MacauleyDurationNumber  ModifiedDurationtoMaturityNumber  \\\n",
       "5                     13.26                             13.26   \n",
       "45                     3.77                              3.78   \n",
       "348                    9.79                              9.79   \n",
       "364                    3.58                              3.59   \n",
       "412                    3.43                              3.43   \n",
       "\n",
       "     ModifiedDurationtoWorstNumber  UpOptionAdjustedDurationNumber  ...  \\\n",
       "5                            13.57                           13.03  ...   \n",
       "45                            4.82                            3.06  ...   \n",
       "348                           5.25                            7.16  ...   \n",
       "364                           2.71                            2.68  ...   \n",
       "412                           2.84                            2.78  ...   \n",
       "\n",
       "     CGDollarValue01Percent  TraderDurationNumber  \\\n",
       "5                      0.15                  9.97   \n",
       "45                     0.03                  2.75   \n",
       "348                    0.07                  5.67   \n",
       "364                    0.03                  0.80   \n",
       "412                    0.03                  0.73   \n",
       "\n",
       "     YieldToWorstWithSinkingFundPercent  YieldToCallPercent  \\\n",
       "5                                     0                0.03   \n",
       "45                                    0                0.00   \n",
       "348                                   0                0.07   \n",
       "364                                   0                0.34   \n",
       "412                                   0                0.37   \n",
       "\n",
       "     FundAccountTypeName  FundAccountSubTypeName        PortfolioName  \\\n",
       "5                    NaN                     NaN   AECOM3968 44396800   \n",
       "45           Mutual Fund           American Fund  AFMF       11000042   \n",
       "348          Mutual Fund           American Fund  AHIM       11000040   \n",
       "364          Mutual Fund           American Fund  AHIT       11000021   \n",
       "412                  NaN                     NaN  ALASKA3705 44370500   \n",
       "\n",
       "                      InvestmentPortfolioName  Investment Spectrum  \\\n",
       "5                                         NaN                  NaN   \n",
       "45               American Funds Mortgage Fund         Taxable Bond   \n",
       "348  American High-Income Municipal Bond Fund      Tax-Exempt Bond   \n",
       "364                American High-Income Trust         Taxable Bond   \n",
       "412    Alaska Permanent Fund US FI High Yield                  NaN   \n",
       "\n",
       "            Performance Grouping  \n",
       "5                            NaN  \n",
       "45                 Mortgage Fund  \n",
       "348                          NaN  \n",
       "364  High-Income Bond/Trust Fund  \n",
       "412                          NaN  \n",
       "\n",
       "[5 rows x 111 columns]"
      ]
     },
     "execution_count": 20,
     "metadata": {},
     "output_type": "execute_result"
    }
   ],
   "source": [
    "# Save a copy of the original dataset, named \"data\"\n",
    "df = df.drop(del_cols, axis=1)\n",
    "df.head()"
   ]
  },
  {
   "cell_type": "code",
   "execution_count": 21,
   "metadata": {},
   "outputs": [
    {
     "data": {
      "text/plain": [
       "(109, 111)"
      ]
     },
     "execution_count": 21,
     "metadata": {},
     "output_type": "execute_result"
    }
   ],
   "source": [
    "df.shape"
   ]
  },
  {
   "cell_type": "code",
   "execution_count": 22,
   "metadata": {},
   "outputs": [],
   "source": [
    "#df.info(verbose=True, null_counts=True)"
   ]
  },
  {
   "cell_type": "code",
   "execution_count": 23,
   "metadata": {},
   "outputs": [],
   "source": [
    "# Remove these last categorical columns because they have a bunch of nulls, which is skewing up the analysis\n",
    "df.drop(['FundAccountTypeName', 'FundAccountSubTypeName', 'InvestmentPortfolioName', 'PortfolioName', 'Investment Spectrum', 'Performance Grouping'], axis=1, inplace=True)"
   ]
  },
  {
   "cell_type": "code",
   "execution_count": 24,
   "metadata": {},
   "outputs": [
    {
     "data": {
      "text/plain": [
       "(109, 105)"
      ]
     },
     "execution_count": 24,
     "metadata": {},
     "output_type": "execute_result"
    }
   ],
   "source": [
    "df.shape"
   ]
  },
  {
   "cell_type": "code",
   "execution_count": 25,
   "metadata": {},
   "outputs": [
    {
     "name": "stdout",
     "output_type": "stream",
     "text": [
      "<class 'pandas.core.frame.DataFrame'>\n",
      "Int64Index: 109 entries, 5 to 4752\n",
      "Data columns (total 105 columns):\n",
      "TotalUSDMarketValue                                109 non-null float64\n",
      "FICustomUSDMarketValue                             109 non-null float64\n",
      "PrimaryPrice                                       109 non-null float64\n",
      "InstrumentCouponRate                               109 non-null float64\n",
      "CurrentSpreadBasisPoint                            109 non-null float64\n",
      "DiscountMarginBasisPoint                           109 non-null float64\n",
      "MacauleyDurationNumber                             109 non-null float64\n",
      "ModifiedDurationtoMaturityNumber                   109 non-null float64\n",
      "ModifiedDurationtoWorstNumber                      109 non-null float64\n",
      "UpOptionAdjustedDurationNumber                     109 non-null float64\n",
      "DownOptionAdjustedDurationNumber                   109 non-null float64\n",
      "ModelOptionAdjustedDurationNumber                  109 non-null float64\n",
      "AlternativeOptionAdjustedSpreadBasisPoint          109 non-null float64\n",
      "EffectiveOptionAdjustedDurationNumber              109 non-null float64\n",
      "VolatilityDurationNumber                           109 non-null float64\n",
      "PrepayDurationNumber                               109 non-null float64\n",
      "RealDurationNumber                                 109 non-null float64\n",
      "SpreadDurationNumber                               109 non-null float64\n",
      "MortgageBasisDurationNumber                        109 non-null float64\n",
      "EffectiveKeyRateDuration3MonthNumber               109 non-null float64\n",
      "EffectiveKeyRateDuration1YearNumber                109 non-null float64\n",
      "EffectiveKeyRateDuration2YearNumber                109 non-null float64\n",
      "EffectiveKeyRateDuration3YearNumber                109 non-null float64\n",
      "EffectiveKeyRateDuration5YearNumber                109 non-null float64\n",
      "EffectiveKeyRateDuration7YearNumber                109 non-null float64\n",
      "EffectiveKeyRateDuration10YearNumber               109 non-null float64\n",
      "EffectiveKeyRateDuration15YearNumber               109 non-null float64\n",
      "EffectiveKeyRateDuration20YearNumber               109 non-null float64\n",
      "EffectiveKeyRateDuration25YearNumber               109 non-null float64\n",
      "EffectiveKeyRateDuration30YearNumber               109 non-null float64\n",
      "EffectiveKeyRateDuration40YearNumber               109 non-null float64\n",
      "EffectiveKeyRateDuration50YearNumber               109 non-null float64\n",
      "ModelKeyRateDuration3MonthNumber                   109 non-null float64\n",
      "ModelKeyRateDuration1YearNumber                    109 non-null float64\n",
      "ModelKeyRateDuration2YearNumber                    109 non-null float64\n",
      "ModelKeyRateDuration3YearNumber                    109 non-null float64\n",
      "ModelKeyRateDuration5YearNumber                    109 non-null float64\n",
      "ModelKeyRateDuration7YearNumber                    109 non-null float64\n",
      "ModelKeyRateDuration10YearNumber                   109 non-null float64\n",
      "ModelKeyRateDuration15YearNumber                   109 non-null float64\n",
      "ModelKeyRateDuration20YearNumber                   109 non-null float64\n",
      "ModelKeyRateDuration25YearNumber                   109 non-null float64\n",
      "ModelKeyRateDuration30YearNumber                   109 non-null float64\n",
      "ModelKeyRateDuration40YearNumber                   109 non-null int64\n",
      "ModelKeyRateDuration50YearNumber                   109 non-null int64\n",
      "CurrentYieldPercent                                109 non-null float64\n",
      "YieldtoMaturityPercent                             109 non-null float64\n",
      "NominalYieldPercent                                109 non-null float64\n",
      "YieldtoWorstCallPercent                            109 non-null int64\n",
      "ZeroVolatilityYieldPercent                         109 non-null float64\n",
      "ExpectedInflationYieldPercent                      109 non-null float64\n",
      "ZeroInflationYieldPercent                          109 non-null float64\n",
      "EffectiveConvexityNumber                           109 non-null float64\n",
      "ModelOptionAdjustedConvexityNumber                 109 non-null float64\n",
      "YieldToWorstSpreadToMaturityNumber                 109 non-null float64\n",
      "ImpliedVolatilityConvexityNumber                   109 non-null float64\n",
      "MortgagePrepaymentConvexityNumber                  109 non-null float64\n",
      "KeyRateConvexity2YearNumber                        109 non-null float64\n",
      "KeyRateConvexity5YearNumber                        109 non-null float64\n",
      "KeyRateConvexity10YearNumber                       109 non-null float64\n",
      "KeyRateConvexity30YearNumber                       109 non-null float64\n",
      "KeyRateConvexity2Yearby5YearNumber                 109 non-null float64\n",
      "KeyRateConvexity2Yearby10YearNumber                109 non-null float64\n",
      "KeyRateConvexity2Yearby30YearNumber                109 non-null float64\n",
      "KeyRateConvexity5Yearby10YearNumber                109 non-null float64\n",
      "KeyRateConvexity5Yearby30YearNumber                109 non-null float64\n",
      "KeyRateConvexity10Yearby30YearNumber               109 non-null float64\n",
      "CDSSpreadConvexityNumber                           109 non-null int64\n",
      "OptionAdjustedSpreadBasisPoint                     109 non-null float64\n",
      "DurationTimeSpreadPercent                          109 non-null float64\n",
      "SpreadtoWorstBasisPoint                            109 non-null float64\n",
      "CGSpreadDollarValue01Percent                       109 non-null float64\n",
      "ZeroVolatilitySpreadBasisPoint                     109 non-null float64\n",
      "ZSPREADBasisPoint                                  109 non-null int64\n",
      "JSPREADBasisPoint                                  109 non-null int64\n",
      "ISPREADBasisPoint                                  109 non-null int64\n",
      "ASPREADBasisPoint                                  109 non-null int64\n",
      "NSPREADBasisPoint                                  109 non-null float64\n",
      "ESPREADBasisPoint                                  109 non-null float64\n",
      "OptionCostNumber                                   109 non-null float64\n",
      "OptionDeltaNumber                                  109 non-null float64\n",
      "OptionGammaNumber                                  109 non-null float64\n",
      "OptionThetaNumber                                  109 non-null float64\n",
      "ImpliedVolatilityPercent                           109 non-null float64\n",
      "WorstCallPrice                                     109 non-null float64\n",
      "PriceSensitivityToMortgageBasisNumber              109 non-null float64\n",
      "WeightedAverageLifetoMaturityNumber                109 non-null float64\n",
      "WeightedAverageLifetoWorstNumber                   109 non-null float64\n",
      "ZeroVolatilityAverageLifeNumber                    109 non-null float64\n",
      "ProjectedLifetimeCPRNumber                         109 non-null float64\n",
      "Projected12MCPRNumber                              109 non-null float64\n",
      "WeightedAverageLifeNumber                          109 non-null float64\n",
      "Projected1MCPRNumber                               109 non-null float64\n",
      "Projected3MCPRNumber                               109 non-null float64\n",
      "Projected6MCPRNumber                               109 non-null float64\n",
      "ProjectedWeightedAverageLifeEquivalentCPRNumber    109 non-null float64\n",
      "ProjectedWeightedAverageLifeEquivalentPSANumber    109 non-null float64\n",
      "ProjectedLifetimePSANumber                         109 non-null float64\n",
      "ProjectedWeightedAverageLoanAgeNumber              109 non-null int64\n",
      "ProjectedWeightedAverageMaturityNumber             109 non-null int64\n",
      "ProjectedWeightedAverageCouponNumber               109 non-null float64\n",
      "CGDollarValue01Percent                             109 non-null float64\n",
      "TraderDurationNumber                               109 non-null float64\n",
      "YieldToWorstWithSinkingFundPercent                 109 non-null int64\n",
      "YieldToCallPercent                                 109 non-null float64\n",
      "dtypes: float64(94), int64(11)\n",
      "memory usage: 90.3 KB\n"
     ]
    }
   ],
   "source": [
    "df.info(verbose=True, null_counts=True)"
   ]
  },
  {
   "cell_type": "code",
   "execution_count": 26,
   "metadata": {},
   "outputs": [],
   "source": [
    "df = df[key_cols]"
   ]
  },
  {
   "cell_type": "markdown",
   "metadata": {},
   "source": [
    "## Data Preparation "
   ]
  },
  {
   "cell_type": "code",
   "execution_count": 27,
   "metadata": {},
   "outputs": [],
   "source": [
    "X = df #test_df #prep_df"
   ]
  },
  {
   "cell_type": "code",
   "execution_count": 28,
   "metadata": {},
   "outputs": [],
   "source": [
    "# Scale the data\n",
    "scaler = StandardScaler()\n",
    "X_scaled = scaler.fit_transform(X)"
   ]
  },
  {
   "cell_type": "markdown",
   "metadata": {},
   "source": [
    "#### Principal Component Analysis for Dimensionality Reduction"
   ]
  },
  {
   "cell_type": "code",
   "execution_count": 29,
   "metadata": {},
   "outputs": [
    {
     "name": "stdout",
     "output_type": "stream",
     "text": [
      "Cumulative Explained Variance: 0.5285969015772958\n"
     ]
    }
   ],
   "source": [
    "pca = PCA(n_components=2)\n",
    "pca.fit(X_scaled)\n",
    "\n",
    "X_pca = pca.transform(X_scaled)\n",
    "print(\"Cumulative Explained Variance:\", pca.explained_variance_ratio_.sum())"
   ]
  },
  {
   "cell_type": "code",
   "execution_count": 30,
   "metadata": {},
   "outputs": [],
   "source": [
    "#pd.DataFrame(pca.components_, columns=df.columns.values, index = ['PC-1','PC-2']).T.sort_values('PC-1', ascending=False)"
   ]
  },
  {
   "cell_type": "markdown",
   "metadata": {},
   "source": [
    "### KMeans Clustering"
   ]
  },
  {
   "cell_type": "markdown",
   "metadata": {},
   "source": [
    "#### Using Helper Functions"
   ]
  },
  {
   "cell_type": "code",
   "execution_count": 31,
   "metadata": {},
   "outputs": [
    {
     "name": "stdout",
     "output_type": "stream",
     "text": [
      "Best Silhouette Score: 0.6320810813999176\n"
     ]
    },
    {
     "data": {
      "image/png": "[encoded data removed]",
      "text/plain": [
       "<Figure size 432x288 with 1 Axes>"
      ]
     },
     "metadata": {
      "needs_background": "light"
     },
     "output_type": "display_data"
    }
   ],
   "source": [
    "# Using the silhouette score, determine what the optimal number of clusters is\n",
    "find_best_cluster(X_pca,15) #X_pca LDA_reduced_df"
   ]
  },
  {
   "cell_type": "code",
   "execution_count": 32,
   "metadata": {},
   "outputs": [],
   "source": [
    "number_of_clusters = 9"
   ]
  },
  {
   "cell_type": "code",
   "execution_count": 33,
   "metadata": {},
   "outputs": [
    {
     "data": {
      "text/plain": [
       "{'labels': array([0, 8, 1, 4, 4, 5, 5, 2, 4, 5, 1, 1, 5, 5, 3, 7, 2, 3, 5, 1, 1, 3,\n",
       "        4, 4, 2, 3, 3, 2, 3, 4, 0, 1, 1, 1, 1, 5, 5, 4, 0, 4, 5, 3, 3, 3,\n",
       "        0, 0, 1, 1, 8, 7, 8, 2, 5, 4, 0, 3, 0, 5, 7, 1, 4, 0, 4, 5, 0, 5,\n",
       "        0, 0, 3, 7, 0, 6, 7, 7, 7, 7, 1, 1, 1, 7, 7, 7, 7, 0, 8, 7, 5, 1,\n",
       "        1, 1, 3, 3, 5, 5, 0, 0, 0, 0, 7, 1, 8, 4, 8, 3, 5, 3, 1, 0, 0]),\n",
       " 'centroids': array([[ 5.5692, -0.8259],\n",
       "        [ 0.586 , -0.4386],\n",
       "        [-2.9011,  0.8696],\n",
       "        [-2.814 , -3.1437],\n",
       "        [-0.9561,  3.694 ],\n",
       "        [ 0.8581,  1.5064],\n",
       "        [-4.4047,  7.7381],\n",
       "        [-2.1639, -0.6235],\n",
       "        [-4.8723, -0.2792]]),\n",
       " 'inertia': 53.174869068556355,\n",
       " 'silhouette_score': 0.6320810813999176}"
      ]
     },
     "execution_count": 33,
     "metadata": {},
     "output_type": "execute_result"
    }
   ],
   "source": [
    "cluster_output = kmeans(X_pca, number_of_clusters) #X_pca LDA_reduced_df\n",
    "cluster_output"
   ]
  },
  {
   "cell_type": "code",
   "execution_count": 34,
   "metadata": {},
   "outputs": [
    {
     "data": {
      "image/png": "[encoded data removed]",
      "text/plain": [
       "<Figure size 1080x720 with 1 Axes>"
      ]
     },
     "metadata": {},
     "output_type": "display_data"
    }
   ],
   "source": [
    "plot_kmeans_cluster(X_pca, number_of_clusters, 'Fixed Income Portfolio Segments')"
   ]
  },
  {
   "cell_type": "markdown",
   "metadata": {},
   "source": [
    "### Cluster Investigation"
   ]
  },
  {
   "cell_type": "code",
   "execution_count": 35,
   "metadata": {},
   "outputs": [
    {
     "data": {
      "text/plain": [
       "1    20\n",
       "0    19\n",
       "5    17\n",
       "3    15\n",
       "7    14\n",
       "4    12\n",
       "8     6\n",
       "2     5\n",
       "6     1\n",
       "Name: Groups, dtype: int64"
      ]
     },
     "execution_count": 35,
     "metadata": {},
     "output_type": "execute_result"
    }
   ],
   "source": [
    "# Identify the numbers of records in each cluster and any outliers\n",
    "df['Groups'] = cluster_output['labels']\n",
    "df['Groups'].value_counts()"
   ]
  },
  {
   "cell_type": "code",
   "execution_count": 36,
   "metadata": {},
   "outputs": [
    {
     "data": {
      "text/html": [
       "<div>\n",
       "<style scoped>\n",
       "    .dataframe tbody tr th:only-of-type {\n",
       "        vertical-align: middle;\n",
       "    }\n",
       "\n",
       "    .dataframe tbody tr th {\n",
       "        vertical-align: top;\n",
       "    }\n",
       "\n",
       "    .dataframe thead th {\n",
       "        text-align: right;\n",
       "    }\n",
       "</style>\n",
       "<table border=\"1\" class=\"dataframe\">\n",
       "  <thead>\n",
       "    <tr style=\"text-align: right;\">\n",
       "      <th></th>\n",
       "      <th>FICustomUSDMarketValue</th>\n",
       "      <th>AlternativeOptionAdjustedSpreadBasisPoint</th>\n",
       "      <th>EffectiveKeyRateDuration10YearNumber</th>\n",
       "      <th>EffectiveKeyRateDuration15YearNumber</th>\n",
       "      <th>EffectiveKeyRateDuration1YearNumber</th>\n",
       "      <th>EffectiveKeyRateDuration20YearNumber</th>\n",
       "      <th>EffectiveKeyRateDuration25YearNumber</th>\n",
       "      <th>EffectiveKeyRateDuration2YearNumber</th>\n",
       "      <th>EffectiveKeyRateDuration30YearNumber</th>\n",
       "      <th>EffectiveKeyRateDuration3MonthNumber</th>\n",
       "      <th>...</th>\n",
       "      <th>Groups</th>\n",
       "      <th>AsofDate</th>\n",
       "      <th>InvestmentPortfolioName</th>\n",
       "      <th>PortfolioName</th>\n",
       "      <th>PortfolioUID</th>\n",
       "      <th>InvestmentAccountUID</th>\n",
       "      <th>FundAccountTypeName</th>\n",
       "      <th>FundAccountSubTypeName</th>\n",
       "      <th>Investment Spectrum</th>\n",
       "      <th>Performance Grouping</th>\n",
       "    </tr>\n",
       "  </thead>\n",
       "  <tbody>\n",
       "    <tr>\n",
       "      <th>5</th>\n",
       "      <td>14,259,104.70</td>\n",
       "      <td>174.53</td>\n",
       "      <td>1.92</td>\n",
       "      <td>1.73</td>\n",
       "      <td>0.04</td>\n",
       "      <td>2.07</td>\n",
       "      <td>2.19</td>\n",
       "      <td>0.08</td>\n",
       "      <td>3.42</td>\n",
       "      <td>0.00</td>\n",
       "      <td>...</td>\n",
       "      <td>0</td>\n",
       "      <td>2019-06-28</td>\n",
       "      <td>NaN</td>\n",
       "      <td>AECOM3968 44396800</td>\n",
       "      <td>404305</td>\n",
       "      <td>7100494</td>\n",
       "      <td>NaN</td>\n",
       "      <td>NaN</td>\n",
       "      <td>NaN</td>\n",
       "      <td>NaN</td>\n",
       "    </tr>\n",
       "    <tr>\n",
       "      <th>45</th>\n",
       "      <td>6,339,839,622.69</td>\n",
       "      <td>8.25</td>\n",
       "      <td>-0.34</td>\n",
       "      <td>0.14</td>\n",
       "      <td>0.25</td>\n",
       "      <td>0.15</td>\n",
       "      <td>-0.07</td>\n",
       "      <td>0.95</td>\n",
       "      <td>-0.12</td>\n",
       "      <td>0.15</td>\n",
       "      <td>...</td>\n",
       "      <td>8</td>\n",
       "      <td>2019-06-28</td>\n",
       "      <td>American Funds Mortgage Fund</td>\n",
       "      <td>AFMF       11000042</td>\n",
       "      <td>231964</td>\n",
       "      <td>197100048</td>\n",
       "      <td>Mutual Fund</td>\n",
       "      <td>American Fund</td>\n",
       "      <td>Taxable Bond</td>\n",
       "      <td>Mortgage Fund</td>\n",
       "    </tr>\n",
       "    <tr>\n",
       "      <th>348</th>\n",
       "      <td>7,575,699,721.51</td>\n",
       "      <td>110.92</td>\n",
       "      <td>1.09</td>\n",
       "      <td>1.27</td>\n",
       "      <td>0.09</td>\n",
       "      <td>0.98</td>\n",
       "      <td>0.66</td>\n",
       "      <td>0.32</td>\n",
       "      <td>0.38</td>\n",
       "      <td>0.02</td>\n",
       "      <td>...</td>\n",
       "      <td>1</td>\n",
       "      <td>2019-06-28</td>\n",
       "      <td>American High-Income Municipal Bond Fund</td>\n",
       "      <td>AHIM       11000040</td>\n",
       "      <td>191422</td>\n",
       "      <td>70001130</td>\n",
       "      <td>Mutual Fund</td>\n",
       "      <td>American Fund</td>\n",
       "      <td>Tax-Exempt Bond</td>\n",
       "      <td>NaN</td>\n",
       "    </tr>\n",
       "    <tr>\n",
       "      <th>364</th>\n",
       "      <td>16,612,608,727.96</td>\n",
       "      <td>438.31</td>\n",
       "      <td>0.15</td>\n",
       "      <td>0.02</td>\n",
       "      <td>0.13</td>\n",
       "      <td>0.02</td>\n",
       "      <td>0.03</td>\n",
       "      <td>0.24</td>\n",
       "      <td>0.00</td>\n",
       "      <td>0.05</td>\n",
       "      <td>...</td>\n",
       "      <td>4</td>\n",
       "      <td>2019-06-28</td>\n",
       "      <td>American High-Income Trust</td>\n",
       "      <td>AHIT       11000021</td>\n",
       "      <td>11193</td>\n",
       "      <td>21000021</td>\n",
       "      <td>Mutual Fund</td>\n",
       "      <td>American Fund</td>\n",
       "      <td>Taxable Bond</td>\n",
       "      <td>High-Income Bond/Trust Fund</td>\n",
       "    </tr>\n",
       "    <tr>\n",
       "      <th>412</th>\n",
       "      <td>431,867,803.80</td>\n",
       "      <td>495.65</td>\n",
       "      <td>0.09</td>\n",
       "      <td>0.03</td>\n",
       "      <td>0.13</td>\n",
       "      <td>0.04</td>\n",
       "      <td>0.05</td>\n",
       "      <td>0.27</td>\n",
       "      <td>0.00</td>\n",
       "      <td>0.04</td>\n",
       "      <td>...</td>\n",
       "      <td>4</td>\n",
       "      <td>2019-06-28</td>\n",
       "      <td>Alaska Permanent Fund US FI High Yield</td>\n",
       "      <td>ALASKA3705 44370500</td>\n",
       "      <td>183673</td>\n",
       "      <td>23101359</td>\n",
       "      <td>NaN</td>\n",
       "      <td>NaN</td>\n",
       "      <td>NaN</td>\n",
       "      <td>NaN</td>\n",
       "    </tr>\n",
       "  </tbody>\n",
       "</table>\n",
       "<p>5 rows × 37 columns</p>\n",
       "</div>"
      ],
      "text/plain": [
       "     FICustomUSDMarketValue  AlternativeOptionAdjustedSpreadBasisPoint  \\\n",
       "5             14,259,104.70                                     174.53   \n",
       "45         6,339,839,622.69                                       8.25   \n",
       "348        7,575,699,721.51                                     110.92   \n",
       "364       16,612,608,727.96                                     438.31   \n",
       "412          431,867,803.80                                     495.65   \n",
       "\n",
       "     EffectiveKeyRateDuration10YearNumber  \\\n",
       "5                                    1.92   \n",
       "45                                  -0.34   \n",
       "348                                  1.09   \n",
       "364                                  0.15   \n",
       "412                                  0.09   \n",
       "\n",
       "     EffectiveKeyRateDuration15YearNumber  \\\n",
       "5                                    1.73   \n",
       "45                                   0.14   \n",
       "348                                  1.27   \n",
       "364                                  0.02   \n",
       "412                                  0.03   \n",
       "\n",
       "     EffectiveKeyRateDuration1YearNumber  \\\n",
       "5                                   0.04   \n",
       "45                                  0.25   \n",
       "348                                 0.09   \n",
       "364                                 0.13   \n",
       "412                                 0.13   \n",
       "\n",
       "     EffectiveKeyRateDuration20YearNumber  \\\n",
       "5                                    2.07   \n",
       "45                                   0.15   \n",
       "348                                  0.98   \n",
       "364                                  0.02   \n",
       "412                                  0.04   \n",
       "\n",
       "     EffectiveKeyRateDuration25YearNumber  \\\n",
       "5                                    2.19   \n",
       "45                                  -0.07   \n",
       "348                                  0.66   \n",
       "364                                  0.03   \n",
       "412                                  0.05   \n",
       "\n",
       "     EffectiveKeyRateDuration2YearNumber  \\\n",
       "5                                   0.08   \n",
       "45                                  0.95   \n",
       "348                                 0.32   \n",
       "364                                 0.24   \n",
       "412                                 0.27   \n",
       "\n",
       "     EffectiveKeyRateDuration30YearNumber  \\\n",
       "5                                    3.42   \n",
       "45                                  -0.12   \n",
       "348                                  0.38   \n",
       "364                                  0.00   \n",
       "412                                  0.00   \n",
       "\n",
       "     EffectiveKeyRateDuration3MonthNumber  ...  Groups   AsofDate  \\\n",
       "5                                    0.00  ...       0 2019-06-28   \n",
       "45                                   0.15  ...       8 2019-06-28   \n",
       "348                                  0.02  ...       1 2019-06-28   \n",
       "364                                  0.05  ...       4 2019-06-28   \n",
       "412                                  0.04  ...       4 2019-06-28   \n",
       "\n",
       "                      InvestmentPortfolioName        PortfolioName  \\\n",
       "5                                         NaN   AECOM3968 44396800   \n",
       "45               American Funds Mortgage Fund  AFMF       11000042   \n",
       "348  American High-Income Municipal Bond Fund  AHIM       11000040   \n",
       "364                American High-Income Trust  AHIT       11000021   \n",
       "412    Alaska Permanent Fund US FI High Yield  ALASKA3705 44370500   \n",
       "\n",
       "     PortfolioUID  InvestmentAccountUID  FundAccountTypeName  \\\n",
       "5          404305               7100494                  NaN   \n",
       "45         231964             197100048          Mutual Fund   \n",
       "348        191422              70001130          Mutual Fund   \n",
       "364         11193              21000021          Mutual Fund   \n",
       "412        183673              23101359                  NaN   \n",
       "\n",
       "     FundAccountSubTypeName  Investment Spectrum         Performance Grouping  \n",
       "5                       NaN                  NaN                          NaN  \n",
       "45            American Fund         Taxable Bond                Mortgage Fund  \n",
       "348           American Fund      Tax-Exempt Bond                          NaN  \n",
       "364           American Fund         Taxable Bond  High-Income Bond/Trust Fund  \n",
       "412                     NaN                  NaN                          NaN  \n",
       "\n",
       "[5 rows x 37 columns]"
      ]
     },
     "execution_count": 36,
     "metadata": {},
     "output_type": "execute_result"
    }
   ],
   "source": [
    "# Bring in the reference columns for data visualization\n",
    "df = pd.concat([df, ref_df], axis=1)\n",
    "df.head()"
   ]
  },
  {
   "cell_type": "code",
   "execution_count": 37,
   "metadata": {},
   "outputs": [],
   "source": [
    "data_dict = {key:g for key,g in df.groupby(['Groups'])}"
   ]
  },
  {
   "cell_type": "markdown",
   "metadata": {},
   "source": [
    "#### Group Dataframes"
   ]
  },
  {
   "cell_type": "code",
   "execution_count": 38,
   "metadata": {},
   "outputs": [],
   "source": [
    "group_0 = data_dict[0]\n",
    "group_1 = data_dict[1]\n",
    "group_2 = data_dict[2]\n",
    "group_3 = data_dict[3]\n",
    "group_4 = data_dict[4]\n",
    "group_5 = data_dict[5]\n",
    "group_6 = data_dict[6]\n",
    "group_7 = data_dict[7]\n",
    "group_8 = data_dict[8]"
   ]
  },
  {
   "cell_type": "markdown",
   "metadata": {},
   "source": [
    "**Top Metrics to consider:**\n",
    "1. Effective Duration\n",
    "2. Yield to Worst\n",
    "3. Yield to Maturity\n",
    "4. OAS\n",
    "5. Average Life\n",
    "6. Coupon"
   ]
  },
  {
   "cell_type": "markdown",
   "metadata": {},
   "source": [
    "### Group 0"
   ]
  },
  {
   "cell_type": "code",
   "execution_count": 39,
   "metadata": {},
   "outputs": [
    {
     "data": {
      "text/html": [
       "<div>\n",
       "<style scoped>\n",
       "    .dataframe tbody tr th:only-of-type {\n",
       "        vertical-align: middle;\n",
       "    }\n",
       "\n",
       "    .dataframe tbody tr th {\n",
       "        vertical-align: top;\n",
       "    }\n",
       "\n",
       "    .dataframe thead th {\n",
       "        text-align: right;\n",
       "    }\n",
       "</style>\n",
       "<table border=\"1\" class=\"dataframe\">\n",
       "  <thead>\n",
       "    <tr style=\"text-align: right;\">\n",
       "      <th></th>\n",
       "      <th>AsofDate</th>\n",
       "      <th>InvestmentPortfolioName</th>\n",
       "      <th>PortfolioName</th>\n",
       "      <th>PortfolioUID</th>\n",
       "      <th>InvestmentAccountUID</th>\n",
       "      <th>FundAccountTypeName</th>\n",
       "      <th>FundAccountSubTypeName</th>\n",
       "      <th>Investment Spectrum</th>\n",
       "      <th>Performance Grouping</th>\n",
       "    </tr>\n",
       "  </thead>\n",
       "  <tbody>\n",
       "    <tr>\n",
       "      <th>5</th>\n",
       "      <td>2019-06-28</td>\n",
       "      <td>NaN</td>\n",
       "      <td>AECOM3968 44396800</td>\n",
       "      <td>404305</td>\n",
       "      <td>7100494</td>\n",
       "      <td>NaN</td>\n",
       "      <td>NaN</td>\n",
       "      <td>NaN</td>\n",
       "      <td>NaN</td>\n",
       "    </tr>\n",
       "    <tr>\n",
       "      <th>1177</th>\n",
       "      <td>2019-06-28</td>\n",
       "      <td>CG Long Dur Credit Tr (US) P04144/70539</td>\n",
       "      <td>CGUS 9515 44951500</td>\n",
       "      <td>100819</td>\n",
       "      <td>57101605</td>\n",
       "      <td>ERISA CIT</td>\n",
       "      <td>NaN</td>\n",
       "      <td>NaN</td>\n",
       "      <td>NaN</td>\n",
       "    </tr>\n",
       "    <tr>\n",
       "      <th>1461</th>\n",
       "      <td>2019-06-28</td>\n",
       "      <td>Citigroup Pension Plan 576346</td>\n",
       "      <td>CITIGR3924 44392400</td>\n",
       "      <td>7066</td>\n",
       "      <td>138101898</td>\n",
       "      <td>NaN</td>\n",
       "      <td>NaN</td>\n",
       "      <td>NaN</td>\n",
       "      <td>NaN</td>\n",
       "    </tr>\n",
       "    <tr>\n",
       "      <th>1821</th>\n",
       "      <td>2019-06-28</td>\n",
       "      <td>Ford Motor Long Duration Credit Plus FUS20</td>\n",
       "      <td>FORD 3691 44369100</td>\n",
       "      <td>190791</td>\n",
       "      <td>4101340</td>\n",
       "      <td>NaN</td>\n",
       "      <td>NaN</td>\n",
       "      <td>NaN</td>\n",
       "      <td>NaN</td>\n",
       "    </tr>\n",
       "    <tr>\n",
       "      <th>1881</th>\n",
       "      <td>2019-06-28</td>\n",
       "      <td>Glatfelter Insurance Pension Plan</td>\n",
       "      <td>GIGMPP3955 44395500</td>\n",
       "      <td>309126</td>\n",
       "      <td>143100206</td>\n",
       "      <td>NaN</td>\n",
       "      <td>NaN</td>\n",
       "      <td>NaN</td>\n",
       "      <td>NaN</td>\n",
       "    </tr>\n",
       "    <tr>\n",
       "      <th>2115</th>\n",
       "      <td>2019-06-28</td>\n",
       "      <td>NaN</td>\n",
       "      <td>KRAFT3960 44396000</td>\n",
       "      <td>397544</td>\n",
       "      <td>103100378</td>\n",
       "      <td>NaN</td>\n",
       "      <td>NaN</td>\n",
       "      <td>NaN</td>\n",
       "      <td>NaN</td>\n",
       "    </tr>\n",
       "    <tr>\n",
       "      <th>2252</th>\n",
       "      <td>2019-06-28</td>\n",
       "      <td>CG Long Dur Govt Tr (US) P08022</td>\n",
       "      <td>LDGVT9578 44957800</td>\n",
       "      <td>10744</td>\n",
       "      <td>130101678</td>\n",
       "      <td>ERISA CIT</td>\n",
       "      <td>NaN</td>\n",
       "      <td>NaN</td>\n",
       "      <td>NaN</td>\n",
       "    </tr>\n",
       "    <tr>\n",
       "      <th>2414</th>\n",
       "      <td>2019-06-28</td>\n",
       "      <td>Novartis Pension Pl #05ZF</td>\n",
       "      <td>NOVART3781 44378100</td>\n",
       "      <td>151757</td>\n",
       "      <td>59101607</td>\n",
       "      <td>NaN</td>\n",
       "      <td>NaN</td>\n",
       "      <td>NaN</td>\n",
       "      <td>NaN</td>\n",
       "    </tr>\n",
       "    <tr>\n",
       "      <th>2489</th>\n",
       "      <td>2019-06-28</td>\n",
       "      <td>Plain Dealer Publishing Co. Guild RP</td>\n",
       "      <td>PDPCG3943 44394300</td>\n",
       "      <td>229829</td>\n",
       "      <td>43102015</td>\n",
       "      <td>NaN</td>\n",
       "      <td>NaN</td>\n",
       "      <td>NaN</td>\n",
       "      <td>NaN</td>\n",
       "    </tr>\n",
       "    <tr>\n",
       "      <th>3272</th>\n",
       "      <td>2019-06-28</td>\n",
       "      <td>NaN</td>\n",
       "      <td>ROB3963 44396300</td>\n",
       "      <td>400506</td>\n",
       "      <td>156100431</td>\n",
       "      <td>NaN</td>\n",
       "      <td>NaN</td>\n",
       "      <td>NaN</td>\n",
       "      <td>NaN</td>\n",
       "    </tr>\n",
       "    <tr>\n",
       "      <th>3275</th>\n",
       "      <td>2019-06-28</td>\n",
       "      <td>Roche LDI</td>\n",
       "      <td>ROCHE3959 44395900</td>\n",
       "      <td>395690</td>\n",
       "      <td>99100374</td>\n",
       "      <td>NaN</td>\n",
       "      <td>NaN</td>\n",
       "      <td>NaN</td>\n",
       "      <td>NaN</td>\n",
       "    </tr>\n",
       "    <tr>\n",
       "      <th>3407</th>\n",
       "      <td>2019-06-28</td>\n",
       "      <td>Samsung Long Term US Bond Securities 231926</td>\n",
       "      <td>SAMSUS4342 44434200</td>\n",
       "      <td>311385</td>\n",
       "      <td>154100217</td>\n",
       "      <td>NaN</td>\n",
       "      <td>NaN</td>\n",
       "      <td>NaN</td>\n",
       "      <td>NaN</td>\n",
       "    </tr>\n",
       "    <tr>\n",
       "      <th>3979</th>\n",
       "      <td>2019-06-28</td>\n",
       "      <td>Southern Company - Long Duration Fixed P06742/...</td>\n",
       "      <td>SOUTHE3464 44346400</td>\n",
       "      <td>26553</td>\n",
       "      <td>203100903</td>\n",
       "      <td>NaN</td>\n",
       "      <td>NaN</td>\n",
       "      <td>NaN</td>\n",
       "      <td>NaN</td>\n",
       "    </tr>\n",
       "    <tr>\n",
       "      <th>4382</th>\n",
       "      <td>2019-06-28</td>\n",
       "      <td>NaN</td>\n",
       "      <td>URS3969 44396900</td>\n",
       "      <td>404306</td>\n",
       "      <td>8100495</td>\n",
       "      <td>NaN</td>\n",
       "      <td>NaN</td>\n",
       "      <td>NaN</td>\n",
       "      <td>NaN</td>\n",
       "    </tr>\n",
       "    <tr>\n",
       "      <th>4387</th>\n",
       "      <td>2019-06-28</td>\n",
       "      <td>NaN</td>\n",
       "      <td>URS3970 44397000</td>\n",
       "      <td>404307</td>\n",
       "      <td>9100496</td>\n",
       "      <td>NaN</td>\n",
       "      <td>NaN</td>\n",
       "      <td>NaN</td>\n",
       "      <td>NaN</td>\n",
       "    </tr>\n",
       "    <tr>\n",
       "      <th>4394</th>\n",
       "      <td>2019-06-28</td>\n",
       "      <td>NaN</td>\n",
       "      <td>URS3971 44397100</td>\n",
       "      <td>404376</td>\n",
       "      <td>10100497</td>\n",
       "      <td>NaN</td>\n",
       "      <td>NaN</td>\n",
       "      <td>NaN</td>\n",
       "      <td>NaN</td>\n",
       "    </tr>\n",
       "    <tr>\n",
       "      <th>4400</th>\n",
       "      <td>2019-06-28</td>\n",
       "      <td>NaN</td>\n",
       "      <td>URS3972 44397200</td>\n",
       "      <td>404377</td>\n",
       "      <td>11100498</td>\n",
       "      <td>NaN</td>\n",
       "      <td>NaN</td>\n",
       "      <td>NaN</td>\n",
       "      <td>NaN</td>\n",
       "    </tr>\n",
       "    <tr>\n",
       "      <th>4711</th>\n",
       "      <td>2019-06-28</td>\n",
       "      <td>NaN</td>\n",
       "      <td>WELLS3957 44395700</td>\n",
       "      <td>323149</td>\n",
       "      <td>201100264</td>\n",
       "      <td>NaN</td>\n",
       "      <td>NaN</td>\n",
       "      <td>NaN</td>\n",
       "      <td>NaN</td>\n",
       "    </tr>\n",
       "    <tr>\n",
       "      <th>4752</th>\n",
       "      <td>2019-06-28</td>\n",
       "      <td>NaN</td>\n",
       "      <td>XPO3961 44396100</td>\n",
       "      <td>397545</td>\n",
       "      <td>104100379</td>\n",
       "      <td>NaN</td>\n",
       "      <td>NaN</td>\n",
       "      <td>NaN</td>\n",
       "      <td>NaN</td>\n",
       "    </tr>\n",
       "  </tbody>\n",
       "</table>\n",
       "</div>"
      ],
      "text/plain": [
       "       AsofDate                            InvestmentPortfolioName  \\\n",
       "5    2019-06-28                                                NaN   \n",
       "1177 2019-06-28            CG Long Dur Credit Tr (US) P04144/70539   \n",
       "1461 2019-06-28                      Citigroup Pension Plan 576346   \n",
       "1821 2019-06-28         Ford Motor Long Duration Credit Plus FUS20   \n",
       "1881 2019-06-28                  Glatfelter Insurance Pension Plan   \n",
       "2115 2019-06-28                                                NaN   \n",
       "2252 2019-06-28                    CG Long Dur Govt Tr (US) P08022   \n",
       "2414 2019-06-28                          Novartis Pension Pl #05ZF   \n",
       "2489 2019-06-28               Plain Dealer Publishing Co. Guild RP   \n",
       "3272 2019-06-28                                                NaN   \n",
       "3275 2019-06-28                                          Roche LDI   \n",
       "3407 2019-06-28        Samsung Long Term US Bond Securities 231926   \n",
       "3979 2019-06-28  Southern Company - Long Duration Fixed P06742/...   \n",
       "4382 2019-06-28                                                NaN   \n",
       "4387 2019-06-28                                                NaN   \n",
       "4394 2019-06-28                                                NaN   \n",
       "4400 2019-06-28                                                NaN   \n",
       "4711 2019-06-28                                                NaN   \n",
       "4752 2019-06-28                                                NaN   \n",
       "\n",
       "            PortfolioName  PortfolioUID  InvestmentAccountUID  \\\n",
       "5      AECOM3968 44396800        404305               7100494   \n",
       "1177   CGUS 9515 44951500        100819              57101605   \n",
       "1461  CITIGR3924 44392400          7066             138101898   \n",
       "1821   FORD 3691 44369100        190791               4101340   \n",
       "1881  GIGMPP3955 44395500        309126             143100206   \n",
       "2115   KRAFT3960 44396000        397544             103100378   \n",
       "2252   LDGVT9578 44957800         10744             130101678   \n",
       "2414  NOVART3781 44378100        151757              59101607   \n",
       "2489   PDPCG3943 44394300        229829              43102015   \n",
       "3272     ROB3963 44396300        400506             156100431   \n",
       "3275   ROCHE3959 44395900        395690              99100374   \n",
       "3407  SAMSUS4342 44434200        311385             154100217   \n",
       "3979  SOUTHE3464 44346400         26553             203100903   \n",
       "4382     URS3969 44396900        404306               8100495   \n",
       "4387     URS3970 44397000        404307               9100496   \n",
       "4394     URS3971 44397100        404376              10100497   \n",
       "4400     URS3972 44397200        404377              11100498   \n",
       "4711   WELLS3957 44395700        323149             201100264   \n",
       "4752     XPO3961 44396100        397545             104100379   \n",
       "\n",
       "     FundAccountTypeName FundAccountSubTypeName Investment Spectrum  \\\n",
       "5                    NaN                    NaN                 NaN   \n",
       "1177           ERISA CIT                    NaN                 NaN   \n",
       "1461                 NaN                    NaN                 NaN   \n",
       "1821                 NaN                    NaN                 NaN   \n",
       "1881                 NaN                    NaN                 NaN   \n",
       "2115                 NaN                    NaN                 NaN   \n",
       "2252           ERISA CIT                    NaN                 NaN   \n",
       "2414                 NaN                    NaN                 NaN   \n",
       "2489                 NaN                    NaN                 NaN   \n",
       "3272                 NaN                    NaN                 NaN   \n",
       "3275                 NaN                    NaN                 NaN   \n",
       "3407                 NaN                    NaN                 NaN   \n",
       "3979                 NaN                    NaN                 NaN   \n",
       "4382                 NaN                    NaN                 NaN   \n",
       "4387                 NaN                    NaN                 NaN   \n",
       "4394                 NaN                    NaN                 NaN   \n",
       "4400                 NaN                    NaN                 NaN   \n",
       "4711                 NaN                    NaN                 NaN   \n",
       "4752                 NaN                    NaN                 NaN   \n",
       "\n",
       "     Performance Grouping  \n",
       "5                     NaN  \n",
       "1177                  NaN  \n",
       "1461                  NaN  \n",
       "1821                  NaN  \n",
       "1881                  NaN  \n",
       "2115                  NaN  \n",
       "2252                  NaN  \n",
       "2414                  NaN  \n",
       "2489                  NaN  \n",
       "3272                  NaN  \n",
       "3275                  NaN  \n",
       "3407                  NaN  \n",
       "3979                  NaN  \n",
       "4382                  NaN  \n",
       "4387                  NaN  \n",
       "4394                  NaN  \n",
       "4400                  NaN  \n",
       "4711                  NaN  \n",
       "4752                  NaN  "
      ]
     },
     "execution_count": 39,
     "metadata": {},
     "output_type": "execute_result"
    }
   ],
   "source": [
    "group_0[ref_cols]"
   ]
  },
  {
   "cell_type": "code",
   "execution_count": 40,
   "metadata": {},
   "outputs": [],
   "source": [
    "#group_0[key_cols].mean().plot(kind='barh', figsize=(10,8)) #figsize=(12,10)"
   ]
  },
  {
   "cell_type": "markdown",
   "metadata": {},
   "source": [
    "#### Top 10 Features (Group 0)"
   ]
  },
  {
   "cell_type": "code",
   "execution_count": 41,
   "metadata": {},
   "outputs": [
    {
     "data": {
      "text/html": [
       "<div>\n",
       "<style scoped>\n",
       "    .dataframe tbody tr th:only-of-type {\n",
       "        vertical-align: middle;\n",
       "    }\n",
       "\n",
       "    .dataframe tbody tr th {\n",
       "        vertical-align: top;\n",
       "    }\n",
       "\n",
       "    .dataframe thead th {\n",
       "        text-align: right;\n",
       "    }\n",
       "</style>\n",
       "<table border=\"1\" class=\"dataframe\">\n",
       "  <thead>\n",
       "    <tr style=\"text-align: right;\">\n",
       "      <th></th>\n",
       "      <th>PC1 (Explained Variance: 0.6162)</th>\n",
       "    </tr>\n",
       "  </thead>\n",
       "  <tbody>\n",
       "    <tr>\n",
       "      <th>EffectiveKeyRateDuration25YearNumber</th>\n",
       "      <td>0.26</td>\n",
       "    </tr>\n",
       "    <tr>\n",
       "      <th>EffectiveKeyRateDuration2YearNumber</th>\n",
       "      <td>0.24</td>\n",
       "    </tr>\n",
       "    <tr>\n",
       "      <th>EffectiveKeyRateDuration30YearNumber</th>\n",
       "      <td>0.24</td>\n",
       "    </tr>\n",
       "    <tr>\n",
       "      <th>WeightedAverageLifetoWorstNumber</th>\n",
       "      <td>0.21</td>\n",
       "    </tr>\n",
       "    <tr>\n",
       "      <th>WeightedAverageLifeNumber</th>\n",
       "      <td>0.21</td>\n",
       "    </tr>\n",
       "    <tr>\n",
       "      <th>WeightedAverageLifetoMaturityNumber</th>\n",
       "      <td>0.19</td>\n",
       "    </tr>\n",
       "    <tr>\n",
       "      <th>ZeroVolatilityAverageLifeNumber</th>\n",
       "      <td>0.19</td>\n",
       "    </tr>\n",
       "    <tr>\n",
       "      <th>EffectiveKeyRateDuration3MonthNumber</th>\n",
       "      <td>0.08</td>\n",
       "    </tr>\n",
       "    <tr>\n",
       "      <th>ProjectedWeightedAverageCouponNumber</th>\n",
       "      <td>-0.00</td>\n",
       "    </tr>\n",
       "    <tr>\n",
       "      <th>YieldToWorstWithSinkingFundPercent</th>\n",
       "      <td>-0.00</td>\n",
       "    </tr>\n",
       "  </tbody>\n",
       "</table>\n",
       "</div>"
      ],
      "text/plain": [
       "                                      PC1 (Explained Variance: 0.6162)\n",
       "EffectiveKeyRateDuration25YearNumber                              0.26\n",
       "EffectiveKeyRateDuration2YearNumber                               0.24\n",
       "EffectiveKeyRateDuration30YearNumber                              0.24\n",
       "WeightedAverageLifetoWorstNumber                                  0.21\n",
       "WeightedAverageLifeNumber                                         0.21\n",
       "WeightedAverageLifetoMaturityNumber                               0.19\n",
       "ZeroVolatilityAverageLifeNumber                                   0.19\n",
       "EffectiveKeyRateDuration3MonthNumber                              0.08\n",
       "ProjectedWeightedAverageCouponNumber                             -0.00\n",
       "YieldToWorstWithSinkingFundPercent                               -0.00"
      ]
     },
     "execution_count": 41,
     "metadata": {},
     "output_type": "execute_result"
    }
   ],
   "source": [
    "# Scale the features\n",
    "group0_scaled = scaler.fit_transform(group_0[key_cols])\n",
    "\n",
    "# Instantiate the PCA for Feature Selection\n",
    "pca_group0 = PCA(n_components=1)\n",
    "pca_group0.fit_transform(group0_scaled)\n",
    "\n",
    "# Cumulative Explained Variance\n",
    "group0_explainedvariance = round(pca_group0.explained_variance_ratio_.sum(), 4)\n",
    "group0_column = \"\"\"PC1 (Explained Variance: {})\"\"\".format(group0_explainedvariance)\n",
    "\n",
    "# Instantiate the Dataframe\n",
    "group0_features = pd.DataFrame(data=pca_group0.components_, \n",
    "                               columns=group_0[key_cols].columns.values, \n",
    "                               index=[group0_column]).T.sort_values(by=group0_column, ascending=False).head(10)\n",
    "\n",
    "group0_features"
   ]
  },
  {
   "cell_type": "code",
   "execution_count": 42,
   "metadata": {},
   "outputs": [
    {
     "data": {
      "text/plain": [
       "array(['FICustomUSDMarketValue',\n",
       "       'AlternativeOptionAdjustedSpreadBasisPoint',\n",
       "       'EffectiveKeyRateDuration10YearNumber',\n",
       "       'EffectiveKeyRateDuration15YearNumber',\n",
       "       'EffectiveKeyRateDuration1YearNumber',\n",
       "       'EffectiveKeyRateDuration20YearNumber',\n",
       "       'EffectiveKeyRateDuration25YearNumber',\n",
       "       'EffectiveKeyRateDuration2YearNumber',\n",
       "       'EffectiveKeyRateDuration30YearNumber',\n",
       "       'EffectiveKeyRateDuration3MonthNumber',\n",
       "       'EffectiveKeyRateDuration3YearNumber',\n",
       "       'EffectiveKeyRateDuration40YearNumber',\n",
       "       'EffectiveKeyRateDuration50YearNumber',\n",
       "       'EffectiveKeyRateDuration5YearNumber',\n",
       "       'EffectiveKeyRateDuration7YearNumber', 'InstrumentCouponRate',\n",
       "       'OptionAdjustedSpreadBasisPoint',\n",
       "       'ProjectedWeightedAverageCouponNumber',\n",
       "       'ProjectedWeightedAverageLifeEquivalentCPRNumber',\n",
       "       'ProjectedWeightedAverageLifeEquivalentPSANumber',\n",
       "       'WeightedAverageLifeNumber', 'WeightedAverageLifetoMaturityNumber',\n",
       "       'WeightedAverageLifetoWorstNumber',\n",
       "       'YieldToWorstSpreadToMaturityNumber',\n",
       "       'YieldToWorstWithSinkingFundPercent', 'YieldtoMaturityPercent',\n",
       "       'ZeroVolatilityAverageLifeNumber', 'Groups', 'AsofDate',\n",
       "       'InvestmentPortfolioName', 'PortfolioName', 'PortfolioUID',\n",
       "       'InvestmentAccountUID', 'FundAccountTypeName',\n",
       "       'FundAccountSubTypeName', 'Investment Spectrum',\n",
       "       'Performance Grouping'], dtype=object)"
      ]
     },
     "execution_count": 42,
     "metadata": {},
     "output_type": "execute_result"
    }
   ],
   "source": [
    "group_0.columns.values"
   ]
  },
  {
   "cell_type": "markdown",
   "metadata": {},
   "source": [
    "#### Feature Selection Using Random Forest"
   ]
  },
  {
   "cell_type": "code",
   "execution_count": 43,
   "metadata": {},
   "outputs": [],
   "source": [
    "X0 = group_0[key_cols].values\n",
    "y0 = group_0['FICustomUSDMarketValue'].values\n",
    "\n",
    "X0_scaled = scaler.fit_transform(X0)"
   ]
  },
  {
   "cell_type": "code",
   "execution_count": 44,
   "metadata": {},
   "outputs": [
    {
     "data": {
      "text/plain": [
       "0.9175473293936793"
      ]
     },
     "execution_count": 44,
     "metadata": {},
     "output_type": "execute_result"
    }
   ],
   "source": [
    "rf0 = RandomForestRegressor(n_estimators=10000, random_state=0, n_jobs=-1)\n",
    "\n",
    "rf0.fit(X0_scaled, y0)\n",
    "rf0.score(X0_scaled, y0)"
   ]
  },
  {
   "cell_type": "code",
   "execution_count": 45,
   "metadata": {},
   "outputs": [],
   "source": [
    "g0_featureimportance = rf0.feature_importances_\n",
    "g0_headers = list(group_0[key_cols].columns.values)"
   ]
  },
  {
   "cell_type": "code",
   "execution_count": 46,
   "metadata": {},
   "outputs": [
    {
     "data": {
      "text/plain": [
       "['FICustomUSDMarketValue',\n",
       " 'AlternativeOptionAdjustedSpreadBasisPoint',\n",
       " 'EffectiveKeyRateDuration10YearNumber',\n",
       " 'EffectiveKeyRateDuration15YearNumber',\n",
       " 'EffectiveKeyRateDuration1YearNumber',\n",
       " 'EffectiveKeyRateDuration20YearNumber',\n",
       " 'EffectiveKeyRateDuration25YearNumber',\n",
       " 'EffectiveKeyRateDuration2YearNumber',\n",
       " 'EffectiveKeyRateDuration30YearNumber',\n",
       " 'EffectiveKeyRateDuration3MonthNumber',\n",
       " 'EffectiveKeyRateDuration3YearNumber',\n",
       " 'EffectiveKeyRateDuration40YearNumber',\n",
       " 'EffectiveKeyRateDuration50YearNumber',\n",
       " 'EffectiveKeyRateDuration5YearNumber',\n",
       " 'EffectiveKeyRateDuration7YearNumber',\n",
       " 'InstrumentCouponRate',\n",
       " 'OptionAdjustedSpreadBasisPoint',\n",
       " 'ProjectedWeightedAverageCouponNumber',\n",
       " 'ProjectedWeightedAverageLifeEquivalentCPRNumber',\n",
       " 'ProjectedWeightedAverageLifeEquivalentPSANumber',\n",
       " 'WeightedAverageLifeNumber',\n",
       " 'WeightedAverageLifetoMaturityNumber',\n",
       " 'WeightedAverageLifetoWorstNumber',\n",
       " 'YieldToWorstSpreadToMaturityNumber',\n",
       " 'YieldToWorstWithSinkingFundPercent',\n",
       " 'YieldtoMaturityPercent',\n",
       " 'ZeroVolatilityAverageLifeNumber']"
      ]
     },
     "execution_count": 46,
     "metadata": {},
     "output_type": "execute_result"
    }
   ],
   "source": [
    "g0_headers"
   ]
  },
  {
   "cell_type": "code",
   "execution_count": 47,
   "metadata": {},
   "outputs": [
    {
     "data": {
      "text/plain": [
       "['FICustomUSDMarketValue',\n",
       " 'AlternativeOptionAdjustedSpreadBasisPoint',\n",
       " 'EffectiveKeyRateDuration10YearNumber',\n",
       " 'EffectiveKeyRateDuration15YearNumber',\n",
       " 'EffectiveKeyRateDuration1YearNumber',\n",
       " 'EffectiveKeyRateDuration20YearNumber',\n",
       " 'EffectiveKeyRateDuration25YearNumber',\n",
       " 'EffectiveKeyRateDuration2YearNumber',\n",
       " 'EffectiveKeyRateDuration30YearNumber',\n",
       " 'EffectiveKeyRateDuration3MonthNumber',\n",
       " 'EffectiveKeyRateDuration3YearNumber',\n",
       " 'EffectiveKeyRateDuration40YearNumber',\n",
       " 'EffectiveKeyRateDuration50YearNumber',\n",
       " 'EffectiveKeyRateDuration5YearNumber',\n",
       " 'EffectiveKeyRateDuration7YearNumber',\n",
       " 'InstrumentCouponRate',\n",
       " 'OptionAdjustedSpreadBasisPoint',\n",
       " 'ProjectedWeightedAverageCouponNumber',\n",
       " 'ProjectedWeightedAverageLifeEquivalentCPRNumber',\n",
       " 'ProjectedWeightedAverageLifeEquivalentPSANumber',\n",
       " 'WeightedAverageLifeNumber',\n",
       " 'WeightedAverageLifetoMaturityNumber',\n",
       " 'WeightedAverageLifetoWorstNumber',\n",
       " 'YieldToWorstSpreadToMaturityNumber',\n",
       " 'YieldToWorstWithSinkingFundPercent',\n",
       " 'YieldtoMaturityPercent',\n",
       " 'ZeroVolatilityAverageLifeNumber']"
      ]
     },
     "execution_count": 47,
     "metadata": {},
     "output_type": "execute_result"
    }
   ],
   "source": [
    "key_cols"
   ]
  },
  {
   "cell_type": "code",
   "execution_count": 52,
   "metadata": {},
   "outputs": [
    {
     "data": {
      "text/html": [
       "<div>\n",
       "<style scoped>\n",
       "    .dataframe tbody tr th:only-of-type {\n",
       "        vertical-align: middle;\n",
       "    }\n",
       "\n",
       "    .dataframe tbody tr th {\n",
       "        vertical-align: top;\n",
       "    }\n",
       "\n",
       "    .dataframe thead th {\n",
       "        text-align: right;\n",
       "    }\n",
       "</style>\n",
       "<table border=\"1\" class=\"dataframe\">\n",
       "  <thead>\n",
       "    <tr style=\"text-align: right;\">\n",
       "      <th></th>\n",
       "      <th>Features</th>\n",
       "      <th>Feature Importance</th>\n",
       "    </tr>\n",
       "  </thead>\n",
       "  <tbody>\n",
       "    <tr>\n",
       "      <th>0</th>\n",
       "      <td>FICustomUSDMarketValue</td>\n",
       "      <td>0.51</td>\n",
       "    </tr>\n",
       "    <tr>\n",
       "      <th>1</th>\n",
       "      <td>EffectiveKeyRateDuration3MonthNumber</td>\n",
       "      <td>0.09</td>\n",
       "    </tr>\n",
       "    <tr>\n",
       "      <th>2</th>\n",
       "      <td>InstrumentCouponRate</td>\n",
       "      <td>0.07</td>\n",
       "    </tr>\n",
       "    <tr>\n",
       "      <th>3</th>\n",
       "      <td>EffectiveKeyRateDuration1YearNumber</td>\n",
       "      <td>0.06</td>\n",
       "    </tr>\n",
       "    <tr>\n",
       "      <th>4</th>\n",
       "      <td>AlternativeOptionAdjustedSpreadBasisPoint</td>\n",
       "      <td>0.06</td>\n",
       "    </tr>\n",
       "  </tbody>\n",
       "</table>\n",
       "</div>"
      ],
      "text/plain": [
       "                                    Features  Feature Importance\n",
       "0                     FICustomUSDMarketValue                0.51\n",
       "1       EffectiveKeyRateDuration3MonthNumber                0.09\n",
       "2                       InstrumentCouponRate                0.07\n",
       "3        EffectiveKeyRateDuration1YearNumber                0.06\n",
       "4  AlternativeOptionAdjustedSpreadBasisPoint                0.06"
      ]
     },
     "execution_count": 52,
     "metadata": {},
     "output_type": "execute_result"
    }
   ],
   "source": [
    "feature_importances0 = rf0.feature_importances_\n",
    "headers0 = g0_headers\n",
    "\n",
    "g0_data = {'Features': headers0, 'Feature Importance':feature_importances0}\n",
    "\n",
    "g0_features = pd.DataFrame(g0_data, columns=['Features', 'Feature Importance'])\n",
    "g0_features = g0_features.sort_values(by='Feature Importance', ascending=False).reset_index(drop=True)\n",
    "g0_features.head()"
   ]
  },
  {
   "cell_type": "code",
   "execution_count": null,
   "metadata": {},
   "outputs": [],
   "source": []
  },
  {
   "cell_type": "code",
   "execution_count": null,
   "metadata": {},
   "outputs": [],
   "source": []
  },
  {
   "cell_type": "code",
   "execution_count": null,
   "metadata": {},
   "outputs": [],
   "source": []
  },
  {
   "cell_type": "code",
   "execution_count": 49,
   "metadata": {},
   "outputs": [
    {
     "ename": "NameError",
     "evalue": "name 'feat_labels' is not defined",
     "output_type": "error",
     "traceback": [
      "\u001b[1;31m---------------------------------------------------------------------------\u001b[0m",
      "\u001b[1;31mNameError\u001b[0m                                 Traceback (most recent call last)",
      "\u001b[1;32m<ipython-input-49-078cb6c5e64a>\u001b[0m in \u001b[0;36m<module>\u001b[1;34m\u001b[0m\n\u001b[1;32m----> 1\u001b[1;33m \u001b[1;32mfor\u001b[0m \u001b[0mfeature\u001b[0m \u001b[1;32min\u001b[0m \u001b[0mzip\u001b[0m\u001b[1;33m(\u001b[0m\u001b[0mfeat_labels\u001b[0m\u001b[1;33m,\u001b[0m \u001b[0mrf_clf\u001b[0m\u001b[1;33m.\u001b[0m\u001b[0mfeature_importances_\u001b[0m\u001b[1;33m)\u001b[0m\u001b[1;33m:\u001b[0m\u001b[1;33m\u001b[0m\u001b[0m\n\u001b[0m\u001b[0;32m      2\u001b[0m     \u001b[0mprint\u001b[0m\u001b[1;33m(\u001b[0m\u001b[0mfeature\u001b[0m\u001b[1;33m)\u001b[0m\u001b[1;33m\u001b[0m\u001b[0m\n",
      "\u001b[1;31mNameError\u001b[0m: name 'feat_labels' is not defined"
     ]
    }
   ],
   "source": [
    "for feature in zip(feat_labels, rf_clf.feature_importances_):\n",
    "    print(feature)"
   ]
  },
  {
   "cell_type": "code",
   "execution_count": null,
   "metadata": {},
   "outputs": [],
   "source": [
    "sfm = SelectFromModel(rf_clf, threshold=0.15)\n",
    "\n",
    "sfm.fit(X_scaled, y)"
   ]
  },
  {
   "cell_type": "code",
   "execution_count": null,
   "metadata": {},
   "outputs": [],
   "source": [
    "for feature in sfm.get_support(indices=True):\n",
    "    print(feat_labels[feature])"
   ]
  },
  {
   "cell_type": "code",
   "execution_count": null,
   "metadata": {},
   "outputs": [],
   "source": []
  },
  {
   "cell_type": "code",
   "execution_count": null,
   "metadata": {},
   "outputs": [],
   "source": []
  },
  {
   "cell_type": "code",
   "execution_count": null,
   "metadata": {},
   "outputs": [],
   "source": []
  },
  {
   "cell_type": "code",
   "execution_count": null,
   "metadata": {},
   "outputs": [],
   "source": []
  },
  {
   "cell_type": "code",
   "execution_count": null,
   "metadata": {},
   "outputs": [],
   "source": []
  },
  {
   "cell_type": "code",
   "execution_count": null,
   "metadata": {},
   "outputs": [],
   "source": []
  },
  {
   "cell_type": "code",
   "execution_count": null,
   "metadata": {},
   "outputs": [],
   "source": []
  },
  {
   "cell_type": "code",
   "execution_count": null,
   "metadata": {},
   "outputs": [],
   "source": [
    "from sklearn import datasets\n",
    "\n",
    "# Load the iris dataset\n",
    "iris = datasets.load_iris()\n",
    "\n",
    "# Create a list of feature names\n",
    "feat_labels = ['Sepal Length','Sepal Width','Petal Length','Petal Width']\n",
    "\n",
    "# Create X from the features\n",
    "X = iris.data\n",
    "\n",
    "# Create y from output\n",
    "y = iris.target"
   ]
  },
  {
   "cell_type": "code",
   "execution_count": null,
   "metadata": {},
   "outputs": [],
   "source": [
    "iris"
   ]
  },
  {
   "cell_type": "code",
   "execution_count": null,
   "metadata": {},
   "outputs": [],
   "source": [
    "# Split the data into 40% test and 60% training\n",
    "X_train, X_test, y_train, y_test = train_test_split(X, y, test_size=0.4, random_state=0)"
   ]
  },
  {
   "cell_type": "code",
   "execution_count": null,
   "metadata": {},
   "outputs": [],
   "source": [
    "# Create a random forest classifier\n",
    "clf = RandomForestClassifier(n_estimators=10000, random_state=0, n_jobs=-1)\n",
    "\n",
    "# Train the classifier\n",
    "clf.fit(X_train, y_train)\n",
    "\n",
    "# Print the name and gini importance of each feature\n",
    "for feature in zip(feat_labels, clf.feature_importances_):\n",
    "    print(feature)"
   ]
  },
  {
   "cell_type": "code",
   "execution_count": null,
   "metadata": {},
   "outputs": [],
   "source": []
  },
  {
   "cell_type": "code",
   "execution_count": null,
   "metadata": {},
   "outputs": [],
   "source": []
  },
  {
   "cell_type": "code",
   "execution_count": null,
   "metadata": {},
   "outputs": [],
   "source": []
  },
  {
   "cell_type": "code",
   "execution_count": null,
   "metadata": {},
   "outputs": [],
   "source": []
  },
  {
   "cell_type": "code",
   "execution_count": null,
   "metadata": {},
   "outputs": [],
   "source": []
  },
  {
   "cell_type": "code",
   "execution_count": null,
   "metadata": {},
   "outputs": [],
   "source": []
  },
  {
   "cell_type": "code",
   "execution_count": null,
   "metadata": {},
   "outputs": [],
   "source": []
  },
  {
   "cell_type": "code",
   "execution_count": null,
   "metadata": {},
   "outputs": [],
   "source": []
  },
  {
   "cell_type": "markdown",
   "metadata": {},
   "source": [
    " "
   ]
  },
  {
   "cell_type": "markdown",
   "metadata": {},
   "source": [
    "#### Group 1"
   ]
  },
  {
   "cell_type": "code",
   "execution_count": null,
   "metadata": {},
   "outputs": [],
   "source": [
    "group_1[ref_cols]"
   ]
  },
  {
   "cell_type": "code",
   "execution_count": null,
   "metadata": {},
   "outputs": [],
   "source": [
    "#group_1[key_cols].mean().plot(kind='barh', figsize=(12,10))"
   ]
  },
  {
   "cell_type": "markdown",
   "metadata": {},
   "source": [
    "#### Top 10 Features (Group 1)"
   ]
  },
  {
   "cell_type": "code",
   "execution_count": null,
   "metadata": {},
   "outputs": [],
   "source": [
    "# Scale the features\n",
    "group1_scaled = scaler.fit_transform(group_1[key_cols])\n",
    "\n",
    "# Instantiate the PCA for Feature Selection\n",
    "pca_group1 = PCA(n_components=1)\n",
    "pca_group1.fit_transform(group1_scaled)\n",
    "\n",
    "# Cumulative Explained Variance\n",
    "group1_explainedvariance = round(pca_group1.explained_variance_ratio_.sum(), 4)\n",
    "group1_column = \"\"\"PC1 (Explained Variance: {})\"\"\".format(group1_explainedvariance)\n",
    "\n",
    "# Instantiate the Dataframe\n",
    "group1_features = pd.DataFrame(data=pca_group1.components_, \n",
    "                               columns=group_1[key_cols].columns.values, \n",
    "                               index=[group1_column]).T.sort_values(by=group1_column, ascending=False).head(10)\n",
    "\n",
    "group1_features"
   ]
  },
  {
   "cell_type": "markdown",
   "metadata": {},
   "source": [
    "#### Feature Selection Using Random Forest"
   ]
  },
  {
   "cell_type": "code",
   "execution_count": null,
   "metadata": {},
   "outputs": [],
   "source": []
  },
  {
   "cell_type": "code",
   "execution_count": null,
   "metadata": {},
   "outputs": [],
   "source": []
  },
  {
   "cell_type": "code",
   "execution_count": null,
   "metadata": {},
   "outputs": [],
   "source": []
  },
  {
   "cell_type": "markdown",
   "metadata": {},
   "source": [
    " "
   ]
  },
  {
   "cell_type": "markdown",
   "metadata": {},
   "source": [
    "#### Group 2"
   ]
  },
  {
   "cell_type": "code",
   "execution_count": null,
   "metadata": {},
   "outputs": [],
   "source": [
    "group_2[ref_cols]"
   ]
  },
  {
   "cell_type": "code",
   "execution_count": null,
   "metadata": {},
   "outputs": [],
   "source": [
    "#group_2[key_cols].mean().plot(kind='barh', figsize=(12,10))"
   ]
  },
  {
   "cell_type": "markdown",
   "metadata": {},
   "source": [
    "#### Top 10 Features (Group 2)"
   ]
  },
  {
   "cell_type": "code",
   "execution_count": null,
   "metadata": {},
   "outputs": [],
   "source": [
    "# Scale the features\n",
    "group2_scaled = scaler.fit_transform(group_2[key_cols])\n",
    "\n",
    "# Instantiate the PCA for Feature Selection\n",
    "pca_group2 = PCA(n_components=1)\n",
    "pca_group2.fit_transform(group2_scaled)\n",
    "\n",
    "# Cumulative Explained Variance\n",
    "group2_explainedvariance = round(pca_group2.explained_variance_ratio_.sum(), 4)\n",
    "group2_column = \"\"\"PC1 (Explained Variance: {})\"\"\".format(group2_explainedvariance)\n",
    "\n",
    "# Instantiate the Dataframe\n",
    "group2_features = pd.DataFrame(data=pca_group2.components_, \n",
    "                               columns=group_2[key_cols].columns.values, \n",
    "                               index=[group2_column]).T.sort_values(by=group2_column, ascending=False).head(10)\n",
    "\n",
    "group2_features"
   ]
  },
  {
   "cell_type": "markdown",
   "metadata": {},
   "source": [
    " "
   ]
  },
  {
   "cell_type": "markdown",
   "metadata": {},
   "source": [
    "#### Group 3"
   ]
  },
  {
   "cell_type": "code",
   "execution_count": null,
   "metadata": {},
   "outputs": [],
   "source": [
    "group_3[ref_cols]"
   ]
  },
  {
   "cell_type": "code",
   "execution_count": null,
   "metadata": {},
   "outputs": [],
   "source": [
    "#group_3[key_cols].mean().plot(kind='barh', figsize=(12,10))"
   ]
  },
  {
   "cell_type": "markdown",
   "metadata": {},
   "source": [
    "#### Top 10 Features (Group 3)"
   ]
  },
  {
   "cell_type": "code",
   "execution_count": null,
   "metadata": {},
   "outputs": [],
   "source": [
    "# Scale the features\n",
    "group3_scaled = scaler.fit_transform(group_3[key_cols])\n",
    "\n",
    "# Instantiate the PCA for Feature Selection\n",
    "pca_group3 = PCA(n_components=1)\n",
    "pca_group3.fit_transform(group3_scaled)\n",
    "\n",
    "# Cumulative Explained Variance\n",
    "group3_explainedvariance = round(pca_group3.explained_variance_ratio_.sum(), 4)\n",
    "group3_column = \"\"\"PC1 (Explained Variance: {})\"\"\".format(group3_explainedvariance)\n",
    "\n",
    "# Instantiate the Dataframe\n",
    "group3_features = pd.DataFrame(data=pca_group3.components_, \n",
    "                               columns=group_3[key_cols].columns.values, \n",
    "                               index=[group3_column]).T.sort_values(by=group3_column, ascending=False).head(10)\n",
    "\n",
    "group3_features"
   ]
  },
  {
   "cell_type": "markdown",
   "metadata": {},
   "source": [
    " "
   ]
  },
  {
   "cell_type": "markdown",
   "metadata": {},
   "source": [
    "#### Group 4"
   ]
  },
  {
   "cell_type": "code",
   "execution_count": null,
   "metadata": {},
   "outputs": [],
   "source": [
    "group_4[ref_cols]"
   ]
  },
  {
   "cell_type": "code",
   "execution_count": null,
   "metadata": {},
   "outputs": [],
   "source": [
    "#group_4[key_cols].mean().plot(kind='barh', figsize=(12,10))"
   ]
  },
  {
   "cell_type": "markdown",
   "metadata": {},
   "source": [
    "#### Top 10 Features (Group 4)"
   ]
  },
  {
   "cell_type": "code",
   "execution_count": null,
   "metadata": {},
   "outputs": [],
   "source": [
    "# Scale the features\n",
    "group4_scaled = scaler.fit_transform(group_4[key_cols])\n",
    "\n",
    "# Instantiate the PCA for Feature Selection\n",
    "pca_group4 = PCA(n_components=1)\n",
    "pca_group4.fit_transform(group4_scaled)\n",
    "\n",
    "# Cumulative Explained Variance\n",
    "group4_explainedvariance = round(pca_group4.explained_variance_ratio_.sum(), 4)\n",
    "group4_column = \"\"\"PC1 (Explained Variance: {})\"\"\".format(group4_explainedvariance)\n",
    "\n",
    "# Instantiate the Dataframe\n",
    "group4_features = pd.DataFrame(data=pca_group4.components_, \n",
    "                               columns=group_4[key_cols].columns.values, \n",
    "                               index=[group4_column]).T.sort_values(by=group4_column, ascending=False).head(10)\n",
    "\n",
    "group4_features"
   ]
  },
  {
   "cell_type": "markdown",
   "metadata": {},
   "source": [
    " "
   ]
  },
  {
   "cell_type": "markdown",
   "metadata": {},
   "source": [
    "#### Group 5"
   ]
  },
  {
   "cell_type": "code",
   "execution_count": null,
   "metadata": {},
   "outputs": [],
   "source": [
    "group_5[ref_cols]"
   ]
  },
  {
   "cell_type": "code",
   "execution_count": null,
   "metadata": {},
   "outputs": [],
   "source": [
    "#group_5[key_cols].mean().plot(kind='barh', figsize=(12,10))"
   ]
  },
  {
   "cell_type": "markdown",
   "metadata": {},
   "source": [
    "#### Top 10 Features (Group 5)"
   ]
  },
  {
   "cell_type": "code",
   "execution_count": null,
   "metadata": {},
   "outputs": [],
   "source": [
    "# Scale the features\n",
    "group5_scaled = scaler.fit_transform(group_5[key_cols])\n",
    "\n",
    "# Instantiate the PCA for Feature Selection\n",
    "pca_group5 = PCA(n_components=1)\n",
    "pca_group5.fit_transform(group5_scaled)\n",
    "\n",
    "# Cumulative Explained Variance\n",
    "group5_explainedvariance = round(pca_group5.explained_variance_ratio_.sum(), 4)\n",
    "group5_column = \"\"\"PC1 (Explained Variance: {})\"\"\".format(group5_explainedvariance)\n",
    "\n",
    "# Instantiate the Dataframe\n",
    "group5_features = pd.DataFrame(data=pca_group5.components_, \n",
    "                               columns=group_5[key_cols].columns.values, \n",
    "                               index=[group5_column]).T.sort_values(by=group5_column, ascending=False).head(10)\n",
    "\n",
    "group5_features"
   ]
  },
  {
   "cell_type": "markdown",
   "metadata": {},
   "source": [
    " "
   ]
  },
  {
   "cell_type": "markdown",
   "metadata": {},
   "source": [
    "#### Group 6"
   ]
  },
  {
   "cell_type": "code",
   "execution_count": null,
   "metadata": {},
   "outputs": [],
   "source": [
    "group_6[ref_cols]"
   ]
  },
  {
   "cell_type": "code",
   "execution_count": null,
   "metadata": {},
   "outputs": [],
   "source": [
    "# group_6_df[key_cols].mean().plot(kind='barh', figsize=(12,10))"
   ]
  },
  {
   "cell_type": "markdown",
   "metadata": {},
   "source": [
    "#### Top 10 Features (Group 6)"
   ]
  },
  {
   "cell_type": "code",
   "execution_count": null,
   "metadata": {},
   "outputs": [],
   "source": [
    "# Scale the features\n",
    "group6_scaled = scaler.fit_transform(group_6[key_cols])\n",
    "\n",
    "# Instantiate the PCA for Feature Selection\n",
    "pca_group6 = PCA(n_components=1)\n",
    "pca_group6.fit_transform(group6_scaled)\n",
    "\n",
    "# Cumulative Explained Variance\n",
    "group6_explainedvariance = round(pca_group6.explained_variance_ratio_.sum(), 4)\n",
    "group6_column = \"\"\"PC1 (Explained Variance: {})\"\"\".format(group6_explainedvariance)\n",
    "\n",
    "# Instantiate the Dataframe\n",
    "group6_features = pd.DataFrame(data=pca_group6.components_, \n",
    "                               columns=group_6[key_cols].columns.values, \n",
    "                               index=[group6_column]).T.sort_values(by=group6_column, ascending=False).head(10)\n",
    "\n",
    "group6_features"
   ]
  },
  {
   "cell_type": "markdown",
   "metadata": {},
   "source": [
    " "
   ]
  },
  {
   "cell_type": "markdown",
   "metadata": {},
   "source": [
    "#### Group 7"
   ]
  },
  {
   "cell_type": "code",
   "execution_count": null,
   "metadata": {},
   "outputs": [],
   "source": [
    "group_7[ref_cols]"
   ]
  },
  {
   "cell_type": "code",
   "execution_count": null,
   "metadata": {},
   "outputs": [],
   "source": [
    "# group_7_df[key_cols].mean().plot(kind='barh', figsize=(12,10))"
   ]
  },
  {
   "cell_type": "markdown",
   "metadata": {},
   "source": [
    "#### Top 10 Features (Group 7)"
   ]
  },
  {
   "cell_type": "code",
   "execution_count": null,
   "metadata": {},
   "outputs": [],
   "source": [
    "# Scale the features\n",
    "group7_scaled = scaler.fit_transform(group_7[key_cols])\n",
    "\n",
    "# Instantiate the PCA for Feature Selection\n",
    "pca_group7 = PCA(n_components=1)\n",
    "pca_group7.fit_transform(group7_scaled)\n",
    "\n",
    "# Cumulative Explained Variance\n",
    "group7_explainedvariance = round(pca_group7.explained_variance_ratio_.sum(), 4)\n",
    "group7_column = \"\"\"PC1 (Explained Variance: {})\"\"\".format(group7_explainedvariance)\n",
    "\n",
    "# Instantiate the Dataframe\n",
    "group7_features = pd.DataFrame(data=pca_group7.components_, \n",
    "                               columns=group_7[key_cols].columns.values, \n",
    "                               index=[group7_column]).T.sort_values(by=group7_column, ascending=False).head(10)\n",
    "\n",
    "group7_features"
   ]
  },
  {
   "cell_type": "markdown",
   "metadata": {},
   "source": [
    " "
   ]
  },
  {
   "cell_type": "markdown",
   "metadata": {},
   "source": [
    "#### Group 8"
   ]
  },
  {
   "cell_type": "code",
   "execution_count": null,
   "metadata": {},
   "outputs": [],
   "source": [
    "group_8[ref_cols]"
   ]
  },
  {
   "cell_type": "code",
   "execution_count": null,
   "metadata": {},
   "outputs": [],
   "source": [
    "# group_8_df[key_cols].mean().plot(kind='barh', figsize=(12,10))"
   ]
  },
  {
   "cell_type": "markdown",
   "metadata": {},
   "source": [
    "#### Top 10 Features (Group 8)"
   ]
  },
  {
   "cell_type": "code",
   "execution_count": null,
   "metadata": {},
   "outputs": [],
   "source": [
    "# Scale the features\n",
    "group8_scaled = scaler.fit_transform(group_8[key_cols])\n",
    "\n",
    "# Instantiate the PCA for Feature Selection\n",
    "pca_group8 = PCA(n_components=1)\n",
    "pca_group8.fit_transform(group8_scaled)\n",
    "\n",
    "# Cumulative Explained Variance\n",
    "group8_explainedvariance = round(pca_group8.explained_variance_ratio_.sum(), 4)\n",
    "group8_column = \"\"\"PC1 (Explained Variance: {})\"\"\".format(group8_explainedvariance)\n",
    "\n",
    "# Instantiate the Dataframe\n",
    "group8_features = pd.DataFrame(data=pca_group8.components_, \n",
    "                               columns=group_8[key_cols].columns.values, \n",
    "                               index=[group8_column]).T.sort_values(by=group8_column, ascending=False).head(10)\n",
    "\n",
    "group8_features"
   ]
  },
  {
   "cell_type": "code",
   "execution_count": null,
   "metadata": {},
   "outputs": [],
   "source": []
  },
  {
   "cell_type": "code",
   "execution_count": null,
   "metadata": {},
   "outputs": [],
   "source": []
  },
  {
   "cell_type": "code",
   "execution_count": null,
   "metadata": {},
   "outputs": [],
   "source": []
  },
  {
   "cell_type": "code",
   "execution_count": null,
   "metadata": {},
   "outputs": [],
   "source": []
  },
  {
   "cell_type": "code",
   "execution_count": null,
   "metadata": {},
   "outputs": [],
   "source": []
  },
  {
   "cell_type": "code",
   "execution_count": null,
   "metadata": {},
   "outputs": [],
   "source": []
  },
  {
   "cell_type": "markdown",
   "metadata": {},
   "source": [
    " "
   ]
  },
  {
   "cell_type": "markdown",
   "metadata": {},
   "source": [
    "#### Add the (X,Y) coordinates for Data Visualization"
   ]
  },
  {
   "cell_type": "code",
   "execution_count": null,
   "metadata": {},
   "outputs": [],
   "source": [
    "X_pca[:5] #LDA_reduced_df[:5] X_pca[:5]"
   ]
  },
  {
   "cell_type": "code",
   "execution_count": null,
   "metadata": {},
   "outputs": [],
   "source": [
    "Dimension_X = []\n",
    "Dimension_y = []\n",
    "\n",
    "for value in list(X_pca): #LDA_reduced_df\n",
    "    Dimension_X.append(value[0])\n",
    "    Dimension_y.append(value[1])\n",
    "    \n",
    "df['X'] = Dimension_X\n",
    "df['Y'] = Dimension_y"
   ]
  },
  {
   "cell_type": "markdown",
   "metadata": {},
   "source": [
    "### Export to Excel"
   ]
  },
  {
   "cell_type": "code",
   "execution_count": null,
   "metadata": {},
   "outputs": [],
   "source": [
    "os.getcwd()"
   ]
  },
  {
   "cell_type": "code",
   "execution_count": null,
   "metadata": {},
   "outputs": [],
   "source": [
    "#os.chdir('fi-analytics')"
   ]
  },
  {
   "cell_type": "code",
   "execution_count": null,
   "metadata": {},
   "outputs": [],
   "source": [
    "df.to_excel('data/clustering_output.xlsx')"
   ]
  },
  {
   "cell_type": "markdown",
   "metadata": {},
   "source": [
    "### Historical Group Analysis"
   ]
  },
  {
   "cell_type": "code",
   "execution_count": null,
   "metadata": {},
   "outputs": [],
   "source": [
    "# merge_df = pd.merge(data, df[ref_cols], on=['InvestmentPortfolioName','PortfolioName'], how='right')\n",
    "# merge_df.shape"
   ]
  },
  {
   "cell_type": "code",
   "execution_count": null,
   "metadata": {},
   "outputs": [],
   "source": [
    "# os.getcwd()"
   ]
  },
  {
   "cell_type": "code",
   "execution_count": null,
   "metadata": {},
   "outputs": [],
   "source": [
    "#os.chdir('data')"
   ]
  },
  {
   "cell_type": "code",
   "execution_count": null,
   "metadata": {},
   "outputs": [],
   "source": [
    "# merge_df.to_excel('historical-groups_output.xlsx')"
   ]
  },
  {
   "cell_type": "markdown",
   "metadata": {},
   "source": [
    "## Feature Importance Dataframes"
   ]
  },
  {
   "cell_type": "code",
   "execution_count": null,
   "metadata": {},
   "outputs": [],
   "source": [
    "# prep_df['Groups'] = cluster_output['labels']\n",
    "\n",
    "# group0 = (prep_df['Groups'] == 0)\n",
    "# group1 = (prep_df['Groups'] == 1)\n",
    "# group2 = (prep_df['Groups'] == 2)\n",
    "# group3 = (prep_df['Groups'] == 3)\n",
    "# group4 = (prep_df['Groups'] == 4)\n",
    "\n",
    "# group0_df = prep_df[group0]\n",
    "# group1_df = prep_df[group1]\n",
    "# group2_df = prep_df[group2]\n",
    "# group3_df = prep_df[group3]\n",
    "# group4_df = prep_df[group4]"
   ]
  },
  {
   "cell_type": "markdown",
   "metadata": {},
   "source": [
    "### Group 0 Feature Importance"
   ]
  },
  {
   "cell_type": "code",
   "execution_count": null,
   "metadata": {},
   "outputs": [],
   "source": [
    "# group0_df.drop('Groups', axis=1, inplace=True)\n",
    "\n",
    "# y0 = group0_df['TotalUSDMarketValue']\n",
    "# x0 = group0_df.drop('TotalUSDMarketValue', axis=1)\n",
    "\n",
    "# clf_0 = RandomForestRegressor()\n",
    "\n",
    "# clf_0.fit(x0, y0)\n",
    "\n",
    "# clf_0.score(x0, y0)\n",
    "\n",
    "# feature_importances0 = clf_0.feature_importances_\n",
    "# headers0 = x0.columns.values\n",
    "\n",
    "# g0_data = {'Features': headers0, 'Feature Importance':feature_importances0}\n",
    "\n",
    "# g0_features = pd.DataFrame(g0_data, columns=['Features', 'Feature Importance'])\n",
    "# g0_features = g0_features.sort_values(by='Feature Importance', ascending=False).reset_index(drop=True)\n",
    "# g0_features.head()"
   ]
  },
  {
   "cell_type": "code",
   "execution_count": null,
   "metadata": {},
   "outputs": [],
   "source": []
  },
  {
   "cell_type": "code",
   "execution_count": null,
   "metadata": {},
   "outputs": [],
   "source": []
  },
  {
   "cell_type": "markdown",
   "metadata": {},
   "source": [
    "### Group 1 Feature Importance"
   ]
  },
  {
   "cell_type": "code",
   "execution_count": null,
   "metadata": {},
   "outputs": [],
   "source": [
    "# group1_df.drop('Groups', axis=1, inplace=True)\n",
    "\n",
    "# y1 = group1_df['TotalUSDMarketValue']\n",
    "# x1 = group1_df.drop('TotalUSDMarketValue', axis=1)\n",
    "\n",
    "# clf_1 = RandomForestRegressor()\n",
    "\n",
    "# clf_1.fit(x1, y1)\n",
    "\n",
    "# clf_1.score(x1, y1)\n",
    "\n",
    "# feature_importances1 = clf_1.feature_importances_\n",
    "# headers1 = x1.columns.values\n",
    "\n",
    "# g1_data = {'Features': headers1, 'Feature Importance':feature_importances1}\n",
    "\n",
    "# g1_features = pd.DataFrame(g1_data, columns=['Features', 'Feature Importance'])\n",
    "# g1_features = g1_features.sort_values(by='Feature Importance', ascending=False).reset_index(drop=True)\n",
    "# g1_features.head()"
   ]
  },
  {
   "cell_type": "code",
   "execution_count": null,
   "metadata": {},
   "outputs": [],
   "source": []
  },
  {
   "cell_type": "code",
   "execution_count": null,
   "metadata": {},
   "outputs": [],
   "source": []
  },
  {
   "cell_type": "code",
   "execution_count": null,
   "metadata": {},
   "outputs": [],
   "source": []
  },
  {
   "cell_type": "code",
   "execution_count": null,
   "metadata": {},
   "outputs": [],
   "source": []
  },
  {
   "cell_type": "code",
   "execution_count": null,
   "metadata": {},
   "outputs": [],
   "source": []
  },
  {
   "cell_type": "code",
   "execution_count": null,
   "metadata": {},
   "outputs": [],
   "source": []
  },
  {
   "cell_type": "code",
   "execution_count": null,
   "metadata": {},
   "outputs": [],
   "source": []
  },
  {
   "cell_type": "code",
   "execution_count": null,
   "metadata": {},
   "outputs": [],
   "source": []
  },
  {
   "cell_type": "code",
   "execution_count": null,
   "metadata": {},
   "outputs": [],
   "source": []
  },
  {
   "cell_type": "code",
   "execution_count": null,
   "metadata": {},
   "outputs": [],
   "source": []
  },
  {
   "cell_type": "code",
   "execution_count": null,
   "metadata": {},
   "outputs": [],
   "source": []
  },
  {
   "cell_type": "code",
   "execution_count": null,
   "metadata": {},
   "outputs": [],
   "source": []
  },
  {
   "cell_type": "code",
   "execution_count": null,
   "metadata": {},
   "outputs": [],
   "source": []
  },
  {
   "cell_type": "code",
   "execution_count": null,
   "metadata": {},
   "outputs": [],
   "source": []
  },
  {
   "cell_type": "code",
   "execution_count": null,
   "metadata": {},
   "outputs": [],
   "source": []
  },
  {
   "cell_type": "code",
   "execution_count": null,
   "metadata": {},
   "outputs": [],
   "source": []
  },
  {
   "cell_type": "code",
   "execution_count": null,
   "metadata": {},
   "outputs": [],
   "source": []
  },
  {
   "cell_type": "code",
   "execution_count": null,
   "metadata": {},
   "outputs": [],
   "source": []
  },
  {
   "cell_type": "code",
   "execution_count": null,
   "metadata": {},
   "outputs": [],
   "source": []
  },
  {
   "cell_type": "code",
   "execution_count": null,
   "metadata": {},
   "outputs": [],
   "source": []
  },
  {
   "cell_type": "code",
   "execution_count": null,
   "metadata": {},
   "outputs": [],
   "source": []
  }
 ],
 "metadata": {
  "kernelspec": {
   "display_name": "Python 3",
   "language": "python",
   "name": "python3"
  },
  "language_info": {
   "codemirror_mode": {
    "name": "ipython",
    "version": 3
   },
   "file_extension": ".py",
   "mimetype": "text/x-python",
   "name": "python",
   "nbconvert_exporter": "python",
   "pygments_lexer": "ipython3",
   "version": "3.6.5"
  }
 },
 "nbformat": 4,
 "nbformat_minor": 4
}

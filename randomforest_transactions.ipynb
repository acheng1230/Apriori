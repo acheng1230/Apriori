{
 "cells": [
  {
   "cell_type": "markdown",
   "metadata": {},
   "source": [
    "## Feature Importance with Random Forest Regressor"
   ]
  },
  {
   "cell_type": "markdown",
   "metadata": {},
   "source": [
    "### Import Packages"
   ]
  },
  {
   "cell_type": "code",
   "execution_count": 22,
   "metadata": {},
   "outputs": [],
   "source": [
    "import numpy as np\n",
    "import pandas as pd\n",
    "import seaborn as sns\n",
    "import matplotlib.pyplot as plt\n",
    "from sklearn.impute import SimpleImputer\n",
    "from mlxtend.frequent_patterns import apriori\n",
    "from sklearn.preprocessing import StandardScaler\n",
    "from sklearn.ensemble import RandomForestRegressor\n",
    "from sklearn.model_selection import train_test_split\n",
    "%matplotlib inline\n",
    "\n",
    "plt.rcParams[\"figure.figsize\"] = (40,25)"
   ]
  },
  {
   "cell_type": "markdown",
   "metadata": {},
   "source": [
    "### Import Data"
   ]
  },
  {
   "cell_type": "code",
   "execution_count": 2,
   "metadata": {},
   "outputs": [
    {
     "data": {
      "text/html": [
       "<div>\n",
       "<style scoped>\n",
       "    .dataframe tbody tr th:only-of-type {\n",
       "        vertical-align: middle;\n",
       "    }\n",
       "\n",
       "    .dataframe tbody tr th {\n",
       "        vertical-align: top;\n",
       "    }\n",
       "\n",
       "    .dataframe thead th {\n",
       "        text-align: right;\n",
       "    }\n",
       "</style>\n",
       "<table border=\"1\" class=\"dataframe\">\n",
       "  <thead>\n",
       "    <tr style=\"text-align: right;\">\n",
       "      <th></th>\n",
       "      <th>ACCT_NUM</th>\n",
       "      <th>MO_NUM</th>\n",
       "      <th>ORG_NAME</th>\n",
       "      <th>SHARE_CLASS</th>\n",
       "      <th>TRANSACTION_CLASS</th>\n",
       "      <th>COMP_TYPE</th>\n",
       "      <th>TRANSACTION_TYPE</th>\n",
       "      <th>AMOUNT</th>\n",
       "      <th>ZIP_CODE</th>\n",
       "      <th>CLIENT_SEGMENT</th>\n",
       "      <th>ADVISOR_CLASS</th>\n",
       "    </tr>\n",
       "  </thead>\n",
       "  <tbody>\n",
       "    <tr>\n",
       "      <th>0</th>\n",
       "      <td>1000126</td>\n",
       "      <td>201701</td>\n",
       "      <td>Lincoln Financial Advisors Corporation</td>\n",
       "      <td>U1</td>\n",
       "      <td>Retail</td>\n",
       "      <td>Commissions</td>\n",
       "      <td>Exchange In</td>\n",
       "      <td>14374899</td>\n",
       "      <td>60565</td>\n",
       "      <td>Cross Channel</td>\n",
       "      <td>Home Office</td>\n",
       "    </tr>\n",
       "    <tr>\n",
       "      <th>1</th>\n",
       "      <td>1000126</td>\n",
       "      <td>201701</td>\n",
       "      <td>Wells Fargo Advisors Private Client Group</td>\n",
       "      <td>R-6</td>\n",
       "      <td>Retail</td>\n",
       "      <td>Percent AUM</td>\n",
       "      <td>Redemption</td>\n",
       "      <td>41360988</td>\n",
       "      <td>92016</td>\n",
       "      <td>Retirement Plan</td>\n",
       "      <td>Team</td>\n",
       "    </tr>\n",
       "    <tr>\n",
       "      <th>2</th>\n",
       "      <td>1000124</td>\n",
       "      <td>201701</td>\n",
       "      <td>Merrill Lynch Pierce Fenner and Smith Inc</td>\n",
       "      <td>A</td>\n",
       "      <td>Insurance</td>\n",
       "      <td>Commissions</td>\n",
       "      <td>Sales</td>\n",
       "      <td>72848968</td>\n",
       "      <td>60565</td>\n",
       "      <td>Cross Channel</td>\n",
       "      <td>Team</td>\n",
       "    </tr>\n",
       "    <tr>\n",
       "      <th>3</th>\n",
       "      <td>1000122</td>\n",
       "      <td>201701</td>\n",
       "      <td>Morgan Stanley Smith Barney LLC</td>\n",
       "      <td>R-1</td>\n",
       "      <td>Retail</td>\n",
       "      <td>Performance Based</td>\n",
       "      <td>Sales</td>\n",
       "      <td>86306659</td>\n",
       "      <td>90210</td>\n",
       "      <td>Retirement Plan</td>\n",
       "      <td>Team</td>\n",
       "    </tr>\n",
       "    <tr>\n",
       "      <th>4</th>\n",
       "      <td>1000121</td>\n",
       "      <td>201701</td>\n",
       "      <td>Wells Fargo Advisors Private Client Group</td>\n",
       "      <td>A</td>\n",
       "      <td>Insurance</td>\n",
       "      <td>Fixed Fee</td>\n",
       "      <td>Exchange In</td>\n",
       "      <td>22503066</td>\n",
       "      <td>90210</td>\n",
       "      <td>Financial Conglomerate</td>\n",
       "      <td>Rep</td>\n",
       "    </tr>\n",
       "  </tbody>\n",
       "</table>\n",
       "</div>"
      ],
      "text/plain": [
       "  ACCT_NUM  MO_NUM                                   ORG_NAME SHARE_CLASS  \\\n",
       "0  1000126  201701     Lincoln Financial Advisors Corporation          U1   \n",
       "1  1000126  201701  Wells Fargo Advisors Private Client Group         R-6   \n",
       "2  1000124  201701  Merrill Lynch Pierce Fenner and Smith Inc           A   \n",
       "3  1000122  201701            Morgan Stanley Smith Barney LLC         R-1   \n",
       "4  1000121  201701  Wells Fargo Advisors Private Client Group           A   \n",
       "\n",
       "  TRANSACTION_CLASS          COMP_TYPE TRANSACTION_TYPE    AMOUNT ZIP_CODE  \\\n",
       "0            Retail        Commissions      Exchange In  14374899    60565   \n",
       "1            Retail        Percent AUM       Redemption  41360988    92016   \n",
       "2         Insurance        Commissions            Sales  72848968    60565   \n",
       "3            Retail  Performance Based            Sales  86306659    90210   \n",
       "4         Insurance          Fixed Fee      Exchange In  22503066    90210   \n",
       "\n",
       "           CLIENT_SEGMENT ADVISOR_CLASS  \n",
       "0           Cross Channel   Home Office  \n",
       "1         Retirement Plan          Team  \n",
       "2           Cross Channel          Team  \n",
       "3         Retirement Plan          Team  \n",
       "4  Financial Conglomerate           Rep  "
      ]
     },
     "execution_count": 2,
     "metadata": {},
     "output_type": "execute_result"
    }
   ],
   "source": [
    "df = pd.io.parsers.read_csv('Transactions.csv', dtype={'ACCT_NUM':'str',\n",
    "                                                       'MO_NUM':'str',\n",
    "                                                       'ZIP_CODE': 'str'})\n",
    "df.head()"
   ]
  },
  {
   "cell_type": "markdown",
   "metadata": {},
   "source": [
    "#### Data Exploration"
   ]
  },
  {
   "cell_type": "code",
   "execution_count": 3,
   "metadata": {},
   "outputs": [
    {
     "name": "stdout",
     "output_type": "stream",
     "text": [
      "11\n"
     ]
    }
   ],
   "source": [
    "headers = df.columns.values\n",
    "print(len(headers))"
   ]
  },
  {
   "cell_type": "code",
   "execution_count": 4,
   "metadata": {},
   "outputs": [
    {
     "name": "stdout",
     "output_type": "stream",
     "text": [
      "<class 'pandas.core.frame.DataFrame'>\n",
      "RangeIndex: 2834 entries, 0 to 2833\n",
      "Data columns (total 11 columns):\n",
      "ACCT_NUM             2834 non-null object\n",
      "MO_NUM               2834 non-null object\n",
      "ORG_NAME             2834 non-null object\n",
      "SHARE_CLASS          2834 non-null object\n",
      "TRANSACTION_CLASS    2834 non-null object\n",
      "COMP_TYPE            2834 non-null object\n",
      "TRANSACTION_TYPE     2834 non-null object\n",
      "AMOUNT               2834 non-null int64\n",
      "ZIP_CODE             2834 non-null object\n",
      "CLIENT_SEGMENT       2834 non-null object\n",
      "ADVISOR_CLASS        2834 non-null object\n",
      "dtypes: int64(1), object(10)\n",
      "memory usage: 243.6+ KB\n"
     ]
    }
   ],
   "source": [
    "df.info()"
   ]
  },
  {
   "cell_type": "code",
   "execution_count": 5,
   "metadata": {},
   "outputs": [
    {
     "data": {
      "text/html": [
       "<div>\n",
       "<style scoped>\n",
       "    .dataframe tbody tr th:only-of-type {\n",
       "        vertical-align: middle;\n",
       "    }\n",
       "\n",
       "    .dataframe tbody tr th {\n",
       "        vertical-align: top;\n",
       "    }\n",
       "\n",
       "    .dataframe thead th {\n",
       "        text-align: right;\n",
       "    }\n",
       "</style>\n",
       "<table border=\"1\" class=\"dataframe\">\n",
       "  <thead>\n",
       "    <tr style=\"text-align: right;\">\n",
       "      <th></th>\n",
       "      <th>AMOUNT</th>\n",
       "    </tr>\n",
       "  </thead>\n",
       "  <tbody>\n",
       "    <tr>\n",
       "      <th>count</th>\n",
       "      <td>2.834000e+03</td>\n",
       "    </tr>\n",
       "    <tr>\n",
       "      <th>mean</th>\n",
       "      <td>5.093286e+07</td>\n",
       "    </tr>\n",
       "    <tr>\n",
       "      <th>std</th>\n",
       "      <td>2.855644e+07</td>\n",
       "    </tr>\n",
       "    <tr>\n",
       "      <th>min</th>\n",
       "      <td>1.033442e+06</td>\n",
       "    </tr>\n",
       "    <tr>\n",
       "      <th>25%</th>\n",
       "      <td>2.625079e+07</td>\n",
       "    </tr>\n",
       "    <tr>\n",
       "      <th>50%</th>\n",
       "      <td>5.117281e+07</td>\n",
       "    </tr>\n",
       "    <tr>\n",
       "      <th>75%</th>\n",
       "      <td>7.614849e+07</td>\n",
       "    </tr>\n",
       "    <tr>\n",
       "      <th>max</th>\n",
       "      <td>9.996835e+07</td>\n",
       "    </tr>\n",
       "  </tbody>\n",
       "</table>\n",
       "</div>"
      ],
      "text/plain": [
       "             AMOUNT\n",
       "count  2.834000e+03\n",
       "mean   5.093286e+07\n",
       "std    2.855644e+07\n",
       "min    1.033442e+06\n",
       "25%    2.625079e+07\n",
       "50%    5.117281e+07\n",
       "75%    7.614849e+07\n",
       "max    9.996835e+07"
      ]
     },
     "execution_count": 5,
     "metadata": {},
     "output_type": "execute_result"
    }
   ],
   "source": [
    "df.describe()"
   ]
  },
  {
   "cell_type": "markdown",
   "metadata": {},
   "source": [
    "### Data Preprocessing"
   ]
  },
  {
   "cell_type": "code",
   "execution_count": 7,
   "metadata": {},
   "outputs": [],
   "source": [
    "preprocess_columns = ['SHARE_CLASS', 'TRANSACTION_CLASS', 'ZIP_CODE', 'CLIENT_SEGMENT',\n",
    "                      'ACCT_NUM','MO_NUM',  'COMP_TYPE', 'TRANSACTION_TYPE', 'ADVISOR_CLASS' ] # ORG_NAME"
   ]
  },
  {
   "cell_type": "code",
   "execution_count": 8,
   "metadata": {},
   "outputs": [
    {
     "data": {
      "text/html": [
       "<div>\n",
       "<style scoped>\n",
       "    .dataframe tbody tr th:only-of-type {\n",
       "        vertical-align: middle;\n",
       "    }\n",
       "\n",
       "    .dataframe tbody tr th {\n",
       "        vertical-align: top;\n",
       "    }\n",
       "\n",
       "    .dataframe thead th {\n",
       "        text-align: right;\n",
       "    }\n",
       "</style>\n",
       "<table border=\"1\" class=\"dataframe\">\n",
       "  <thead>\n",
       "    <tr style=\"text-align: right;\">\n",
       "      <th></th>\n",
       "      <th>SHARE_CLASS_A</th>\n",
       "      <th>SHARE_CLASS_F-1</th>\n",
       "      <th>SHARE_CLASS_F-2</th>\n",
       "      <th>SHARE_CLASS_R-1</th>\n",
       "      <th>SHARE_CLASS_R-2</th>\n",
       "      <th>SHARE_CLASS_R-6</th>\n",
       "      <th>SHARE_CLASS_U1</th>\n",
       "      <th>SHARE_CLASS_U2</th>\n",
       "      <th>TRANSACTION_CLASS_Institutional</th>\n",
       "      <th>TRANSACTION_CLASS_Insurance</th>\n",
       "      <th>...</th>\n",
       "      <th>COMP_TYPE_Fixed Fee</th>\n",
       "      <th>COMP_TYPE_Percent AUM</th>\n",
       "      <th>COMP_TYPE_Performance Based</th>\n",
       "      <th>TRANSACTION_TYPE_Exchange In</th>\n",
       "      <th>TRANSACTION_TYPE_Exchange Out</th>\n",
       "      <th>TRANSACTION_TYPE_Redemption</th>\n",
       "      <th>TRANSACTION_TYPE_Sales</th>\n",
       "      <th>ADVISOR_CLASS_Home Office</th>\n",
       "      <th>ADVISOR_CLASS_Rep</th>\n",
       "      <th>ADVISOR_CLASS_Team</th>\n",
       "    </tr>\n",
       "  </thead>\n",
       "  <tbody>\n",
       "    <tr>\n",
       "      <th>0</th>\n",
       "      <td>0</td>\n",
       "      <td>0</td>\n",
       "      <td>0</td>\n",
       "      <td>0</td>\n",
       "      <td>0</td>\n",
       "      <td>0</td>\n",
       "      <td>1</td>\n",
       "      <td>0</td>\n",
       "      <td>0</td>\n",
       "      <td>0</td>\n",
       "      <td>...</td>\n",
       "      <td>0</td>\n",
       "      <td>0</td>\n",
       "      <td>0</td>\n",
       "      <td>1</td>\n",
       "      <td>0</td>\n",
       "      <td>0</td>\n",
       "      <td>0</td>\n",
       "      <td>1</td>\n",
       "      <td>0</td>\n",
       "      <td>0</td>\n",
       "    </tr>\n",
       "    <tr>\n",
       "      <th>1</th>\n",
       "      <td>0</td>\n",
       "      <td>0</td>\n",
       "      <td>0</td>\n",
       "      <td>0</td>\n",
       "      <td>0</td>\n",
       "      <td>1</td>\n",
       "      <td>0</td>\n",
       "      <td>0</td>\n",
       "      <td>0</td>\n",
       "      <td>0</td>\n",
       "      <td>...</td>\n",
       "      <td>0</td>\n",
       "      <td>1</td>\n",
       "      <td>0</td>\n",
       "      <td>0</td>\n",
       "      <td>0</td>\n",
       "      <td>1</td>\n",
       "      <td>0</td>\n",
       "      <td>0</td>\n",
       "      <td>0</td>\n",
       "      <td>1</td>\n",
       "    </tr>\n",
       "    <tr>\n",
       "      <th>2</th>\n",
       "      <td>1</td>\n",
       "      <td>0</td>\n",
       "      <td>0</td>\n",
       "      <td>0</td>\n",
       "      <td>0</td>\n",
       "      <td>0</td>\n",
       "      <td>0</td>\n",
       "      <td>0</td>\n",
       "      <td>0</td>\n",
       "      <td>1</td>\n",
       "      <td>...</td>\n",
       "      <td>0</td>\n",
       "      <td>0</td>\n",
       "      <td>0</td>\n",
       "      <td>0</td>\n",
       "      <td>0</td>\n",
       "      <td>0</td>\n",
       "      <td>1</td>\n",
       "      <td>0</td>\n",
       "      <td>0</td>\n",
       "      <td>1</td>\n",
       "    </tr>\n",
       "    <tr>\n",
       "      <th>3</th>\n",
       "      <td>0</td>\n",
       "      <td>0</td>\n",
       "      <td>0</td>\n",
       "      <td>1</td>\n",
       "      <td>0</td>\n",
       "      <td>0</td>\n",
       "      <td>0</td>\n",
       "      <td>0</td>\n",
       "      <td>0</td>\n",
       "      <td>0</td>\n",
       "      <td>...</td>\n",
       "      <td>0</td>\n",
       "      <td>0</td>\n",
       "      <td>1</td>\n",
       "      <td>0</td>\n",
       "      <td>0</td>\n",
       "      <td>0</td>\n",
       "      <td>1</td>\n",
       "      <td>0</td>\n",
       "      <td>0</td>\n",
       "      <td>1</td>\n",
       "    </tr>\n",
       "    <tr>\n",
       "      <th>4</th>\n",
       "      <td>1</td>\n",
       "      <td>0</td>\n",
       "      <td>0</td>\n",
       "      <td>0</td>\n",
       "      <td>0</td>\n",
       "      <td>0</td>\n",
       "      <td>0</td>\n",
       "      <td>0</td>\n",
       "      <td>0</td>\n",
       "      <td>1</td>\n",
       "      <td>...</td>\n",
       "      <td>1</td>\n",
       "      <td>0</td>\n",
       "      <td>0</td>\n",
       "      <td>1</td>\n",
       "      <td>0</td>\n",
       "      <td>0</td>\n",
       "      <td>0</td>\n",
       "      <td>0</td>\n",
       "      <td>1</td>\n",
       "      <td>0</td>\n",
       "    </tr>\n",
       "  </tbody>\n",
       "</table>\n",
       "<p>5 rows × 56 columns</p>\n",
       "</div>"
      ],
      "text/plain": [
       "   SHARE_CLASS_A  SHARE_CLASS_F-1  SHARE_CLASS_F-2  SHARE_CLASS_R-1  \\\n",
       "0              0                0                0                0   \n",
       "1              0                0                0                0   \n",
       "2              1                0                0                0   \n",
       "3              0                0                0                1   \n",
       "4              1                0                0                0   \n",
       "\n",
       "   SHARE_CLASS_R-2  SHARE_CLASS_R-6  SHARE_CLASS_U1  SHARE_CLASS_U2  \\\n",
       "0                0                0               1               0   \n",
       "1                0                1               0               0   \n",
       "2                0                0               0               0   \n",
       "3                0                0               0               0   \n",
       "4                0                0               0               0   \n",
       "\n",
       "   TRANSACTION_CLASS_Institutional  TRANSACTION_CLASS_Insurance  \\\n",
       "0                                0                            0   \n",
       "1                                0                            0   \n",
       "2                                0                            1   \n",
       "3                                0                            0   \n",
       "4                                0                            1   \n",
       "\n",
       "          ...          COMP_TYPE_Fixed Fee  COMP_TYPE_Percent AUM  \\\n",
       "0         ...                            0                      0   \n",
       "1         ...                            0                      1   \n",
       "2         ...                            0                      0   \n",
       "3         ...                            0                      0   \n",
       "4         ...                            1                      0   \n",
       "\n",
       "   COMP_TYPE_Performance Based  TRANSACTION_TYPE_Exchange In  \\\n",
       "0                            0                             1   \n",
       "1                            0                             0   \n",
       "2                            0                             0   \n",
       "3                            1                             0   \n",
       "4                            0                             1   \n",
       "\n",
       "   TRANSACTION_TYPE_Exchange Out  TRANSACTION_TYPE_Redemption  \\\n",
       "0                              0                            0   \n",
       "1                              0                            1   \n",
       "2                              0                            0   \n",
       "3                              0                            0   \n",
       "4                              0                            0   \n",
       "\n",
       "   TRANSACTION_TYPE_Sales  ADVISOR_CLASS_Home Office  ADVISOR_CLASS_Rep  \\\n",
       "0                       0                          1                  0   \n",
       "1                       0                          0                  0   \n",
       "2                       1                          0                  0   \n",
       "3                       1                          0                  0   \n",
       "4                       0                          0                  1   \n",
       "\n",
       "   ADVISOR_CLASS_Team  \n",
       "0                   0  \n",
       "1                   1  \n",
       "2                   1  \n",
       "3                   1  \n",
       "4                   0  \n",
       "\n",
       "[5 rows x 56 columns]"
      ]
     },
     "execution_count": 8,
     "metadata": {},
     "output_type": "execute_result"
    }
   ],
   "source": [
    "prep_df = df[preprocess_columns]\n",
    "prep_dummies_df = pd.get_dummies(prep_df)\n",
    "prep_dummies_df.head()"
   ]
  },
  {
   "cell_type": "code",
   "execution_count": 9,
   "metadata": {},
   "outputs": [],
   "source": [
    "prep_dummies_df['AMOUNT'] = df['AMOUNT']"
   ]
  },
  {
   "cell_type": "code",
   "execution_count": 10,
   "metadata": {},
   "outputs": [],
   "source": [
    "target = prep_dummies_df['AMOUNT']\n",
    "features = prep_dummies_df.drop('AMOUNT', axis=1)"
   ]
  },
  {
   "cell_type": "code",
   "execution_count": 11,
   "metadata": {},
   "outputs": [
    {
     "name": "stderr",
     "output_type": "stream",
     "text": [
      "C:\\Users\\alexcheng2\\AppData\\Local\\Continuum\\anaconda3\\lib\\site-packages\\sklearn\\preprocessing\\data.py:645: DataConversionWarning: Data with input dtype uint8 were all converted to float64 by StandardScaler.\n",
      "  return self.partial_fit(X, y)\n",
      "C:\\Users\\alexcheng2\\AppData\\Local\\Continuum\\anaconda3\\lib\\site-packages\\sklearn\\base.py:464: DataConversionWarning: Data with input dtype uint8 were all converted to float64 by StandardScaler.\n",
      "  return self.fit(X, **fit_params).transform(X)\n"
     ]
    }
   ],
   "source": [
    "scaler = StandardScaler()\n",
    "\n",
    "scaled_features = scaler.fit_transform(features)"
   ]
  },
  {
   "cell_type": "code",
   "execution_count": 12,
   "metadata": {},
   "outputs": [],
   "source": [
    "X_train, X_test, y_train, y_test = train_test_split(scaled_features, target, test_size=0.3, random_state=0)"
   ]
  },
  {
   "cell_type": "markdown",
   "metadata": {},
   "source": [
    "### Random Forest Regression"
   ]
  },
  {
   "cell_type": "code",
   "execution_count": 13,
   "metadata": {},
   "outputs": [
    {
     "name": "stderr",
     "output_type": "stream",
     "text": [
      "C:\\Users\\alexcheng2\\AppData\\Local\\Continuum\\anaconda3\\lib\\site-packages\\sklearn\\ensemble\\forest.py:246: FutureWarning: The default value of n_estimators will change from 10 in version 0.20 to 100 in 0.22.\n",
      "  \"10 in version 0.20 to 100 in 0.22.\", FutureWarning)\n"
     ]
    },
    {
     "data": {
      "text/plain": [
       "RandomForestRegressor(bootstrap=True, criterion='mse', max_depth=None,\n",
       "           max_features='auto', max_leaf_nodes=None,\n",
       "           min_impurity_decrease=0.0, min_impurity_split=None,\n",
       "           min_samples_leaf=1, min_samples_split=2,\n",
       "           min_weight_fraction_leaf=0.0, n_estimators=10, n_jobs=None,\n",
       "           oob_score=False, random_state=None, verbose=0, warm_start=False)"
      ]
     },
     "execution_count": 13,
     "metadata": {},
     "output_type": "execute_result"
    }
   ],
   "source": [
    "clf = RandomForestRegressor()\n",
    "\n",
    "clf.fit(X_train, y_train)"
   ]
  },
  {
   "cell_type": "code",
   "execution_count": 14,
   "metadata": {},
   "outputs": [
    {
     "data": {
      "text/plain": [
       "-0.16087532192011245"
      ]
     },
     "execution_count": 14,
     "metadata": {},
     "output_type": "execute_result"
    }
   ],
   "source": [
    "# Prediction score (out of 100)\n",
    "clf.score(X_test, y_test)"
   ]
  },
  {
   "cell_type": "markdown",
   "metadata": {},
   "source": [
    "### Feature Importance"
   ]
  },
  {
   "cell_type": "code",
   "execution_count": 32,
   "metadata": {},
   "outputs": [],
   "source": [
    "#sorted(zip(clf.feature_importances_, features.columns.values), reverse=True)"
   ]
  },
  {
   "cell_type": "code",
   "execution_count": 28,
   "metadata": {},
   "outputs": [],
   "source": [
    "feature_importances = clf.feature_importances_\n",
    "headers = features.columns.values\n",
    "\n",
    "data = {\"Features\":headers, \"Feature Importances\":feature_importances}\n",
    "\n",
    "features_df = pd.DataFrame(data, columns=['Features', 'Feature Importances'])\n",
    "features_df = features_df.sort_values(by='Feature Importances', ascending=False).reset_index(drop=True)"
   ]
  },
  {
   "cell_type": "code",
   "execution_count": 33,
   "metadata": {},
   "outputs": [
    {
     "data": {
      "text/html": [
       "<div>\n",
       "<style scoped>\n",
       "    .dataframe tbody tr th:only-of-type {\n",
       "        vertical-align: middle;\n",
       "    }\n",
       "\n",
       "    .dataframe tbody tr th {\n",
       "        vertical-align: top;\n",
       "    }\n",
       "\n",
       "    .dataframe thead th {\n",
       "        text-align: right;\n",
       "    }\n",
       "</style>\n",
       "<table border=\"1\" class=\"dataframe\">\n",
       "  <thead>\n",
       "    <tr style=\"text-align: right;\">\n",
       "      <th></th>\n",
       "      <th>Features</th>\n",
       "      <th>Feature Importances</th>\n",
       "    </tr>\n",
       "  </thead>\n",
       "  <tbody>\n",
       "    <tr>\n",
       "      <th>0</th>\n",
       "      <td>TRANSACTION_TYPE_Exchange Out</td>\n",
       "      <td>0.024918</td>\n",
       "    </tr>\n",
       "    <tr>\n",
       "      <th>1</th>\n",
       "      <td>ZIP_CODE_92016</td>\n",
       "      <td>0.024374</td>\n",
       "    </tr>\n",
       "    <tr>\n",
       "      <th>2</th>\n",
       "      <td>ADVISOR_CLASS_Rep</td>\n",
       "      <td>0.024203</td>\n",
       "    </tr>\n",
       "    <tr>\n",
       "      <th>3</th>\n",
       "      <td>ADVISOR_CLASS_Team</td>\n",
       "      <td>0.023447</td>\n",
       "    </tr>\n",
       "    <tr>\n",
       "      <th>4</th>\n",
       "      <td>CLIENT_SEGMENT_Cross Channel</td>\n",
       "      <td>0.023014</td>\n",
       "    </tr>\n",
       "  </tbody>\n",
       "</table>\n",
       "</div>"
      ],
      "text/plain": [
       "                        Features  Feature Importances\n",
       "0  TRANSACTION_TYPE_Exchange Out             0.024918\n",
       "1                 ZIP_CODE_92016             0.024374\n",
       "2              ADVISOR_CLASS_Rep             0.024203\n",
       "3             ADVISOR_CLASS_Team             0.023447\n",
       "4   CLIENT_SEGMENT_Cross Channel             0.023014"
      ]
     },
     "execution_count": 33,
     "metadata": {},
     "output_type": "execute_result"
    }
   ],
   "source": [
    "features_df.head()"
   ]
  },
  {
   "cell_type": "code",
   "execution_count": 36,
   "metadata": {},
   "outputs": [
    {
     "data": {
      "text/plain": [
       "<matplotlib.axes._subplots.AxesSubplot at 0xf483d68>"
      ]
     },
     "execution_count": 36,
     "metadata": {},
     "output_type": "execute_result"
    },
    {
     "data": {
      "image/png": "[encoded data removed]",
      "text/plain": [
       "<matplotlib.figure.Figure at 0xf3f4da0>"
      ]
     },
     "metadata": {
      "needs_background": "light"
     },
     "output_type": "display_data"
    }
   ],
   "source": [
    "features_df.plot(x='Features', kind='bar', figsize=(20,12), fontsize=12)"
   ]
  },
  {
   "cell_type": "code",
   "execution_count": null,
   "metadata": {},
   "outputs": [],
   "source": []
  },
  {
   "cell_type": "code",
   "execution_count": null,
   "metadata": {},
   "outputs": [],
   "source": []
  },
  {
   "cell_type": "code",
   "execution_count": null,
   "metadata": {},
   "outputs": [],
   "source": []
  }
 ],
 "metadata": {
  "kernelspec": {
   "display_name": "Python 3",
   "language": "python",
   "name": "python3"
  },
  "language_info": {
   "codemirror_mode": {
    "name": "ipython",
    "version": 3
   },
   "file_extension": ".py",
   "mimetype": "text/x-python",
   "name": "python",
   "nbconvert_exporter": "python",
   "pygments_lexer": "ipython3",
   "version": "3.6.4"
  }
 },
 "nbformat": 4,
 "nbformat_minor": 2
}
